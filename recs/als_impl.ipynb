{
 "cells": [
  {
   "cell_type": "markdown",
   "metadata": {},
   "source": [
    "# Weighted ALS from Hu, Koren and Volinksky's paper\n",
    "\n",
    "http://yifanhu.net/PUB/cf.pdf"
   ]
  },
  {
   "cell_type": "code",
   "execution_count": 126,
   "metadata": {
    "collapsed": true
   },
   "outputs": [],
   "source": [
    "import os\n",
    "import pandas as pd\n",
    "from scipy.sparse import coo_matrix, csr_matrix, diags\n",
    "from scipy.linalg import cho_solve, cho_factor, solve\n",
    "import numpy as np\n",
    "\n",
    "import matplotlib.pyplot as plt\n",
    "from sklearn.metrics import log_loss, accuracy_score, roc_curve, roc_auc_score\n",
    "from sklearn.utils.extmath import safe_sparse_dot\n",
    "import time\n",
    "\n",
    "%matplotlib inline"
   ]
  },
  {
   "cell_type": "code",
   "execution_count": 22,
   "metadata": {
    "collapsed": false
   },
   "outputs": [
    {
     "name": "stdout",
     "output_type": "stream",
     "text": [
      "The autoreload extension is already loaded. To reload it, use:\n",
      "  %reload_ext autoreload\n"
     ]
    }
   ],
   "source": [
    "%load_ext autoreload\n",
    "%autoreload 2"
   ]
  },
  {
   "cell_type": "code",
   "execution_count": 23,
   "metadata": {
    "collapsed": true
   },
   "outputs": [],
   "source": [
    "lastfm_file = \"/Users/timwee/projects/datasets/lastfm-dataset-360K/usersha1-artmbid-artname-plays.tsv\""
   ]
  },
  {
   "cell_type": "code",
   "execution_count": 24,
   "metadata": {
    "collapsed": true
   },
   "outputs": [],
   "source": [
    "user_to_idx = {}\n",
    "artist_to_idx = {}\n",
    "users, artists, num_played = [], [], []\n",
    "with open(lastfm_file, 'r') as f:\n",
    "    for line in f:\n",
    "        tup = line.strip().split(\"\\t\")\n",
    "        usr, artist, cur_num_played = tup[0], tup[1], float(tup[3])\n",
    "        if usr not in user_to_idx:\n",
    "            user_to_idx[usr] = len(user_to_idx)\n",
    "        if artist not in artist_to_idx:\n",
    "            artist_to_idx[artist] = len(artist_to_idx)\n",
    "        users.append(user_to_idx[usr])\n",
    "        artists.append(artist_to_idx[artist])\n",
    "        num_played.append(cur_num_played)"
   ]
  },
  {
   "cell_type": "code",
   "execution_count": 25,
   "metadata": {
    "collapsed": true
   },
   "outputs": [],
   "source": [
    "del user_to_idx, artist_to_idx"
   ]
  },
  {
   "cell_type": "markdown",
   "metadata": {},
   "source": [
    "## hyperparams and initialization"
   ]
  },
  {
   "cell_type": "code",
   "execution_count": 26,
   "metadata": {
    "collapsed": true
   },
   "outputs": [],
   "source": [
    "num_factors = 20\n",
    "alpha = 40\n",
    "epsilon = 1e-7\n",
    "regularization = 1e-2"
   ]
  },
  {
   "cell_type": "code",
   "execution_count": 27,
   "metadata": {
    "collapsed": false
   },
   "outputs": [
    {
     "data": {
      "text/plain": [
       "(1.0, 0.0)"
      ]
     },
     "execution_count": 27,
     "metadata": {},
     "output_type": "execute_result"
    }
   ],
   "source": [
    "1 + alpha * np.log(1 + 0/epsilon), alpha * np.log(1 + 0/epsilon)"
   ]
  },
  {
   "cell_type": "code",
   "execution_count": 28,
   "metadata": {
    "collapsed": true
   },
   "outputs": [],
   "source": [
    "# we don't add the 1 in the confidence formula, bec. we will subtract it out later anyway\n",
    "#   This lets us keep the sparse matrix, otherwise 0 becomes 1\n",
    "# just remember to add 1 when calculating b when solving the linear equation to C\n",
    "confidence_vals = alpha * np.log(1 + np.array(num_played) / epsilon)"
   ]
  },
  {
   "cell_type": "code",
   "execution_count": 29,
   "metadata": {
    "collapsed": true
   },
   "outputs": [],
   "source": [
    "item_users_mat = coo_matrix((confidence_vals, (artists, users))).tocsr()        "
   ]
  },
  {
   "cell_type": "code",
   "execution_count": 30,
   "metadata": {
    "collapsed": true
   },
   "outputs": [],
   "source": [
    "user_items_mat = item_users_mat.T"
   ]
  },
  {
   "cell_type": "code",
   "execution_count": 31,
   "metadata": {
    "collapsed": true
   },
   "outputs": [],
   "source": [
    "num_users, num_items = user_items_mat.shape"
   ]
  },
  {
   "cell_type": "markdown",
   "metadata": {
    "collapsed": true
   },
   "source": [
    "## bench one row\n",
    "\n",
    "For each row $x_u$ (user or item) we solve a linear equation. \n",
    "\\begin{align}\n",
    "x_u = (Y^TC^uY + \\lambda I)^{-1} Y^TC^up(u)\n",
    "\\end{align}\n",
    "\n",
    "- $C^{u}$ is a diagonal matrix where $C_{ii}^{u} = c_{ui}$, the \"confidence\" value of the user with the item.\n",
    "- $Y$ is the item factors matrix (with dimensions **num_items X num_factors**)\n",
    "- $\\lambda$ is the regularization parameter\n",
    "- $p(u)$ is the vector of preferences for user $u$. (this is the binarized values from the rating matrix.\n",
    "\n",
    "\n",
    "#### confidence value and preferences\n",
    "\n",
    "Hu, et. al computed $c_{ui}$ in 2 different ways:\n",
    "1. $c_{ui} = 1 + \\alpha r_{ui}$\n",
    "    - $\\alpha$ was set to 40 in the paper.\n",
    "2. $c_{ui} = 1 + \\alpha \\log{({1 + r_{ui}} / \\epsilon)}$\n",
    "\n",
    "\n",
    "#### Rewrite of equation for faster runtime\n",
    "We can rewrite $Y^TC^uY$ to avoid the two big matrix multiplies with $Y$ everytime for each user:\n",
    "$$(Y^TC^uY) = (Y^T(I + C^u - I)Y) = Y^TY + Y^T(C^u - I)Y\\\\$$\n",
    "\n",
    "This means that we can compute $Y^TY$ once and reuse it.\n",
    "\n",
    "**Note:** This is mostly bec. of $C^u$ having values for all entries (a min value of 1 because the confidence formulas above have a $+ 1$). Since we don't add this $1$ to our confidence values when we form the matrix, we can directly compute $(Y^TC^uY)$\n",
    "\n",
    "#### solving for $x_u$ \n",
    "To solve for $x_u$, we treat the first part of the equation above as the inverse, and the latter part as $b$, $x_u = A^{-1}b$, and pass it to a linear equations solver. \n",
    "\n",
    "Note that A is hermitian/symmetric and positive definite, so it is eligible to use a Cholesky decomposition solver.\n",
    "\\begin{align}\n",
    "A = Y^TC^uY + \\lambda I\\\\\n",
    "A = Y^TY + Y^T(C^u - I)Y + \\lambda I\\\\\n",
    "b = Y^TC^up(u)\\\\\n",
    "\\end{align}\n",
    "\n"
   ]
  },
  {
   "cell_type": "markdown",
   "metadata": {},
   "source": [
    "### for user"
   ]
  },
  {
   "cell_type": "code",
   "execution_count": 33,
   "metadata": {
    "collapsed": false
   },
   "outputs": [],
   "source": [
    "# grab a single row\n",
    "usr_idx = 0"
   ]
  },
  {
   "cell_type": "markdown",
   "metadata": {},
   "source": [
    "##### compute A's 3 terms\n",
    "1. $Y^T(C^u - I)Y$\n",
    "    - since we didn't add a 1 for the initial confidence matrix, we don't have to worry about the $I$,  so this becomes $Y^T(C^u)Y$\n",
    "    - $C^u$ is a diagonal matrix with values on the diagonal (i,i) corresponding to confidence values between user $u$, and item $i$ \n",
    "    - since $C^u$ is a diagonal matrix, and $Y^T$ is dense, we don't have to do a dot product\n",
    "        - multiplying a dense matrix $T$ by a diagonal matrix $D$ just multiplies each row or column $i$ of $T$ by the $(i, i)$ element in D.\n",
    "        - use broadcasting instead. See https://stackoverflow.com/questions/13272453/multiplying-numpy-scipy-sparse-and-dense-matrices-efficiently\n",
    "2. $Y^TY$\n",
    "3. $\\lambda I$\n",
    "\n"
   ]
  },
  {
   "cell_type": "code",
   "execution_count": 34,
   "metadata": {
    "collapsed": true
   },
   "outputs": [],
   "source": [
    "Y = item_factors\n",
    "Yt = Y.T\n",
    "YtY = np.dot(Yt, Y) # we don't need this as noted above"
   ]
  },
  {
   "cell_type": "code",
   "execution_count": 61,
   "metadata": {
    "collapsed": false
   },
   "outputs": [],
   "source": [
    "def YtCuIY_mask(Cu, Y, usr_idx=0, subtract_identity=False):\n",
    "    \"\"\"\n",
    "    Remove zero elements for speed\n",
    "    (Yt (Cu - I) Y).shape should be (num_factors, num_factors)\n",
    "    Yt.shape == (num_factors, num_items)\n",
    "    Cu.shape == diag(num_items, num_items)\n",
    "    Y.shape == (num_items, num_factors)\n",
    "    \"\"\"\n",
    "    if subtract_identity: \n",
    "        Cu = Cu.copy()\n",
    "        Cu -= 1\n",
    "        Cu[Cu < epsilon] = 0.0\n",
    "    mask = Cu.nonzero()[0]#np.flatnonzero(Cu) # Cu.ravel().nonzero()[0]\n",
    "    Cu_masked = Cu[mask]\n",
    "    Y_masked = Y[mask,:]\n",
    "    CuY = Cu_masked[:,None] * Y_masked # broadcast\n",
    "    return Y_masked.T.dot(CuY)"
   ]
  },
  {
   "cell_type": "code",
   "execution_count": 62,
   "metadata": {
    "collapsed": false
   },
   "outputs": [],
   "source": [
    "def YtCuIY(Cu, Y, usr_idx=0, subtract_identity=False):\n",
    "    \"\"\"\n",
    "    (Yt (Cu - I) Y).shape should be (num_factors, num_factors)\n",
    "    Yt.shape == (num_factors, num_items)\n",
    "    Cu.shape == diag(num_items, num_items)\n",
    "    Y.shape == (num_items, num_factors)\n",
    "    \"\"\"\n",
    "    if subtract_identity:\n",
    "        Cu = Cu.copy()\n",
    "        Cu -= 1\n",
    "        Cu[Cu < epsilon] = 0.0\n",
    "    CuY = Cu[:,None] * Y # broadcasting\n",
    "    return Y.T.dot(CuY)"
   ]
  },
  {
   "cell_type": "code",
   "execution_count": 63,
   "metadata": {
    "collapsed": true
   },
   "outputs": [],
   "source": [
    "# Runs out of memory\n",
    "def YtCuIY_nobroadcast(Cu, Y, usr_idx=0, subtract_identity=False):\n",
    "    \"\"\"\n",
    "    (Yt (Cu - I) Y).shape should be (num_factors, num_factors)\n",
    "    Yt.shape == (num_factors, num_items)\n",
    "    Cu.shape == diag(num_items, num_items)\n",
    "    Y.shape == (num_items, num_factors)\n",
    "    \"\"\"\n",
    "    confidence_vals = Cu\n",
    "    if subtract_identity:\n",
    "        confidence_vals = Cu.copy()\n",
    "        confidence_vals -= 1\n",
    "        confidence_vals[confidence_vals < epsilon] = 0.0\n",
    "    Cu = sparse.diags(confidence_vals, [0])\n",
    "    return Y.T.dot(Cu).dot(Y)"
   ]
  },
  {
   "cell_type": "code",
   "execution_count": 64,
   "metadata": {
    "collapsed": true
   },
   "outputs": [],
   "source": [
    "Cu = user_items_mat[0,:].toarray().ravel()"
   ]
  },
  {
   "cell_type": "code",
   "execution_count": 65,
   "metadata": {
    "collapsed": false
   },
   "outputs": [
    {
     "name": "stdout",
     "output_type": "stream",
     "text": [
      "1000 loops, best of 3: 1.19 ms per loop\n",
      "100 loops, best of 3: 12.5 ms per loop\n"
     ]
    }
   ],
   "source": [
    "%timeit YtCuIY_mask(Cu, Y)\n",
    "%timeit YtCuIY(Cu, Y)"
   ]
  },
  {
   "cell_type": "code",
   "execution_count": 66,
   "metadata": {
    "collapsed": true
   },
   "outputs": [],
   "source": [
    "# runs out of memory\n",
    "#%timeit YtCuIY_nobroadcast(user_items_mat, Y)"
   ]
  },
  {
   "cell_type": "code",
   "execution_count": 67,
   "metadata": {
    "collapsed": false
   },
   "outputs": [
    {
     "data": {
      "text/plain": [
       "True"
      ]
     },
     "execution_count": 67,
     "metadata": {},
     "output_type": "execute_result"
    }
   ],
   "source": [
    "np.allclose(YtCuIY_mask(Cu, Y), YtCuIY(Cu, Y))"
   ]
  },
  {
   "cell_type": "markdown",
   "metadata": {},
   "source": [
    "##### compute $b = Y^TC^up(u)$\n",
    "\n",
    "Note that $p(u)$, a binarized (0/1) diagonal matrix is implicitly computed already (non-zero inside $C^u$)"
   ]
  },
  {
   "cell_type": "code",
   "execution_count": 140,
   "metadata": {
    "collapsed": true
   },
   "outputs": [],
   "source": [
    "# b.shape == (num_factors, num_factors)\n",
    "def compute_b(Cu, Y):\n",
    "    \"\"\"\n",
    "    Cu is a 1-d array of confidence values for a particular usr u, with all items i\n",
    "    \n",
    "    Expected shapes:\n",
    "    Cu.shape == (num_items,)\n",
    "    Y.shape == (num_items, num_factors)\n",
    "    \"\"\"\n",
    "    return (Y.T * (Cu + 1.0)).sum(axis=1) # broadcast"
   ]
  },
  {
   "cell_type": "code",
   "execution_count": 141,
   "metadata": {
    "collapsed": false
   },
   "outputs": [
    {
     "data": {
      "text/plain": [
       "((20, 160168), (160168,))"
      ]
     },
     "execution_count": 141,
     "metadata": {},
     "output_type": "execute_result"
    }
   ],
   "source": [
    "Y.T.shape, Cu.shape"
   ]
  },
  {
   "cell_type": "code",
   "execution_count": 142,
   "metadata": {
    "collapsed": false
   },
   "outputs": [
    {
     "data": {
      "text/plain": [
       "((20, 160168), (20,))"
      ]
     },
     "execution_count": 142,
     "metadata": {},
     "output_type": "execute_result"
    }
   ],
   "source": [
    "(Y.T * (Cu+1.0)).shape, (Y.T * (Cu+1.0)).sum(axis=1).shape"
   ]
  },
  {
   "cell_type": "code",
   "execution_count": 143,
   "metadata": {
    "collapsed": false
   },
   "outputs": [
    {
     "name": "stdout",
     "output_type": "stream",
     "text": [
      "100 loops, best of 3: 12.3 ms per loop\n"
     ]
    }
   ],
   "source": [
    "%timeit compute_b(Cu, Y)"
   ]
  },
  {
   "cell_type": "code",
   "execution_count": 144,
   "metadata": {
    "collapsed": false
   },
   "outputs": [
    {
     "data": {
      "text/plain": [
       "((20, 20), (20,))"
      ]
     },
     "execution_count": 144,
     "metadata": {},
     "output_type": "execute_result"
    }
   ],
   "source": [
    "A = YtCuIY_mask(Cu, Y)\n",
    "b = compute_b(Cu, Y)\n",
    "A.shape, b.shape"
   ]
  },
  {
   "cell_type": "code",
   "execution_count": 145,
   "metadata": {
    "collapsed": false
   },
   "outputs": [
    {
     "data": {
      "text/plain": [
       "((20,), array([ 0.34421006,  4.44470192, -1.87208381,  1.41074733, -2.05504313,\n",
       "        -1.9075228 ,  1.73939869, -0.8477629 ,  1.66443732,  0.27854569,\n",
       "         1.39802624,  2.73733409,  0.40485103, -4.00677536,  1.25697008,\n",
       "         0.36831876, -1.44033143,  0.42826174, -1.69081957, -0.36230996]))"
      ]
     },
     "execution_count": 145,
     "metadata": {},
     "output_type": "execute_result"
    }
   ],
   "source": [
    "c = cho_factor(A)\n",
    "x = cho_solve(c,b)\n",
    "x.shape, x"
   ]
  },
  {
   "cell_type": "code",
   "execution_count": 151,
   "metadata": {
    "collapsed": true
   },
   "outputs": [],
   "source": [
    "lambda_I = regularization * np.eye(num_factors) # + YtY\n",
    "def use_cho_solve(Cu, Y, lambda_I):\n",
    "    A = YtCuIY_mask(Cu, Y) + lambda_I\n",
    "    b = compute_b(Cu, Y)\n",
    "    c = cho_factor(A)\n",
    "    x = cho_solve(c,b)\n",
    "    return x"
   ]
  },
  {
   "cell_type": "code",
   "execution_count": 153,
   "metadata": {
    "collapsed": true
   },
   "outputs": [],
   "source": [
    "def gen_solve(Cu, Y, lambda_I):\n",
    "    A = YtCuIY_mask(Cu, Y) + lambda_I\n",
    "    b = compute_b(Cu, Y)\n",
    "    return solve(A, b)"
   ]
  },
  {
   "cell_type": "code",
   "execution_count": 154,
   "metadata": {
    "collapsed": false
   },
   "outputs": [
    {
     "data": {
      "text/plain": [
       "(20,)"
      ]
     },
     "execution_count": 154,
     "metadata": {},
     "output_type": "execute_result"
    }
   ],
   "source": [
    "use_cho_solve(Cu, Y, lambda_I).shape"
   ]
  },
  {
   "cell_type": "code",
   "execution_count": 155,
   "metadata": {
    "collapsed": false
   },
   "outputs": [
    {
     "data": {
      "text/plain": [
       "(20,)"
      ]
     },
     "execution_count": 155,
     "metadata": {},
     "output_type": "execute_result"
    }
   ],
   "source": [
    "gen_solve(Cu, Y, lambda_I).shape"
   ]
  },
  {
   "cell_type": "code",
   "execution_count": 156,
   "metadata": {
    "collapsed": false
   },
   "outputs": [
    {
     "name": "stdout",
     "output_type": "stream",
     "text": [
      "100 loops, best of 3: 13.7 ms per loop\n"
     ]
    }
   ],
   "source": [
    "%timeit use_cho_solve(Cu, Y, lambda_I)"
   ]
  },
  {
   "cell_type": "code",
   "execution_count": 157,
   "metadata": {
    "collapsed": false
   },
   "outputs": [
    {
     "name": "stdout",
     "output_type": "stream",
     "text": [
      "100 loops, best of 3: 14.1 ms per loop\n"
     ]
    }
   ],
   "source": [
    "%timeit gen_solve(Cu, Y, lambda_I)"
   ]
  },
  {
   "cell_type": "markdown",
   "metadata": {},
   "source": [
    "# Putting it All Together"
   ]
  },
  {
   "cell_type": "code",
   "execution_count": 159,
   "metadata": {
    "collapsed": true
   },
   "outputs": [],
   "source": [
    "Cui = user_items_mat\n",
    "Ciu = item_users_mat\n",
    "lambda_I = regularization * np.eye(num_factors) # + YtY"
   ]
  },
  {
   "cell_type": "code",
   "execution_count": 165,
   "metadata": {
    "collapsed": true
   },
   "outputs": [],
   "source": [
    "def single_pass(Cui, Y, lambda_I, num_u, num_factors):\n",
    "    result = np.zeros((num_u, num_factors))\n",
    "    for idx, Cu in enumerate(Cui):\n",
    "        result[idx] = use_cho_solve(Cu.toarray().ravel(), Y, lambda_I)\n",
    "    return result"
   ]
  },
  {
   "cell_type": "code",
   "execution_count": 167,
   "metadata": {
    "collapsed": false
   },
   "outputs": [
    {
     "data": {
      "text/plain": [
       "5075.574373006821"
      ]
     },
     "execution_count": 167,
     "metadata": {},
     "output_type": "execute_result"
    }
   ],
   "source": [
    "start = time.time()\n",
    "single_pass(Cui=user_items_mat, Y=item_factors, lambda_I=lambda_I, num_u=num_users, num_factors=num_factors)\n",
    "time.time() - start"
   ]
  },
  {
   "cell_type": "code",
   "execution_count": 168,
   "metadata": {
    "collapsed": true
   },
   "outputs": [],
   "source": [
    "def fit_weighted_als(user_items_mat, num_factors=15, num_iters=15):\n",
    "    num_users, num_items = user_items_mat.shape\n",
    "    user_factors = np.random.randn(num_users, num_factors) * 0.1\n",
    "    item_factors = np.random.randn(num_items, num_factors) * 0.1\n",
    "    \n",
    "    item_users_mat = user_items_mat.T\n",
    "    lambda_I = regularization * np.eye(num_factors)\n",
    "    for num_iter in range(num_iters):\n",
    "        # fit users\n",
    "        start = time.time()\n",
    "        user_factors = single_pass(Cui=user_items_mat, Y=item_factors, \\\n",
    "                                   lambda_I=lambda_I, num_u=num_users, \\\n",
    "                                   num_factors=num_factors)\n",
    "        item_factors = single_pass(Cui=item_users_mat, Y=user_factors, \\\n",
    "                                   lambda_I=lambda_I, num_u=num_items, \\\n",
    "                                   num_factors=num_factors)\n",
    "        print(\"finished iteration %i in %s\" % (num_iter, time.time() - start))\n",
    "    return user_factors, item_factors"
   ]
  },
  {
   "cell_type": "code",
   "execution_count": null,
   "metadata": {
    "collapsed": true
   },
   "outputs": [],
   "source": [
    "start = time.time()\n",
    "user_factors, item_factors = fit_weighted_als(user_items_mat, num_factors=15, num_iters=15)\n",
    "end = time.time()\n",
    "end - start"
   ]
  },
  {
   "cell_type": "code",
   "execution_count": null,
   "metadata": {
    "collapsed": true
   },
   "outputs": [],
   "source": []
  }
 ],
 "metadata": {
  "anaconda-cloud": {},
  "kernelspec": {
   "display_name": "Python [conda root]",
   "language": "python",
   "name": "conda-root-py"
  },
  "language_info": {
   "codemirror_mode": {
    "name": "ipython",
    "version": 3
   },
   "file_extension": ".py",
   "mimetype": "text/x-python",
   "name": "python",
   "nbconvert_exporter": "python",
   "pygments_lexer": "ipython3",
   "version": "3.5.2"
  }
 },
 "nbformat": 4,
 "nbformat_minor": 1
}
