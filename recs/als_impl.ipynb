{
 "cells": [
  {
   "cell_type": "markdown",
   "metadata": {},
   "source": [
    "# Weighted ALS from Hu, Koren and Volinksky's paper\n",
    "\n",
    "http://yifanhu.net/PUB/cf.pdf"
   ]
  },
  {
   "cell_type": "code",
   "execution_count": 1,
   "metadata": {
    "collapsed": true
   },
   "outputs": [],
   "source": [
    "import os\n",
    "import pandas as pd\n",
    "from scipy.sparse import coo_matrix, csr_matrix, diags\n",
    "from scipy.linalg import cho_solve, cho_factor, solve\n",
    "import numpy as np\n",
    "\n",
    "import matplotlib.pyplot as plt\n",
    "from sklearn.metrics import log_loss, accuracy_score, roc_curve, roc_auc_score\n",
    "from sklearn.utils.extmath import safe_sparse_dot\n",
    "import time\n",
    "\n",
    "%matplotlib inline"
   ]
  },
  {
   "cell_type": "code",
   "execution_count": 2,
   "metadata": {
    "collapsed": false
   },
   "outputs": [],
   "source": [
    "%load_ext autoreload\n",
    "%autoreload 2"
   ]
  },
  {
   "cell_type": "code",
   "execution_count": 3,
   "metadata": {
    "collapsed": true
   },
   "outputs": [],
   "source": [
    "lastfm_file = \"/Users/timwee/projects/datasets/lastfm-dataset-360K/usersha1-artmbid-artname-plays.tsv\""
   ]
  },
  {
   "cell_type": "code",
   "execution_count": 4,
   "metadata": {
    "collapsed": true
   },
   "outputs": [],
   "source": [
    "user_to_idx = {}\n",
    "artist_to_idx = {}\n",
    "users, artists, num_played = [], [], []\n",
    "with open(lastfm_file, 'r') as f:\n",
    "    for line in f:\n",
    "        tup = line.strip().split(\"\\t\")\n",
    "        usr, artist, cur_num_played = tup[0], tup[1], float(tup[3])\n",
    "        if usr not in user_to_idx:\n",
    "            user_to_idx[usr] = len(user_to_idx)\n",
    "        if artist not in artist_to_idx:\n",
    "            artist_to_idx[artist] = len(artist_to_idx)\n",
    "        users.append(user_to_idx[usr])\n",
    "        artists.append(artist_to_idx[artist])\n",
    "        num_played.append(cur_num_played)"
   ]
  },
  {
   "cell_type": "code",
   "execution_count": 5,
   "metadata": {
    "collapsed": true
   },
   "outputs": [],
   "source": [
    "#del user_to_idx, artist_to_idx"
   ]
  },
  {
   "cell_type": "markdown",
   "metadata": {},
   "source": [
    "## hyperparams and initialization"
   ]
  },
  {
   "cell_type": "code",
   "execution_count": 35,
   "metadata": {
    "collapsed": true
   },
   "outputs": [],
   "source": [
    "num_factors = 20\n",
    "alpha = 40\n",
    "epsilon = 1e-7\n",
    "regularization = 1e-2"
   ]
  },
  {
   "cell_type": "code",
   "execution_count": 36,
   "metadata": {
    "collapsed": false
   },
   "outputs": [
    {
     "data": {
      "text/plain": [
       "(1.0, 0.0)"
      ]
     },
     "execution_count": 36,
     "metadata": {},
     "output_type": "execute_result"
    }
   ],
   "source": [
    "1 + alpha * np.log(1 + 0/epsilon), alpha * np.log(1 + 0/epsilon)"
   ]
  },
  {
   "cell_type": "code",
   "execution_count": 37,
   "metadata": {
    "collapsed": true
   },
   "outputs": [],
   "source": [
    "# we don't add the 1 in the confidence formula, bec. we will subtract it out later anyway\n",
    "#   This lets us keep the sparse matrix, otherwise 0 becomes 1\n",
    "# just remember to add 1 when calculating b when solving the linear equation to C\n",
    "confidence_vals = alpha * np.log(1 + np.array(num_played) / epsilon)"
   ]
  },
  {
   "cell_type": "code",
   "execution_count": 38,
   "metadata": {
    "collapsed": true
   },
   "outputs": [],
   "source": [
    "item_users_mat = coo_matrix((confidence_vals, (artists, users))).tocsr()        "
   ]
  },
  {
   "cell_type": "code",
   "execution_count": 39,
   "metadata": {
    "collapsed": true
   },
   "outputs": [],
   "source": [
    "user_items_mat = item_users_mat.T"
   ]
  },
  {
   "cell_type": "code",
   "execution_count": 40,
   "metadata": {
    "collapsed": true
   },
   "outputs": [],
   "source": [
    "num_users, num_items = user_items_mat.shape"
   ]
  },
  {
   "cell_type": "code",
   "execution_count": 41,
   "metadata": {
    "collapsed": true
   },
   "outputs": [],
   "source": [
    "import math\n",
    "\n",
    "def bm25_weight(X, K1=100, B=0.8):\n",
    "    \"\"\" Weighs each row of a sparse matrix X  by BM25 weighting \"\"\"\n",
    "    # calculate idf per term (user)\n",
    "    X = coo_matrix(X)\n",
    "\n",
    "    N = float(X.shape[0])\n",
    "    idf = np.log(N / (1 + np.bincount(X.col)))\n",
    "\n",
    "    # calculate length_norm per document (artist)\n",
    "    row_sums = np.ravel(X.sum(axis=1))\n",
    "    average_length = row_sums.mean()\n",
    "    length_norm = (1.0 - B) + B * row_sums / average_length\n",
    "\n",
    "    # weight matrix rows by bm25\n",
    "    X.data = X.data * (K1 + 1.0) / (K1 * length_norm[X.row] + X.data) * idf[X.col]\n",
    "    return X"
   ]
  },
  {
   "cell_type": "code",
   "execution_count": 42,
   "metadata": {
    "collapsed": false
   },
   "outputs": [],
   "source": [
    "bm25_item_users_mat = bm25_weight(item_users_mat, K1=100, B=0.8)"
   ]
  },
  {
   "cell_type": "code",
   "execution_count": 45,
   "metadata": {
    "collapsed": true
   },
   "outputs": [],
   "source": [
    "user_factors = np.random.randn(num_users, num_factors) * 0.1\n",
    "item_factors = np.random.randn(num_items, num_factors) * 0.1"
   ]
  },
  {
   "cell_type": "markdown",
   "metadata": {
    "collapsed": true
   },
   "source": [
    "## bench one row\n",
    "\n",
    "For each row $x_u$ (user or item) we solve a linear equation. \n",
    "\\begin{align}\n",
    "x_u = (Y^TC^uY + \\lambda I)^{-1} Y^TC^up(u)\n",
    "\\end{align}\n",
    "\n",
    "- $C^{u}$ is a diagonal matrix where $C_{ii}^{u} = c_{ui}$, the \"confidence\" value of the user with the item.\n",
    "- $Y$ is the item factors matrix (with dimensions **num_items X num_factors**)\n",
    "- $\\lambda$ is the regularization parameter\n",
    "- $p(u)$ is the vector of preferences for user $u$. (this is the binarized values from the rating matrix.\n",
    "\n",
    "\n",
    "#### confidence value and preferences\n",
    "\n",
    "Hu, et. al computed $c_{ui}$ in 2 different ways:\n",
    "1. $c_{ui} = 1 + \\alpha r_{ui}$\n",
    "    - $\\alpha$ was set to 40 in the paper.\n",
    "2. $c_{ui} = 1 + \\alpha \\log{({1 + r_{ui}} / \\epsilon)}$\n",
    "\n",
    "\n",
    "#### Rewrite of equation for faster runtime\n",
    "We can rewrite $Y^TC^uY$ to avoid the two big matrix multiplies with $Y$ everytime for each user:\n",
    "$$(Y^TC^uY) = (Y^T(I + C^u - I)Y) = Y^TY + Y^T(C^u - I)Y\\\\$$\n",
    "\n",
    "This means that we can compute $Y^TY$ once and reuse it.\n",
    "\n",
    "**Note:** This is mostly bec. of $C^u$ having values for all entries (a min value of 1 because the confidence formulas above have a $+ 1$). Since we don't add this $1$ to our confidence values when we form the matrix, we can directly compute $(Y^TC^uY)$\n",
    "\n",
    "#### solving for $x_u$ \n",
    "To solve for $x_u$, we treat the first part of the equation above as the inverse, and the latter part as $b$, $x_u = A^{-1}b$, and pass it to a linear equations solver. \n",
    "\n",
    "Note that A is hermitian/symmetric and positive definite, so it is eligible to use a Cholesky decomposition solver.\n",
    "\\begin{align}\n",
    "A = Y^TC^uY + \\lambda I\\\\\n",
    "A = Y^TY + Y^T(C^u - I)Y + \\lambda I\\\\\n",
    "b = Y^TC^up(u)\\\\\n",
    "\\end{align}\n",
    "\n"
   ]
  },
  {
   "cell_type": "markdown",
   "metadata": {},
   "source": [
    "### for user"
   ]
  },
  {
   "cell_type": "code",
   "execution_count": 46,
   "metadata": {
    "collapsed": false
   },
   "outputs": [],
   "source": [
    "# grab a single row\n",
    "usr_idx = 0"
   ]
  },
  {
   "cell_type": "markdown",
   "metadata": {},
   "source": [
    "##### compute A's 3 terms\n",
    "1. $Y^T(C^u - I)Y$\n",
    "    - since we didn't add a 1 for the initial confidence matrix, we don't have to worry about the $I$,  so this becomes $Y^T(C^u)Y$\n",
    "    - $C^u$ is a diagonal matrix with values on the diagonal (i,i) corresponding to confidence values between user $u$, and item $i$ \n",
    "    - since $C^u$ is a diagonal matrix, and $Y^T$ is dense, we don't have to do a dot product\n",
    "        - multiplying a dense matrix $T$ by a diagonal matrix $D$ just multiplies each row or column $i$ of $T$ by the $(i, i)$ element in D.\n",
    "        - use broadcasting instead. See https://stackoverflow.com/questions/13272453/multiplying-numpy-scipy-sparse-and-dense-matrices-efficiently\n",
    "2. $Y^TY$\n",
    "3. $\\lambda I$\n",
    "\n"
   ]
  },
  {
   "cell_type": "code",
   "execution_count": 47,
   "metadata": {
    "collapsed": false
   },
   "outputs": [],
   "source": [
    "Y = item_factors\n",
    "Yt = Y.T\n",
    "YtY = np.dot(Yt, Y) # we don't need this as noted above"
   ]
  },
  {
   "cell_type": "code",
   "execution_count": 48,
   "metadata": {
    "collapsed": false
   },
   "outputs": [],
   "source": [
    "def YtCuIY_mask(Cu, Y, usr_idx=0, subtract_identity=False):\n",
    "    \"\"\"\n",
    "    Remove zero elements for speed\n",
    "    (Yt (Cu - I) Y).shape should be (num_factors, num_factors)\n",
    "    Yt.shape == (num_factors, num_items)\n",
    "    Cu.shape == diag(num_items, num_items)\n",
    "    Y.shape == (num_items, num_factors)\n",
    "    \"\"\"\n",
    "    if subtract_identity: \n",
    "        Cu = Cu.copy()\n",
    "        Cu -= 1\n",
    "        Cu[Cu < epsilon] = 0.0\n",
    "    mask = Cu.nonzero()[0]#np.flatnonzero(Cu) # Cu.ravel().nonzero()[0]\n",
    "    Cu_masked = Cu[mask]\n",
    "    Y_masked = Y[mask,:]\n",
    "    CuY = Cu_masked[:,None] * Y_masked # broadcast\n",
    "    return Y_masked.T.dot(CuY)"
   ]
  },
  {
   "cell_type": "code",
   "execution_count": 49,
   "metadata": {
    "collapsed": false
   },
   "outputs": [],
   "source": [
    "def YtCuIY(Cu, Y, usr_idx=0, subtract_identity=False):\n",
    "    \"\"\"\n",
    "    (Yt (Cu - I) Y).shape should be (num_factors, num_factors)\n",
    "    Yt.shape == (num_factors, num_items)\n",
    "    Cu.shape == diag(num_items, num_items)\n",
    "    Y.shape == (num_items, num_factors)\n",
    "    \"\"\"\n",
    "    if subtract_identity:\n",
    "        Cu = Cu.copy()\n",
    "        Cu -= 1\n",
    "        Cu[Cu < epsilon] = 0.0\n",
    "    CuY = Cu[:,None] * Y # broadcasting\n",
    "    return Y.T.dot(CuY)"
   ]
  },
  {
   "cell_type": "code",
   "execution_count": 50,
   "metadata": {
    "collapsed": true
   },
   "outputs": [],
   "source": [
    "# Runs out of memory\n",
    "def YtCuIY_nobroadcast(Cu, Y, usr_idx=0, subtract_identity=False):\n",
    "    \"\"\"\n",
    "    (Yt (Cu - I) Y).shape should be (num_factors, num_factors)\n",
    "    Yt.shape == (num_factors, num_items)\n",
    "    Cu.shape == diag(num_items, num_items)\n",
    "    Y.shape == (num_items, num_factors)\n",
    "    \"\"\"\n",
    "    confidence_vals = Cu\n",
    "    if subtract_identity:\n",
    "        confidence_vals = Cu.copy()\n",
    "        confidence_vals -= 1\n",
    "        confidence_vals[confidence_vals < epsilon] = 0.0\n",
    "    Cu = sparse.diags(confidence_vals, [0])\n",
    "    return Y.T.dot(Cu).dot(Y)"
   ]
  },
  {
   "cell_type": "code",
   "execution_count": 51,
   "metadata": {
    "collapsed": true
   },
   "outputs": [],
   "source": [
    "Cu = user_items_mat[0,:].toarray().ravel()"
   ]
  },
  {
   "cell_type": "code",
   "execution_count": 52,
   "metadata": {
    "collapsed": false
   },
   "outputs": [
    {
     "name": "stdout",
     "output_type": "stream",
     "text": [
      "1000 loops, best of 3: 1.13 ms per loop\n",
      "100 loops, best of 3: 12.7 ms per loop\n"
     ]
    }
   ],
   "source": [
    "%timeit YtCuIY_mask(Cu, Y)\n",
    "%timeit YtCuIY(Cu, Y)"
   ]
  },
  {
   "cell_type": "code",
   "execution_count": 53,
   "metadata": {
    "collapsed": true
   },
   "outputs": [],
   "source": [
    "# runs out of memory\n",
    "#%timeit YtCuIY_nobroadcast(user_items_mat, Y)"
   ]
  },
  {
   "cell_type": "code",
   "execution_count": 54,
   "metadata": {
    "collapsed": false
   },
   "outputs": [
    {
     "data": {
      "text/plain": [
       "True"
      ]
     },
     "execution_count": 54,
     "metadata": {},
     "output_type": "execute_result"
    }
   ],
   "source": [
    "np.allclose(YtCuIY_mask(Cu, Y), YtCuIY(Cu, Y))"
   ]
  },
  {
   "cell_type": "markdown",
   "metadata": {},
   "source": [
    "##### compute $b = Y^TC^up(u)$\n",
    "\n",
    "Note that $p(u)$, a binarized (0/1) diagonal matrix is implicitly computed already (non-zero inside $C^u$)"
   ]
  },
  {
   "cell_type": "code",
   "execution_count": 61,
   "metadata": {
    "collapsed": true
   },
   "outputs": [],
   "source": [
    "# b.shape == (num_factors, num_factors)\n",
    "def compute_b(Cu, Y):\n",
    "    \"\"\"\n",
    "    Cu is a 1-d array of confidence values for a particular usr u, with all items i\n",
    "    \n",
    "    Expected shapes:\n",
    "    Cu.shape == (num_items,)\n",
    "    Y.shape == (num_items, num_factors)\n",
    "    \"\"\"\n",
    "    mask = Cu.copy()\n",
    "    mask[mask > 0] = 1.0\n",
    "    return (Y.T * ((Cu + 1.0) * mask)).sum(axis=1) # broadcast"
   ]
  },
  {
   "cell_type": "code",
   "execution_count": 62,
   "metadata": {
    "collapsed": false
   },
   "outputs": [
    {
     "data": {
      "text/plain": [
       "(array([ 0,  1,  2,  3,  4,  5,  6,  7,  8,  9, 10, 11, 12, 13, 14, 15, 16,\n",
       "        17, 18, 19, 20, 21, 22, 23, 24, 25, 26, 27, 28, 29, 30, 31, 32, 33,\n",
       "        34, 35, 36, 37, 38, 39, 40, 41, 42, 43, 44, 45, 46, 47, 48]),\n",
       " array([ 0,  1,  2,  3,  4,  5,  6,  7,  8,  9, 10, 11, 12, 13, 14, 15, 16,\n",
       "        17, 18, 19, 20, 21, 22, 23, 24, 25, 26, 27, 28, 29, 30, 31, 32, 33,\n",
       "        34, 35, 36, 37, 38, 39, 40, 41, 42, 43, 44, 45, 46, 47, 48]),\n",
       " array([ 951.41015625,  924.81006422,  916.68606053, ...,    0.        ,\n",
       "           0.        ,    0.        ]),\n",
       " array([ 952.41015625,  925.81006422,  917.68606053, ...,    0.        ,\n",
       "           0.        ,    0.        ]))"
      ]
     },
     "execution_count": 62,
     "metadata": {},
     "output_type": "execute_result"
    }
   ],
   "source": [
    "mask = Cu.copy()\n",
    "mask[mask > 0] = 1.0\n",
    "masked_Cu = ((Cu + 1.0) * mask)\n",
    "Cu.nonzero()[0], masked_Cu.nonzero()[0], Cu, masked_Cu"
   ]
  },
  {
   "cell_type": "code",
   "execution_count": 63,
   "metadata": {
    "collapsed": true
   },
   "outputs": [],
   "source": [
    "# b.shape == (num_factors, num_factors)\n",
    "def compute_b_masked(Cu, Y):\n",
    "    \"\"\"\n",
    "    Cu is a 1-d array of confidence values for a particular usr u, with all items i\n",
    "    \n",
    "    Expected shapes:\n",
    "    Cu.shape == (num_items,)\n",
    "    Y.shape == (num_items, num_factors)\n",
    "    \"\"\"\n",
    "    mask = Cu.nonzero()[0]\n",
    "    Cu_masked = Cu[mask]\n",
    "    Y_masked = Y[mask,:]\n",
    "    return (Y_masked.T * (Cu_masked + 1.0)).sum(axis=1) # broadcast"
   ]
  },
  {
   "cell_type": "code",
   "execution_count": 64,
   "metadata": {
    "collapsed": false
   },
   "outputs": [
    {
     "data": {
      "text/plain": [
       "((20, 160168), (160168,))"
      ]
     },
     "execution_count": 64,
     "metadata": {},
     "output_type": "execute_result"
    }
   ],
   "source": [
    "Y.T.shape, Cu.shape"
   ]
  },
  {
   "cell_type": "code",
   "execution_count": 65,
   "metadata": {
    "collapsed": false
   },
   "outputs": [
    {
     "data": {
      "text/plain": [
       "((20, 160168), (20,))"
      ]
     },
     "execution_count": 65,
     "metadata": {},
     "output_type": "execute_result"
    }
   ],
   "source": [
    "(Y.T * (Cu+1.0)).shape, (Y.T * (Cu+1.0)).sum(axis=1).shape"
   ]
  },
  {
   "cell_type": "code",
   "execution_count": 66,
   "metadata": {
    "collapsed": false
   },
   "outputs": [
    {
     "name": "stdout",
     "output_type": "stream",
     "text": [
      "100 loops, best of 3: 11.8 ms per loop\n",
      "1000 loops, best of 3: 1 ms per loop\n"
     ]
    }
   ],
   "source": [
    "%timeit compute_b(Cu, Y)\n",
    "%timeit compute_b_masked(Cu, Y)"
   ]
  },
  {
   "cell_type": "code",
   "execution_count": 71,
   "metadata": {
    "collapsed": false
   },
   "outputs": [
    {
     "data": {
      "text/plain": [
       "(array([  555.70413905,   138.55308784,   516.93944448,   -37.26347124,\n",
       "           54.81983999,   290.06774156,  -145.58340345,  -249.89837671,\n",
       "          454.00189552,  -584.38586968,   317.7771436 ,  -103.78444433,\n",
       "          570.67511458,   191.91131591,  -119.64341522,   703.08735548,\n",
       "          478.76139563,   471.03715306,   434.97177168, -1320.59185645]),\n",
       " array([  555.70413905,   138.55308784,   516.93944448,   -37.26347124,\n",
       "           54.81983999,   290.06774156,  -145.58340345,  -249.89837671,\n",
       "          454.00189552,  -584.38586968,   317.7771436 ,  -103.78444433,\n",
       "          570.67511458,   191.91131591,  -119.64341522,   703.08735548,\n",
       "          478.76139563,   471.03715306,   434.97177168, -1320.59185645]))"
      ]
     },
     "execution_count": 71,
     "metadata": {},
     "output_type": "execute_result"
    }
   ],
   "source": [
    "compute_b(Cu, Y), compute_b_masked(Cu, Y)"
   ]
  },
  {
   "cell_type": "code",
   "execution_count": 72,
   "metadata": {
    "collapsed": false
   },
   "outputs": [
    {
     "data": {
      "text/plain": [
       "((20, 20), (20,))"
      ]
     },
     "execution_count": 72,
     "metadata": {},
     "output_type": "execute_result"
    }
   ],
   "source": [
    "A = YtCuIY_mask(Cu, Y)\n",
    "b = compute_b_masked(Cu, Y)\n",
    "A.shape, b.shape"
   ]
  },
  {
   "cell_type": "code",
   "execution_count": 73,
   "metadata": {
    "collapsed": false
   },
   "outputs": [
    {
     "data": {
      "text/plain": [
       "((20,), array([-0.02154763, -0.19682673,  1.34144086,  0.48305388,  1.84935232,\n",
       "         0.80751548, -1.37784982, -0.21907132,  4.93612896, -1.90084841,\n",
       "         0.98078027, -0.05312595,  2.2741765 ,  0.54577234,  0.92954333,\n",
       "         2.34194063,  0.22752593,  3.4109749 ,  1.58488865, -5.05691554]))"
      ]
     },
     "execution_count": 73,
     "metadata": {},
     "output_type": "execute_result"
    }
   ],
   "source": [
    "c = cho_factor(A)\n",
    "x = cho_solve(c,b)\n",
    "x.shape, x"
   ]
  },
  {
   "cell_type": "code",
   "execution_count": 74,
   "metadata": {
    "collapsed": true
   },
   "outputs": [],
   "source": [
    "lambda_I = regularization * np.eye(num_factors) # + YtY\n",
    "def use_cho_solve(Cu, Y, lambda_I):\n",
    "    A = YtCuIY_mask(Cu, Y) + lambda_I\n",
    "    b = compute_b_masked(Cu, Y)\n",
    "    c = cho_factor(A)\n",
    "    x = cho_solve(c,b)\n",
    "    return x"
   ]
  },
  {
   "cell_type": "code",
   "execution_count": 75,
   "metadata": {
    "collapsed": true
   },
   "outputs": [],
   "source": [
    "def gen_solve(Cu, Y, lambda_I):\n",
    "    A = YtCuIY_mask(Cu, Y) + lambda_I\n",
    "    b = compute_b_masked(Cu, Y)\n",
    "    return solve(A, b)"
   ]
  },
  {
   "cell_type": "code",
   "execution_count": 76,
   "metadata": {
    "collapsed": false
   },
   "outputs": [
    {
     "data": {
      "text/plain": [
       "(20,)"
      ]
     },
     "execution_count": 76,
     "metadata": {},
     "output_type": "execute_result"
    }
   ],
   "source": [
    "use_cho_solve(Cu, Y, lambda_I).shape"
   ]
  },
  {
   "cell_type": "code",
   "execution_count": 77,
   "metadata": {
    "collapsed": false
   },
   "outputs": [
    {
     "data": {
      "text/plain": [
       "(20,)"
      ]
     },
     "execution_count": 77,
     "metadata": {},
     "output_type": "execute_result"
    }
   ],
   "source": [
    "gen_solve(Cu, Y, lambda_I).shape"
   ]
  },
  {
   "cell_type": "code",
   "execution_count": 78,
   "metadata": {
    "collapsed": false
   },
   "outputs": [
    {
     "name": "stdout",
     "output_type": "stream",
     "text": [
      "100 loops, best of 3: 2.31 ms per loop\n"
     ]
    }
   ],
   "source": [
    "%timeit use_cho_solve(Cu, Y, lambda_I)"
   ]
  },
  {
   "cell_type": "code",
   "execution_count": 79,
   "metadata": {
    "collapsed": false
   },
   "outputs": [
    {
     "name": "stdout",
     "output_type": "stream",
     "text": [
      "100 loops, best of 3: 2.34 ms per loop\n"
     ]
    }
   ],
   "source": [
    "%timeit gen_solve(Cu, Y, lambda_I)"
   ]
  },
  {
   "cell_type": "markdown",
   "metadata": {},
   "source": [
    "# Putting it All Together"
   ]
  },
  {
   "cell_type": "code",
   "execution_count": 80,
   "metadata": {
    "collapsed": true
   },
   "outputs": [],
   "source": [
    "Cui = user_items_mat\n",
    "Ciu = item_users_mat\n",
    "lambda_I = regularization * np.eye(num_factors) # + YtY"
   ]
  },
  {
   "cell_type": "code",
   "execution_count": 81,
   "metadata": {
    "collapsed": true
   },
   "outputs": [],
   "source": [
    "def single_pass(Cui, Y, lambda_I, num_u, num_factors):\n",
    "    result = np.zeros((num_u, num_factors))\n",
    "    for idx, Cu in enumerate(Cui):\n",
    "        result[idx] = use_cho_solve(Cu.toarray().ravel(), Y, lambda_I)\n",
    "    return result"
   ]
  },
  {
   "cell_type": "code",
   "execution_count": 82,
   "metadata": {
    "collapsed": false
   },
   "outputs": [
    {
     "data": {
      "text/plain": [
       "971.4727640151978"
      ]
     },
     "execution_count": 82,
     "metadata": {},
     "output_type": "execute_result"
    }
   ],
   "source": [
    "start = time.time()\n",
    "single_pass(Cui=user_items_mat, Y=item_factors, lambda_I=lambda_I, num_u=num_users, num_factors=num_factors)\n",
    "time.time() - start"
   ]
  },
  {
   "cell_type": "code",
   "execution_count": 83,
   "metadata": {
    "collapsed": false
   },
   "outputs": [
    {
     "data": {
      "text/plain": [
       "1044.4756731987"
      ]
     },
     "execution_count": 83,
     "metadata": {},
     "output_type": "execute_result"
    }
   ],
   "source": [
    "start = time.time()\n",
    "single_pass(Cui=item_users_mat, Y=user_factors, lambda_I=lambda_I, \\\n",
    "            num_u=num_items, num_factors=num_factors)\n",
    "time.time() - start"
   ]
  },
  {
   "cell_type": "code",
   "execution_count": 84,
   "metadata": {
    "collapsed": true
   },
   "outputs": [],
   "source": [
    "def fit_weighted_als(user_items_mat, num_factors=15, num_iters=10):\n",
    "    num_users, num_items = user_items_mat.shape\n",
    "    user_factors = np.random.randn(num_users, num_factors) * 0.1\n",
    "    item_factors = np.random.randn(num_items, num_factors) * 0.1\n",
    "    \n",
    "    item_users_mat = user_items_mat.T\n",
    "    lambda_I = regularization * np.eye(num_factors)\n",
    "    for num_iter in range(num_iters):\n",
    "        # fit users\n",
    "        start = time.time()\n",
    "        user_factors = single_pass(Cui=user_items_mat, Y=item_factors, \\\n",
    "                                   lambda_I=lambda_I, num_u=num_users, \\\n",
    "                                   num_factors=num_factors)\n",
    "        item_factors = single_pass(Cui=item_users_mat, Y=user_factors, \\\n",
    "                                   lambda_I=lambda_I, num_u=num_items, \\\n",
    "                                   num_factors=num_factors)\n",
    "        print(\"finished iteration %i in %s\" % (num_iter, time.time() - start))\n",
    "    return user_factors, item_factors"
   ]
  },
  {
   "cell_type": "code",
   "execution_count": 85,
   "metadata": {
    "collapsed": false
   },
   "outputs": [
    {
     "name": "stdout",
     "output_type": "stream",
     "text": [
      "finished iteration 0 in 2174.3241670131683\n",
      "finished iteration 1 in 1990.1240990161896\n",
      "finished iteration 2 in 2052.0628390312195\n",
      "finished iteration 3 in 1882.5355219841003\n",
      "finished iteration 4 in 1796.1762628555298\n",
      "finished iteration 5 in 1856.93275308609\n",
      "finished iteration 6 in 1850.7348458766937\n",
      "finished iteration 7 in 1773.3783450126648\n",
      "finished iteration 8 in 1835.5745210647583\n",
      "finished iteration 9 in 1833.4666879177094\n"
     ]
    },
    {
     "data": {
      "text/plain": [
       "19045.797111034393"
      ]
     },
     "execution_count": 85,
     "metadata": {},
     "output_type": "execute_result"
    }
   ],
   "source": [
    "start = time.time()\n",
    "user_factors, item_factors = fit_weighted_als(user_items_mat, num_factors=25, num_iters=10)\n",
    "end = time.time()\n",
    "end - start"
   ]
  },
  {
   "cell_type": "markdown",
   "metadata": {},
   "source": [
    "# use sparse rep"
   ]
  },
  {
   "cell_type": "code",
   "execution_count": 86,
   "metadata": {
    "collapsed": true
   },
   "outputs": [],
   "source": [
    "def nonzeros(m, row):\n",
    "    \"\"\" returns the non zeroes of a row in csr_matrix \"\"\"\n",
    "    for index in range(m.indptr[row], m.indptr[row+1]):\n",
    "        yield m.indices[index], m.data[index]\n",
    "\n",
    "def user_linear_equation(Y, YtY, Cui, u, regularization, n_factors):\n",
    "    \"\"\"\n",
    "    YtY.shape == (n_factors, n_factors)\n",
    "    \"\"\"\n",
    "    # This is from orig paper:\n",
    "    #  Note that the -1 here is inverse of the matrix, not raising to power\n",
    "    # Xu = (YtCuY + regularization * I)^-1 (YtCuPu)\n",
    "    # solve for w* = A^-1 * b\n",
    "    # A is YtCuY + regularization * I\n",
    "    # b is YtCuPu\n",
    "\n",
    "    ### This is the equation for \"optimized version\" for computing YtY outside the loop once\n",
    "    # YtCuY + regularization * I = YtY + regularization * I + Yt(Cu-I)Y\n",
    "\n",
    "    # accumulate YtCuY + regularization*I in A\n",
    "    A = YtY + regularization * np.eye(n_factors)\n",
    "\n",
    "    # accumulate YtCuPu in b\n",
    "    # Pu is just the binarized rating/indicator variable\n",
    "    b = np.zeros(n_factors)\n",
    "\n",
    "    for i, confidence in nonzeros(Cui, u):\n",
    "        # for user, this is the nonzero items\n",
    "        # for items, nonzero users\n",
    "        factor = Y[i]\n",
    "        # Yt(Cu-I)Y - last term in \"optimized\" version\n",
    "        A += (confidence - 1) * np.outer(factor, factor)\n",
    "        # YtCuPu, factor is Yt, Pu is indicator variable taken care of by loop\n",
    "        b += confidence * factor\n",
    "    return A, b\n",
    "\n",
    "def user_factor(Y, YtY, Cui, u, regularization, n_factors):\n",
    "    # Xu = (YtCuY + regularization * I)^-1 (YtCuPu)\n",
    "    A, b = user_linear_equation(Y, YtY, Cui, u, regularization, n_factors)\n",
    "    return np.linalg.solve(A, b)\n",
    "\n",
    "\n",
    "def least_squares(Cui, X, Y, regularization, num_threads=0):\n",
    "    \"\"\" For each user in Cui, calculate factors Xu for them\n",
    "    using least squares on Y.\n",
    "\n",
    "    For fitting users:\n",
    "    X is user factors (num_users, n_factors)\n",
    "    Y is item factors (num_items, n_factors)\n",
    "\n",
    "    Note: this is at least 10 times slower than the cython version included\n",
    "    here.\n",
    "    \"\"\"\n",
    "    users, n_factors = X.shape\n",
    "    # shape - (num_factors, num_factors)\n",
    "    YtY = Y.T.dot(Y)\n",
    "\n",
    "    for u in range(users):\n",
    "        X[u] = user_factor(Y, YtY, Cui, u, regularization, n_factors)\n",
    "        \n",
    "def fit_alternating_least_squares(item_users, num_factors=20, dtype=np.float32, \\\n",
    "                                 num_iters=5, regularization=0.01, num_threads=0):\n",
    "    Ciu, Cui = item_users.tocsr(), item_users.T.tocsr()\n",
    "    items, users = Ciu.shape\n",
    "\n",
    "    # Initialize the variables randomly if they haven't already been set\n",
    "    user_factors = np.random.rand(users, num_factors).astype(dtype) * 0.01\n",
    "    item_factors = np.random.rand(items, num_factors).astype(dtype) * 0.01\n",
    "\n",
    "    # alternate between learning the user_factors from the item_factors and vice-versa\n",
    "    for iteration in range(num_iters):\n",
    "        s = time.time()\n",
    "        least_squares(Cui, user_factors, item_factors, regularization,\n",
    "               num_threads=num_threads)\n",
    "        least_squares(Ciu, item_factors, user_factors, regularization,\n",
    "               num_threads=num_threads)\n",
    "        print(\"finished iteration %i in %s\", iteration, time.time() - s)\n",
    "\n",
    "#         if self.calculate_training_loss:\n",
    "#             loss = _als.calculate_loss(Cui, self.user_factors, self.item_factors,\n",
    "#                                        self.regularization, num_threads=self.num_threads)\n",
    "#             log.debug(\"loss at iteration %i is %s\", iteration, loss)\n",
    "    return user_factors, item_factors\n"
   ]
  },
  {
   "cell_type": "code",
   "execution_count": 87,
   "metadata": {
    "collapsed": false
   },
   "outputs": [
    {
     "name": "stdout",
     "output_type": "stream",
     "text": [
      "finished iteration %i in %s 0 507.07953810691833\n",
      "finished iteration %i in %s 1 507.20902609825134\n",
      "finished iteration %i in %s 2 507.10115599632263\n",
      "finished iteration %i in %s 3 508.3597388267517\n",
      "finished iteration %i in %s 4 508.0019760131836\n"
     ]
    },
    {
     "data": {
      "text/plain": [
       "2545.6993560791016"
      ]
     },
     "execution_count": 87,
     "metadata": {},
     "output_type": "execute_result"
    }
   ],
   "source": [
    "start = time.time()\n",
    "user_factors, item_factors = fit_alternating_least_squares(bm25_item_users_mat)\n",
    "time.time() - start"
   ]
  },
  {
   "cell_type": "code",
   "execution_count": null,
   "metadata": {
    "collapsed": true
   },
   "outputs": [],
   "source": []
  }
 ],
 "metadata": {
  "anaconda-cloud": {},
  "kernelspec": {
   "display_name": "Python [conda root]",
   "language": "python",
   "name": "conda-root-py"
  },
  "language_info": {
   "codemirror_mode": {
    "name": "ipython",
    "version": 3
   },
   "file_extension": ".py",
   "mimetype": "text/x-python",
   "name": "python",
   "nbconvert_exporter": "python",
   "pygments_lexer": "ipython3",
   "version": "3.5.2"
  }
 },
 "nbformat": 4,
 "nbformat_minor": 1
}
