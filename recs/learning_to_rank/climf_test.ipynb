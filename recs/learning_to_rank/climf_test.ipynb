{
 "cells": [
  {
   "cell_type": "markdown",
   "metadata": {},
   "source": [
    "# Implement\n",
    "- CLiMF: Learning to Maximize Reciprocal Rank with Collaborative Less-is-More Filtering\n",
    "http://baltrunas.info/papers/Shi12-climf.pdf\n",
    "\n",
    "### Data\n",
    "- Movielens 100k https://grouplens.org/datasets/movielens/100k/\n",
    "- README - http://files.grouplens.org/datasets/movielens/ml-100k-README.txt"
   ]
  },
  {
   "cell_type": "code",
   "execution_count": 1,
   "metadata": {
    "collapsed": true
   },
   "outputs": [],
   "source": [
    "import os\n",
    "import pandas as pd\n",
    "from scipy.sparse import coo_matrix, csr_matrix, diags\n",
    "import numpy as np\n",
    "\n",
    "import matplotlib.pyplot as plt\n",
    "from sklearn.metrics import log_loss, accuracy_score, roc_curve, roc_auc_score\n",
    "from sklearn.utils.extmath import safe_sparse_dot\n",
    "import time\n",
    "import math\n",
    "\n",
    "%matplotlib inline"
   ]
  },
  {
   "cell_type": "code",
   "execution_count": 2,
   "metadata": {
    "collapsed": false
   },
   "outputs": [],
   "source": [
    "%load_ext autoreload\n",
    "%autoreload 2"
   ]
  },
  {
   "cell_type": "code",
   "execution_count": 3,
   "metadata": {
    "collapsed": false
   },
   "outputs": [],
   "source": [
    "from warp import WARPNaive, KosWARP\n",
    "from bpr import BPR\n",
    "from climf import CLiMF"
   ]
  },
  {
   "cell_type": "code",
   "execution_count": 4,
   "metadata": {
    "collapsed": true
   },
   "outputs": [],
   "source": [
    "dtype = np.float32"
   ]
  },
  {
   "cell_type": "code",
   "execution_count": 5,
   "metadata": {
    "collapsed": true
   },
   "outputs": [],
   "source": [
    "data_dir = \"/Users/timwee/projects/datasets/movielens/ml-100k\"\n",
    "\n",
    "def load_data_from_f(fpath):\n",
    "    # columns - user id | item id | rating | timestamp\n",
    "    # user_id and item_id numbered consecutively from 1\n",
    "    with open(fpath) as f:\n",
    "        users, items, ratings = [], [], []\n",
    "        max_user = -1\n",
    "        max_item = -1\n",
    "        for line in f:\n",
    "            user_id, item_id, rating, ts = [int(tok) for tok in line.strip().split(\"\\t\")]\n",
    "            # make it zero indexed\n",
    "            user_id -= 1\n",
    "            item_id -= 1\n",
    "            max_user = max(max_user, user_id)\n",
    "            max_item = max(max_item, item_id)\n",
    "            users.append(user_id) \n",
    "            items.append(item_id)\n",
    "            ratings.append(rating)\n",
    "        return np.array(users), np.array(items), np.array(ratings), max_user, max_item\n",
    "\n",
    "\n",
    "def train_and_test_data(data_dir, train_fname=\"ua.base\", test_fname=\"ua.test\", dtype=np.float32):\n",
    "    trn_u, trn_i, trn_r, max_trn_u, max_trn_i = load_data_from_f(os.path.join(data_dir, train_fname))\n",
    "    tst_u, tst_i, tst_r, max_tst_u, max_tst_i = load_data_from_f(os.path.join(data_dir, test_fname))\n",
    "    num_rows = max(max_trn_u, max_tst_u) + 1\n",
    "    num_cols = max(max_trn_i, max_tst_i) + 1\n",
    "    return {\"train\" : coo_matrix((trn_r, (trn_u, trn_i)), shape=(num_rows, num_cols), dtype=dtype).tocsr(), \\\n",
    "            \"test\" : coo_matrix((tst_r, (tst_u, tst_i)), shape=(num_rows, num_cols), dtype=dtype).tocsr()}\n",
    "    "
   ]
  },
  {
   "cell_type": "code",
   "execution_count": 6,
   "metadata": {
    "collapsed": false
   },
   "outputs": [
    {
     "data": {
      "text/plain": [
       "((943, 1682), (943, 1682))"
      ]
     },
     "execution_count": 6,
     "metadata": {},
     "output_type": "execute_result"
    }
   ],
   "source": [
    "movielens = train_and_test_data(data_dir, dtype=dtype)\n",
    "train, test = movielens[\"train\"], movielens[\"test\"]\n",
    "num_users, num_items = train.shape\n",
    "train.shape, test.shape"
   ]
  },
  {
   "cell_type": "markdown",
   "metadata": {},
   "source": [
    "### learning rate decay"
   ]
  },
  {
   "cell_type": "code",
   "execution_count": 7,
   "metadata": {
    "collapsed": false
   },
   "outputs": [
    {
     "data": {
      "image/png": "[encoded data removed]",
      "text/plain": [
       "<matplotlib.figure.Figure at 0x111876518>"
      ]
     },
     "metadata": {},
     "output_type": "display_data"
    }
   ],
   "source": [
    "lrate = 1e-7\n",
    "decay = 1e-3\n",
    "lr_val = [lrate]\n",
    "for i in range(1, 100):\n",
    "    lr_val.append(lr_val[i-1] * (1. / (1. + (decay * i))))\n",
    "plt.plot(np.arange(100), lr_val)\n",
    "plt.xlabel(\"num_epoch\")\n",
    "plt.ylabel(\"learning rate\")\n",
    "plt.title(\"Learning Rate %.8f with decay %.4f\" % (lrate, decay))\n",
    "plt.show()"
   ]
  },
  {
   "cell_type": "markdown",
   "metadata": {},
   "source": [
    "## helpers"
   ]
  },
  {
   "cell_type": "code",
   "execution_count": 8,
   "metadata": {
    "collapsed": true
   },
   "outputs": [],
   "source": [
    "def plot_auc(title, auc_scores, num_epochs):\n",
    "    epoch_x = np.arange(num_epochs)\n",
    "    test_line, = plt.plot(epoch_x, auc_scores, label=\"auc test\")\n",
    "    plt.legend([test_line], [\"test auc\"])\n",
    "    plt.xlabel(\"num_epoch\")\n",
    "    plt.ylabel(\"auc_score\")\n",
    "    plt.title(title)\n",
    "    plt.show()"
   ]
  },
  {
   "cell_type": "code",
   "execution_count": null,
   "metadata": {
    "collapsed": false
   },
   "outputs": [
    {
     "name": "stderr",
     "output_type": "stream",
     "text": [
      "/Users/timwee/anaconda3/lib/python3.5/site-packages/lightfm/_lightfm_fast.py:9: UserWarning: LightFM was compiled without OpenMP support. Only a single thread will be used.\n",
      "  warnings.warn('LightFM was compiled without OpenMP support. '\n"
     ]
    }
   ],
   "source": [
    "from lightfm.evaluation import auc_score, precision_at_k, recall_at_k, reciprocal_rank"
   ]
  },
  {
   "cell_type": "markdown",
   "metadata": {},
   "source": [
    "# CLiMF class"
   ]
  },
  {
   "cell_type": "code",
   "execution_count": null,
   "metadata": {
    "collapsed": false
   },
   "outputs": [
    {
     "name": "stdout",
     "output_type": "stream",
     "text": [
      "initializing embeddings\n",
      "Objective is:  -12743983.4794\n",
      "iteration 0 took 11.3463, auc: 0.5005, p@5: 0.0085, rr: 0.0369\n",
      "Objective is:  -12743982.4428\n",
      "iteration 1 took 11.5240, auc: 0.5001, p@5: 0.0093, rr: 0.0399\n",
      "Objective is:  -12743981.3751\n",
      "iteration 2 took 11.6645, auc: 0.5000, p@5: 0.0095, rr: 0.0421\n",
      "Objective is:  -12743980.2474\n",
      "iteration 3 took 11.6805, auc: 0.5000, p@5: 0.0115, rr: 0.0486\n",
      "Objective is:  -12743979.0258\n",
      "iteration 4 took 11.6424, auc: 0.5005, p@5: 0.0131, rr: 0.0536\n",
      "Objective is:  -12743977.6702\n",
      "iteration 5 took 11.7106, auc: 0.5015, p@5: 0.0142, rr: 0.0564\n",
      "Objective is:  -12743976.1315\n",
      "iteration 6 took 11.7427, auc: 0.5030, p@5: 0.0161, rr: 0.0603\n",
      "Objective is:  -12743974.3488\n",
      "iteration 7 took 11.7145, auc: 0.5052, p@5: 0.0172, rr: 0.0643\n",
      "Objective is:  -12743972.2465\n",
      "iteration 8 took 11.6915, auc: 0.5081, p@5: 0.0193, rr: 0.0663\n",
      "Objective is:  -12743969.7305\n",
      "iteration 9 took 11.7358, auc: 0.5119, p@5: 0.0201, rr: 0.0714\n",
      "Objective is:  -12743966.6848\n",
      "iteration 10 took 11.6952, auc: 0.5168, p@5: 0.0227, rr: 0.0767\n",
      "Objective is:  -12743962.9671\n",
      "iteration 11 took 11.7644, auc: 0.5228, p@5: 0.0246, rr: 0.0810\n",
      "Objective is:  -12743958.4058\n",
      "iteration 12 took 11.6953, auc: 0.5299, p@5: 0.0263, rr: 0.0864\n",
      "Objective is:  -12743952.7985\n",
      "iteration 13 took 11.7532, auc: 0.5385, p@5: 0.0280, rr: 0.0920\n",
      "Objective is:  -12743945.9122\n",
      "iteration 14 took 12.1445, auc: 0.5482, p@5: 0.0299, rr: 0.0996\n",
      "Objective is:  -12743937.4893\n",
      "iteration 15 took 12.7441, auc: 0.5593, p@5: 0.0303, rr: 0.1034\n",
      "Objective is:  -12743927.2594\n"
     ]
    }
   ],
   "source": [
    "durations = []\n",
    "tst_climf_auc = []\n",
    "tst_climf_prec5 = []\n",
    "tst_climf_rr = []\n",
    "\n",
    "climf_model = CLiMF(lr=1e-4, reg=0.001)\n",
    "num_epochs = 50\n",
    "for epoch in range(num_epochs):\n",
    "    start = time.time()\n",
    "    climf_model.fit(train, reset=False)\n",
    "    duration = time.time() - start\n",
    "    durations.append(duration)    \n",
    "    tst_auc = auc_score(climf_model, test, train_interactions=train).mean()\n",
    "    tst_prec5 = precision_at_k(climf_model, test, train_interactions=train, k=5).mean()\n",
    "    tst_rr = reciprocal_rank(climf_model, test, train_interactions=train).mean()\n",
    "    tst_climf_auc.append(tst_auc)\n",
    "    tst_climf_prec5.append(tst_prec5)\n",
    "    tst_climf_rr.append(tst_rr)\n",
    "    print(\"iteration %d took %.4f, auc: %.4f, p@5: %.4f, rr: %.4f\" % \\\n",
    "          (epoch, duration, tst_auc, tst_prec5, tst_rr))"
   ]
  },
  {
   "cell_type": "code",
   "execution_count": null,
   "metadata": {
    "collapsed": false
   },
   "outputs": [],
   "source": [
    "plot_auc(\"CLiMF AUC\", tst_climf_auc, len(tst_climf_auc))"
   ]
  },
  {
   "cell_type": "code",
   "execution_count": null,
   "metadata": {
    "collapsed": true
   },
   "outputs": [],
   "source": []
  }
 ],
 "metadata": {
  "anaconda-cloud": {},
  "kernelspec": {
   "display_name": "Python [conda root]",
   "language": "python",
   "name": "conda-root-py"
  },
  "language_info": {
   "codemirror_mode": {
    "name": "ipython",
    "version": 3
   },
   "file_extension": ".py",
   "mimetype": "text/x-python",
   "name": "python",
   "nbconvert_exporter": "python",
   "pygments_lexer": "ipython3",
   "version": "3.5.2"
  }
 },
 "nbformat": 4,
 "nbformat_minor": 1
}
