{
 "cells": [
  {
   "cell_type": "markdown",
   "metadata": {},
   "source": [
    "# implement \n",
    "\n",
    "### References\n",
    "- WSABIE: Scaling Up To Large Vocabulary Image Annotation http://www.thespermwhale.com/jaseweston/papers/wsabie-ijcai.pdf\n",
    "- Learning to Rank Recommendations with the k-Order Statistic Loss https://research.google.com/pubs/pub41534.html\n",
    "\n",
    "### Data\n",
    "- Movielens 100k https://grouplens.org/datasets/movielens/100k/\n",
    "- README - http://files.grouplens.org/datasets/movielens/ml-100k-README.txt"
   ]
  },
  {
   "cell_type": "code",
   "execution_count": 1,
   "metadata": {
    "collapsed": true
   },
   "outputs": [],
   "source": [
    "import os\n",
    "import pandas as pd\n",
    "from scipy.sparse import coo_matrix, csr_matrix, diags\n",
    "import numpy as np\n",
    "\n",
    "import matplotlib.pyplot as plt\n",
    "from sklearn.metrics import log_loss, accuracy_score, roc_curve, roc_auc_score\n",
    "from sklearn.utils.extmath import safe_sparse_dot\n",
    "import time\n",
    "import math\n",
    "\n",
    "%matplotlib inline"
   ]
  },
  {
   "cell_type": "code",
   "execution_count": 2,
   "metadata": {
    "collapsed": false
   },
   "outputs": [],
   "source": [
    "%load_ext autoreload\n",
    "%autoreload 2"
   ]
  },
  {
   "cell_type": "code",
   "execution_count": 23,
   "metadata": {
    "collapsed": false
   },
   "outputs": [],
   "source": [
    "from warp import WARPNaive"
   ]
  },
  {
   "cell_type": "code",
   "execution_count": 24,
   "metadata": {
    "collapsed": true
   },
   "outputs": [],
   "source": [
    "dtype = np.float32"
   ]
  },
  {
   "cell_type": "code",
   "execution_count": 25,
   "metadata": {
    "collapsed": true
   },
   "outputs": [],
   "source": [
    "data_dir = \"/Users/timwee/projects/datasets/movielens/ml-100k\"\n",
    "\n",
    "def load_data_from_f(fpath):\n",
    "    # columns - user id | item id | rating | timestamp\n",
    "    # user_id and item_id numbered consecutively from 1\n",
    "    with open(fpath) as f:\n",
    "        users, items, ratings = [], [], []\n",
    "        max_user = -1\n",
    "        max_item = -1\n",
    "        for line in f:\n",
    "            user_id, item_id, rating, ts = [int(tok) for tok in line.strip().split(\"\\t\")]\n",
    "            # make it zero indexed\n",
    "            user_id -= 1\n",
    "            item_id -= 1\n",
    "            max_user = max(max_user, user_id)\n",
    "            max_item = max(max_item, item_id)\n",
    "            users.append(user_id) \n",
    "            items.append(item_id)\n",
    "            ratings.append(rating)\n",
    "        return np.array(users), np.array(items), np.array(ratings), max_user, max_item\n",
    "\n",
    "\n",
    "def train_and_test_data(data_dir, train_fname=\"ua.base\", test_fname=\"ua.test\", dtype=np.float32):\n",
    "    trn_u, trn_i, trn_r, max_trn_u, max_trn_i = load_data_from_f(os.path.join(data_dir, train_fname))\n",
    "    tst_u, tst_i, tst_r, max_tst_u, max_tst_i = load_data_from_f(os.path.join(data_dir, test_fname))\n",
    "    num_rows = max(max_trn_u, max_tst_u) + 1\n",
    "    num_cols = max(max_trn_i, max_tst_i) + 1\n",
    "    return {\"train\" : coo_matrix((trn_r, (trn_u, trn_i)), shape=(num_rows, num_cols), dtype=dtype).tocsr(), \\\n",
    "            \"test\" : coo_matrix((tst_r, (tst_u, tst_i)), shape=(num_rows, num_cols), dtype=dtype).tocsr()}\n",
    "    "
   ]
  },
  {
   "cell_type": "code",
   "execution_count": 26,
   "metadata": {
    "collapsed": false
   },
   "outputs": [
    {
     "data": {
      "text/plain": [
       "((943, 1682), (943, 1682))"
      ]
     },
     "execution_count": 26,
     "metadata": {},
     "output_type": "execute_result"
    }
   ],
   "source": [
    "movielens = train_and_test_data(data_dir, dtype=dtype)\n",
    "train, test = movielens[\"train\"], movielens[\"test\"]\n",
    "num_users, num_items = train.shape\n",
    "train.shape, test.shape"
   ]
  },
  {
   "cell_type": "markdown",
   "metadata": {},
   "source": [
    "# WARP"
   ]
  },
  {
   "cell_type": "markdown",
   "metadata": {},
   "source": [
    "### learning rate decay"
   ]
  },
  {
   "cell_type": "code",
   "execution_count": 27,
   "metadata": {
    "collapsed": false
   },
   "outputs": [
    {
     "data": {
      "image/png": "[encoded data removed]",
      "text/plain": [
       "<matplotlib.figure.Figure at 0x115473048>"
      ]
     },
     "metadata": {},
     "output_type": "display_data"
    }
   ],
   "source": [
    "lrate = 1e-7\n",
    "decay = 1e-3\n",
    "lr_val = [lrate]\n",
    "for i in range(1, 100):\n",
    "    lr_val.append(lr_val[i-1] * (1. / (1. + (decay * i))))\n",
    "plt.plot(np.arange(100), lr_val)\n",
    "plt.xlabel(\"num_epoch\")\n",
    "plt.ylabel(\"learning rate\")\n",
    "plt.title(\"Learning Rate %.8f with decay %.4f\" % (lrate, decay))\n",
    "plt.show()"
   ]
  },
  {
   "cell_type": "markdown",
   "metadata": {},
   "source": [
    "# WARP class"
   ]
  },
  {
   "cell_type": "code",
   "execution_count": 34,
   "metadata": {
    "collapsed": false
   },
   "outputs": [
    {
     "name": "stdout",
     "output_type": "stream",
     "text": [
      "initializing embeddings and biases\n",
      "warp iteration 0 took 5.3243, auc: 0.7715, p@5: 0.0418\n",
      "warp iteration 1 took 5.6144, auc: 0.7820, p@5: 0.0409\n",
      "warp iteration 2 took 5.4650, auc: 0.7853, p@5: 0.0418\n",
      "warp iteration 3 took 5.3462, auc: 0.7873, p@5: 0.0418\n",
      "warp iteration 4 took 5.3671, auc: 0.7898, p@5: 0.0424\n",
      "warp iteration 5 took 5.3237, auc: 0.7913, p@5: 0.0424\n",
      "warp iteration 6 took 5.3181, auc: 0.7911, p@5: 0.0422\n",
      "warp iteration 7 took 5.2806, auc: 0.7916, p@5: 0.0416\n",
      "warp iteration 8 took 5.2004, auc: 0.7921, p@5: 0.0420\n",
      "warp iteration 9 took 5.2445, auc: 0.7924, p@5: 0.0420\n",
      "warp iteration 10 took 5.2175, auc: 0.7924, p@5: 0.0416\n",
      "warp iteration 11 took 5.2883, auc: 0.7935, p@5: 0.0416\n",
      "warp iteration 12 took 5.4131, auc: 0.7938, p@5: 0.0420\n",
      "warp iteration 13 took 5.5948, auc: 0.7940, p@5: 0.0420\n",
      "warp iteration 14 took 5.5603, auc: 0.7941, p@5: 0.0420\n"
     ]
    }
   ],
   "source": [
    "from lightfm.evaluation import auc_score, precision_at_k, recall_at_k\n",
    "\n",
    "durations = []\n",
    "tst_warp_auc = []\n",
    "tst_warp_prec5 = []\n",
    "\n",
    "model = WARPNaive(lr=1e-5, item_reg=0.2, user_reg=0.2)\n",
    "num_epochs = 15\n",
    "for epoch in range(num_epochs):\n",
    "    start = time.time()\n",
    "    model.fit(train, reset=False)\n",
    "    duration = time.time() - start\n",
    "    durations.append(duration)    \n",
    "    tst_auc = auc_score(model, test, train_interactions=train).mean()\n",
    "    tst_prec5 = precision_at_k(model, test, train_interactions=train, k=5).mean()\n",
    "    tst_warp_auc.append(tst_auc)\n",
    "    tst_warp_prec5.append(tst_prec5)\n",
    "    print(\"warp iteration %d took %.4f, auc: %.4f, p@5: %.4f\" % (epoch, duration, tst_auc, tst_prec5))"
   ]
  },
  {
   "cell_type": "code",
   "execution_count": 36,
   "metadata": {
    "collapsed": false
   },
   "outputs": [
    {
     "data": {
      "image/png": "[encoded data removed]",
      "text/plain": [
       "<matplotlib.figure.Figure at 0x10512b748>"
      ]
     },
     "metadata": {},
     "output_type": "display_data"
    }
   ],
   "source": [
    "epoch_x = np.arange(num_epochs)\n",
    "test_line, = plt.plot(epoch_x, tst_warp_auc, label=\"auc test\")\n",
    "#train_line, = plt.plot(epoch_x, auc_scores_train, label=\"auc train\")\n",
    "plt.legend([test_line], [\"test auc\"])\n",
    "plt.xlabel(\"num_epoch\")\n",
    "plt.ylabel(\"auc_score\")\n",
    "plt.show()"
   ]
  },
  {
   "cell_type": "code",
   "execution_count": null,
   "metadata": {
    "collapsed": true
   },
   "outputs": [],
   "source": []
  },
  {
   "cell_type": "code",
   "execution_count": null,
   "metadata": {
    "collapsed": true
   },
   "outputs": [],
   "source": []
  },
  {
   "cell_type": "code",
   "execution_count": null,
   "metadata": {
    "collapsed": true
   },
   "outputs": [],
   "source": []
  },
  {
   "cell_type": "code",
   "execution_count": null,
   "metadata": {
    "collapsed": true
   },
   "outputs": [],
   "source": []
  },
  {
   "cell_type": "code",
   "execution_count": null,
   "metadata": {
    "collapsed": true
   },
   "outputs": [],
   "source": []
  },
  {
   "cell_type": "code",
   "execution_count": null,
   "metadata": {
    "collapsed": true
   },
   "outputs": [],
   "source": []
  },
  {
   "cell_type": "code",
   "execution_count": null,
   "metadata": {
    "collapsed": true
   },
   "outputs": [],
   "source": []
  }
 ],
 "metadata": {
  "anaconda-cloud": {},
  "kernelspec": {
   "display_name": "Python [conda root]",
   "language": "python",
   "name": "conda-root-py"
  },
  "language_info": {
   "codemirror_mode": {
    "name": "ipython",
    "version": 3
   },
   "file_extension": ".py",
   "mimetype": "text/x-python",
   "name": "python",
   "nbconvert_exporter": "python",
   "pygments_lexer": "ipython3",
   "version": "3.5.2"
  }
 },
 "nbformat": 4,
 "nbformat_minor": 1
}
