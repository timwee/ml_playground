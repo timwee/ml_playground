{
 "cells": [
  {
   "cell_type": "markdown",
   "metadata": {},
   "source": [
    "# implement \n",
    "\n",
    "### References\n",
    "- WSABIE: Scaling Up To Large Vocabulary Image Annotation http://www.thespermwhale.com/jaseweston/papers/wsabie-ijcai.pdf\n",
    "- Learning to Rank Recommendations with the k-Order Statistic Loss https://research.google.com/pubs/pub41534.html\n",
    "\n",
    "### Data\n",
    "- Movielens 100k https://grouplens.org/datasets/movielens/100k/\n",
    "- README - http://files.grouplens.org/datasets/movielens/ml-100k-README.txt"
   ]
  },
  {
   "cell_type": "code",
   "execution_count": 26,
   "metadata": {
    "collapsed": true
   },
   "outputs": [],
   "source": [
    "import os\n",
    "import pandas as pd\n",
    "from scipy.sparse import coo_matrix, csr_matrix, diags\n",
    "import numpy as np\n",
    "\n",
    "import matplotlib.pyplot as plt\n",
    "from sklearn.metrics import log_loss, accuracy_score, roc_curve, roc_auc_score\n",
    "from sklearn.utils.extmath import safe_sparse_dot\n",
    "import time\n",
    "import math\n",
    "\n",
    "%matplotlib inline"
   ]
  },
  {
   "cell_type": "code",
   "execution_count": 27,
   "metadata": {
    "collapsed": false
   },
   "outputs": [
    {
     "name": "stdout",
     "output_type": "stream",
     "text": [
      "The autoreload extension is already loaded. To reload it, use:\n",
      "  %reload_ext autoreload\n"
     ]
    }
   ],
   "source": [
    "%load_ext autoreload\n",
    "%autoreload 2"
   ]
  },
  {
   "cell_type": "code",
   "execution_count": 28,
   "metadata": {
    "collapsed": true
   },
   "outputs": [],
   "source": [
    "dtype = np.float32"
   ]
  },
  {
   "cell_type": "code",
   "execution_count": 29,
   "metadata": {
    "collapsed": true
   },
   "outputs": [],
   "source": [
    "data_dir = \"/Users/timwee/projects/datasets/movielens/ml-100k\"\n",
    "\n",
    "def load_data_from_f(fpath):\n",
    "    # columns - user id | item id | rating | timestamp\n",
    "    # user_id and item_id numbered consecutively from 1\n",
    "    with open(fpath) as f:\n",
    "        users, items, ratings = [], [], []\n",
    "        max_user = -1\n",
    "        max_item = -1\n",
    "        for line in f:\n",
    "            user_id, item_id, rating, ts = [int(tok) for tok in line.strip().split(\"\\t\")]\n",
    "            # make it zero indexed\n",
    "            user_id -= 1\n",
    "            item_id -= 1\n",
    "            max_user = max(max_user, user_id)\n",
    "            max_item = max(max_item, item_id)\n",
    "            users.append(user_id) \n",
    "            items.append(item_id)\n",
    "            ratings.append(rating)\n",
    "        return np.array(users), np.array(items), np.array(ratings), max_user, max_item\n",
    "\n",
    "\n",
    "def train_and_test_data(data_dir, train_fname=\"ub.base\", test_fname=\"ub.test\", dtype=np.float32):\n",
    "    trn_u, trn_i, trn_r, max_trn_u, max_trn_i = load_data_from_f(os.path.join(data_dir, train_fname))\n",
    "    tst_u, tst_i, tst_r, max_tst_u, max_tst_i = load_data_from_f(os.path.join(data_dir, test_fname))\n",
    "    num_rows = max(max_trn_u, max_tst_u) + 1\n",
    "    num_cols = max(max_trn_i, max_tst_i) + 1\n",
    "    return {\"train\" : coo_matrix((trn_r, (trn_u, trn_i)), shape=(num_rows, num_cols), dtype=dtype).tocsr(), \\\n",
    "            \"test\" : coo_matrix((tst_r, (tst_u, tst_i)), shape=(num_rows, num_cols), dtype=dtype).tocsr()}\n",
    "    "
   ]
  },
  {
   "cell_type": "code",
   "execution_count": 30,
   "metadata": {
    "collapsed": false
   },
   "outputs": [
    {
     "data": {
      "text/plain": [
       "((943, 1682), (943, 1682))"
      ]
     },
     "execution_count": 30,
     "metadata": {},
     "output_type": "execute_result"
    }
   ],
   "source": [
    "movielens = train_and_test_data(data_dir, dtype=dtype)\n",
    "train, test = movielens[\"train\"], movielens[\"test\"]\n",
    "num_users, num_items = train.shape\n",
    "train.shape, test.shape"
   ]
  },
  {
   "cell_type": "markdown",
   "metadata": {},
   "source": [
    "# WARP"
   ]
  },
  {
   "cell_type": "markdown",
   "metadata": {},
   "source": [
    "### learning rate decay"
   ]
  },
  {
   "cell_type": "code",
   "execution_count": 460,
   "metadata": {
    "collapsed": false
   },
   "outputs": [
    {
     "data": {
      "image/png": "[encoded data removed]",
      "text/plain": [
       "<matplotlib.figure.Figure at 0x116e262e8>"
      ]
     },
     "metadata": {},
     "output_type": "display_data"
    }
   ],
   "source": [
    "lrate = 1e-7\n",
    "decay = 1e-3\n",
    "lr_val = [lrate]\n",
    "for i in range(1, 100):\n",
    "    lr_val.append(lr_val[i-1] * (1. / (1. + (decay * i))))\n",
    "plt.plot(np.arange(100), lr_val)\n",
    "plt.xlabel(\"num_epoch\")\n",
    "plt.ylabel(\"learning rate\")\n",
    "plt.title(\"Learning Rate %.8f with decay %.4f\" % (lrate, decay))\n",
    "plt.show()"
   ]
  },
  {
   "cell_type": "markdown",
   "metadata": {},
   "source": [
    "### helper funcs"
   ]
  },
  {
   "cell_type": "code",
   "execution_count": 461,
   "metadata": {
    "collapsed": true
   },
   "outputs": [],
   "source": [
    "def nnz_csrrow(m, rownum):\n",
    "    \"\"\" Returns col indices and data that are nonzero in csr matrix m given rownum \"\"\"\n",
    "    start, stop = m.indptr[rownum], m.indptr[rownum + 1]\n",
    "    return m.indices[start:stop], m.data[start:stop]"
   ]
  },
  {
   "cell_type": "code",
   "execution_count": 462,
   "metadata": {
    "collapsed": true
   },
   "outputs": [],
   "source": [
    "def update_bias_grad(bias_vector, bias_idx, grad, lr, reg):\n",
    "    bias_vector[bias_idx] -= lr * grad\n",
    "    # account for regularization\n",
    "    bias_vector[bias_idx] *= (1.0 + reg * lr)"
   ]
  },
  {
   "cell_type": "code",
   "execution_count": 463,
   "metadata": {
    "collapsed": true
   },
   "outputs": [],
   "source": [
    "def update_latent_vector_grad(latent_vector, idx, grad_vector, lr, reg):\n",
    "    latent_vector[idx,:] -= lr * grad_vector\n",
    "    # regularization\n",
    "    latent_vector[idx,:] *= (1.0 + reg * lr)"
   ]
  },
  {
   "cell_type": "code",
   "execution_count": 464,
   "metadata": {
    "collapsed": true
   },
   "outputs": [],
   "source": [
    "def regularize(user_embeddings, item_embeddings, user_biases, item_biases, user_scale, item_scale):\n",
    "    if not reg:\n",
    "        return\n",
    "    item_embeddings /= item_scale\n",
    "    item_biases /= item_scale\n",
    "    user_embeddings /= user_scale\n",
    "    user_biases /= user_scale"
   ]
  },
  {
   "cell_type": "code",
   "execution_count": 465,
   "metadata": {
    "collapsed": true
   },
   "outputs": [],
   "source": [
    "# TODO, item_scale and item_alpha (and user_*) are different."
   ]
  },
  {
   "cell_type": "markdown",
   "metadata": {},
   "source": [
    "### eval helper funcs"
   ]
  },
  {
   "cell_type": "code",
   "execution_count": 502,
   "metadata": {
    "collapsed": true
   },
   "outputs": [],
   "source": [
    "def zero_out_and_count_train(train_mat, preds):\n",
    "    \"\"\" \n",
    "    Train is expected to be a csr sparse matrix, preds a dense one.\n",
    "    Both should have dimensions [users X items]\n",
    "    \"\"\"\n",
    "    num_rows = train_mat.shape[0]\n",
    "    num_train = np.zeros((num_rows,))\n",
    "    for row in range(num_rows):\n",
    "        col_indices, vals = nnz_csrrow(train_mat,  row)\n",
    "        preds[row, col_indices] = 0\n",
    "        num_train[row] = col_indices.shape[0]\n",
    "    return num_train"
   ]
  },
  {
   "cell_type": "code",
   "execution_count": 533,
   "metadata": {
    "collapsed": false
   },
   "outputs": [],
   "source": [
    "def compute_auc(item_ranks, num_train, test_mat, remove_train=True):\n",
    "    \"\"\"\n",
    "    We define AUC to be the likelihood of rank inversion for a user's items\n",
    "    \"\"\"\n",
    "    num_users, num_items = item_ranks.shape\n",
    "    auc = np.zeros((num_users,))\n",
    "    for user in range(num_users):\n",
    "        test_item_ids, vals = nnz_csrrow(test_mat,  user)\n",
    "        num_test_for_u = test_item_ids.shape[0]\n",
    "        if num_test_for_u == 0:\n",
    "            auc[user] = 0.5\n",
    "            continue\n",
    "        num_train_for_u = num_train[user]\n",
    "        sorted_test_item_ranks = np.sort(item_ranks[user, test_item_ids])\n",
    "        num_neg_items = num_items - (num_train_for_u + num_test_for_u)\n",
    "        for expected_rank, test_rank in enumerate(sorted_test_item_ranks):\n",
    "            num_rank_inversions = test_rank - expected_rank\n",
    "            if num_rank_inversions < 0:\n",
    "                num_rank_inversions = 0\n",
    "            auc[user] += (1.0 - (num_rank_inversions / num_neg_items))\n",
    "        if num_test_for_u > 0:\n",
    "            auc[user] /= num_test_for_u\n",
    "    return auc"
   ]
  },
  {
   "cell_type": "code",
   "execution_count": 534,
   "metadata": {
    "collapsed": true
   },
   "outputs": [],
   "source": [
    "def rank_data(user_embeddings, item_embeddings, item_biases, train_mat, remove_train=True):\n",
    "    preds = (np.dot(user_embeddings, item_embeddings.T) + item_biases)\n",
    "    # we don't want to count the training examples in our ranking\n",
    "    if remove_train:\n",
    "        num_train = zero_out_and_count_train(train_mat, preds)\n",
    "    else:\n",
    "        num_train = np.zeros((user_embeddings.shape[0],))\n",
    "    return np.argsort(preds, axis=1), num_train"
   ]
  },
  {
   "cell_type": "code",
   "execution_count": 535,
   "metadata": {
    "collapsed": false
   },
   "outputs": [],
   "source": [
    "def rank_and_compute_auc(test_mat, train_mat, user_embeddings, item_embeddings, user_biases, item_biases, remove_train=True):\n",
    "    # for each user, multiply user embedding with item embeddings, and add biases\n",
    "    # Find rank of test items within all items, excluding train\n",
    "    # since we only care about the items in the test_mat, we can return a sparse matrix\n",
    "    # we don't have to account for user bias since it doesn't change ranking - it's the same across all items for each user\n",
    "    item_ranks, num_train = rank_data(user_embeddings, item_embeddings, item_biases, train_mat, remove_train=remove_train)\n",
    "    assert np.all(item_ranks >= 0)\n",
    "    return compute_auc(item_ranks, num_train, test_mat, remove_train=remove_train)"
   ]
  },
  {
   "cell_type": "code",
   "execution_count": null,
   "metadata": {
    "collapsed": true
   },
   "outputs": [],
   "source": []
  },
  {
   "cell_type": "markdown",
   "metadata": {},
   "source": [
    "### initialize"
   ]
  },
  {
   "cell_type": "code",
   "execution_count": 536,
   "metadata": {
    "collapsed": true
   },
   "outputs": [],
   "source": [
    "# HyperParams\n",
    "k = 32 # num_factors\n",
    "max_sampled = 125 # max number of iterations until we find a margin violation\n",
    "num_epochs = 10\n",
    "MAX_LOSS = 10 # this is for clipping the loss so our weights don't explode\n",
    "item_reg = 0.0\n",
    "user_reg = 0.0\n",
    "item_scale = 1.0\n",
    "user_scale = 1.0\n",
    "MAX_REG_SCALE = 1000000\n",
    "\n",
    "lr = 1e-7\n",
    "decay = 1e-3"
   ]
  },
  {
   "cell_type": "code",
   "execution_count": 537,
   "metadata": {
    "collapsed": true
   },
   "outputs": [],
   "source": [
    "rand = np.random.RandomState()"
   ]
  },
  {
   "cell_type": "code",
   "execution_count": 538,
   "metadata": {
    "collapsed": true
   },
   "outputs": [],
   "source": [
    "def initialize_embeddings(num_users, num_items, k):\n",
    "    stddev = 1. / math.sqrt(k)\n",
    "    #math.sqrt(k)\n",
    "    return {\"item\" : rand.normal(0, stddev, (num_items, k)), \\\n",
    "            \"user\" : rand.normal(0, stddev, (num_users, k))}"
   ]
  },
  {
   "cell_type": "code",
   "execution_count": 539,
   "metadata": {
    "collapsed": false
   },
   "outputs": [],
   "source": [
    "embeddings = initialize_embeddings(num_users, num_items, k)\n",
    "user_embeddings = embeddings[\"user\"]\n",
    "item_embeddings = embeddings[\"item\"]\n",
    "user_biases = np.zeros((num_users,), dtype=dtype)\n",
    "item_biases = np.zeros((num_items,), dtype=dtype)"
   ]
  },
  {
   "cell_type": "markdown",
   "metadata": {},
   "source": [
    "# fit/train"
   ]
  },
  {
   "cell_type": "code",
   "execution_count": 540,
   "metadata": {
    "collapsed": false
   },
   "outputs": [
    {
     "name": "stdout",
     "output_type": "stream",
     "text": [
      "iteration 0 took 4.374344 seconds, auc_test 0.4577, auc_train 0.4961\n",
      "iteration 1 took 4.362473 seconds, auc_test 0.4560, auc_train 0.4973\n",
      "iteration 2 took 4.321955 seconds, auc_test 0.4591, auc_train 0.4994\n",
      "iteration 3 took 4.318927 seconds, auc_test 0.4599, auc_train 0.4996\n",
      "iteration 4 took 4.428538 seconds, auc_test 0.4577, auc_train 0.4992\n",
      "iteration 5 took 4.321253 seconds, auc_test 0.4598, auc_train 0.4989\n",
      "iteration 6 took 4.343913 seconds, auc_test 0.4613, auc_train 0.4996\n",
      "iteration 7 took 4.375854 seconds, auc_test 0.4600, auc_train 0.4965\n",
      "iteration 8 took 4.367333 seconds, auc_test 0.4582, auc_train 0.4950\n",
      "iteration 9 took 4.332125 seconds, auc_test 0.4594, auc_train 0.4948\n"
     ]
    }
   ],
   "source": [
    "durations = []\n",
    "auc_scores_test = []\n",
    "auc_scores_train = []\n",
    "for epoch in range(num_epochs):\n",
    "    if decay > 0.0:\n",
    "        lr *= 1./(1. + decay * epoch)\n",
    "    start = time.time()\n",
    "    # shuffle dataset at start of each epoch\n",
    "    shuffled_users = np.arange(num_users)\n",
    "    rand.shuffle(shuffled_users)\n",
    "    for u in range(num_users):\n",
    "        user_id = shuffled_users[u]\n",
    "        user_bias, user_embedding = user_biases[user_id], user_embeddings[user_id,:]\n",
    "        # get user items\n",
    "        pos_item_idxs, pos_item_ratings = nnz_csrrow(train, user_id)\n",
    "        pos_item_set = set(pos_item_idxs)\n",
    "        shuffled_pos_items = np.arange(pos_item_idxs.shape[0])\n",
    "        rand.shuffle(shuffled_pos_items)\n",
    "        for pos_item_id in shuffled_pos_items:\n",
    "            pos_item_bias, pos_item_embedding = item_biases[pos_item_id], item_embeddings[pos_item_id,:]\n",
    "            \n",
    "            pos_item_score = safe_sparse_dot(user_embedding, pos_item_embedding) + user_bias + pos_item_bias\n",
    "            # sample until we find a negative item that violates the margin\n",
    "            num_sampled = 0\n",
    "            while num_sampled < max_sampled:\n",
    "                num_sampled += 1\n",
    "                neg_item_id = rand.randint(0, num_items)\n",
    "                if neg_item_id in pos_item_set:\n",
    "                    continue\n",
    "                neg_item_bias, neg_item_embedding = item_biases[neg_item_id], item_embeddings[neg_item_id,:]\n",
    "                neg_item_score = safe_sparse_dot(user_embedding, neg_item_embedding) + user_bias + neg_item_bias\n",
    "                if pos_item_score > 1 + neg_item_score:\n",
    "                    continue\n",
    "                # found a candidate negative item\n",
    "                loss = math.log(math.floor(num_items / num_sampled))\n",
    "                if loss > MAX_LOSS:\n",
    "                    loss = MAX_LOSS\n",
    "                # update biases\n",
    "                update_bias_grad(user_biases, user_id, loss, lr, user_reg)\n",
    "                update_bias_grad(item_biases, neg_item_id, loss, lr, item_reg)\n",
    "                update_bias_grad(item_biases, pos_item_id, -loss, lr, item_reg)\n",
    "                # update latent factors\n",
    "                update_latent_vector_grad(user_embeddings, \\\n",
    "                                          user_id, \\\n",
    "                                          loss * (neg_item_embedding - pos_item_embedding), \\\n",
    "                                          lr, user_reg)\n",
    "                update_latent_vector_grad(item_embeddings, \\\n",
    "                                          pos_item_id, \\\n",
    "                                          -loss * user_embedding, \\\n",
    "                                          lr, item_reg)\n",
    "                update_latent_vector_grad(item_embeddings, \\\n",
    "                                          neg_item_id, \\\n",
    "                                          loss * user_embedding, \\\n",
    "                                          lr, item_reg)\n",
    "                user_scale *= (1.0 + user_reg * lr)\n",
    "                item_scale *= (1.0 + item_reg * lr)\n",
    "                break\n",
    "            if user_scale > MAX_REG_SCALE or item_scale > MAX_REG_SCALE:\n",
    "                #print(\"regularizing!\")\n",
    "                regularize(user_embeddings, item_embeddings, user_biases, item_biases, user_scale, item_scale)\n",
    "                user_scale = 1.0\n",
    "                item_scale = 1.0\n",
    "    duration = time.time() - start\n",
    "    durations.append(duration)    \n",
    "    auc_score_arr_test = rank_and_compute_auc(test, train, user_embeddings, \\\n",
    "                    item_embeddings, user_biases, item_biases)\n",
    "    auc_score_test = auc_score_arr_test.mean()\n",
    "    auc_scores_test.append(auc_score_test)\n",
    "    auc_score_arr_train = rank_and_compute_auc(train, train, user_embeddings, \\\n",
    "                    item_embeddings, user_biases, item_biases, remove_train=False)\n",
    "    auc_score_train = auc_score_arr_train.mean()\n",
    "    auc_scores_train.append(auc_score_train)\n",
    "    print(\"iteration %d took %f seconds, auc_test %.4f, auc_train %.4f\" % \\\n",
    "        (epoch, duration, auc_score_test, auc_score_train))"
   ]
  },
  {
   "cell_type": "code",
   "execution_count": 541,
   "metadata": {
    "collapsed": false
   },
   "outputs": [
    {
     "data": {
      "image/png": "[encoded data removed]",
      "text/plain": [
       "<matplotlib.figure.Figure at 0x11698bd68>"
      ]
     },
     "metadata": {},
     "output_type": "display_data"
    }
   ],
   "source": [
    "epoch_x = np.arange(num_epochs)\n",
    "plt.plot(epoch_x, durations)\n",
    "plt.xlabel(\"num_epoch\")\n",
    "plt.ylabel(\"execution in sec.\")\n",
    "plt.show()"
   ]
  },
  {
   "cell_type": "code",
   "execution_count": 542,
   "metadata": {
    "collapsed": false
   },
   "outputs": [
    {
     "data": {
      "image/png": "[encoded data removed]",
      "text/plain": [
       "<matplotlib.figure.Figure at 0x116ba8128>"
      ]
     },
     "metadata": {},
     "output_type": "display_data"
    }
   ],
   "source": [
    "epoch_x = np.arange(num_epochs)\n",
    "test_line, = plt.plot(epoch_x, auc_scores_test, label=\"auc test\")\n",
    "train_line, = plt.plot(epoch_x, auc_scores_train, label=\"auc train\")\n",
    "plt.legend([test_line, train_line], [\"test auc\", \"train auc\"])\n",
    "plt.xlabel(\"num_epoch\")\n",
    "plt.ylabel(\"auc_score\")\n",
    "plt.show()"
   ]
  },
  {
   "cell_type": "code",
   "execution_count": null,
   "metadata": {
    "collapsed": true
   },
   "outputs": [],
   "source": []
  },
  {
   "cell_type": "code",
   "execution_count": null,
   "metadata": {
    "collapsed": true
   },
   "outputs": [],
   "source": []
  },
  {
   "cell_type": "code",
   "execution_count": null,
   "metadata": {
    "collapsed": true
   },
   "outputs": [],
   "source": []
  },
  {
   "cell_type": "code",
   "execution_count": null,
   "metadata": {
    "collapsed": true
   },
   "outputs": [],
   "source": []
  }
 ],
 "metadata": {
  "anaconda-cloud": {},
  "kernelspec": {
   "display_name": "Python [conda root]",
   "language": "python",
   "name": "conda-root-py"
  },
  "language_info": {
   "codemirror_mode": {
    "name": "ipython",
    "version": 3
   },
   "file_extension": ".py",
   "mimetype": "text/x-python",
   "name": "python",
   "nbconvert_exporter": "python",
   "pygments_lexer": "ipython3",
   "version": "3.5.2"
  }
 },
 "nbformat": 4,
 "nbformat_minor": 1
}
