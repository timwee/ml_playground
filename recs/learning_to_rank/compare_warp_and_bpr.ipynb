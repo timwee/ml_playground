{
 "cells": [
  {
   "cell_type": "markdown",
   "metadata": {},
   "source": [
    "# Compare\n",
    "- BPR: Bayesian Personalized Ranking from Implicit Feedback\n",
    "https://arxiv.org/abs/1205.2618\n",
    "- WSABIE: Scaling Up To Large Vocabulary Image Annotation http://www.thespermwhale.com/jaseweston/papers/wsabie-ijcai.pdf\n",
    "- Learning to Rank Recommendations with the k-Order Statistic Loss https://research.google.com/pubs/pub41534.html\n",
    "\n",
    "### Data\n",
    "- Movielens 100k https://grouplens.org/datasets/movielens/100k/\n",
    "- README - http://files.grouplens.org/datasets/movielens/ml-100k-README.txt"
   ]
  },
  {
   "cell_type": "code",
   "execution_count": 1,
   "metadata": {
    "collapsed": true
   },
   "outputs": [],
   "source": [
    "import os\n",
    "import pandas as pd\n",
    "from scipy.sparse import coo_matrix, csr_matrix, diags\n",
    "import numpy as np\n",
    "\n",
    "import matplotlib.pyplot as plt\n",
    "from sklearn.metrics import log_loss, accuracy_score, roc_curve, roc_auc_score\n",
    "from sklearn.utils.extmath import safe_sparse_dot\n",
    "import time\n",
    "import math\n",
    "\n",
    "%matplotlib inline"
   ]
  },
  {
   "cell_type": "code",
   "execution_count": 2,
   "metadata": {
    "collapsed": false
   },
   "outputs": [],
   "source": [
    "%load_ext autoreload\n",
    "%autoreload 2"
   ]
  },
  {
   "cell_type": "code",
   "execution_count": 3,
   "metadata": {
    "collapsed": false
   },
   "outputs": [],
   "source": [
    "from warp import WARPNaive, KosWARP\n",
    "from bpr import BPR "
   ]
  },
  {
   "cell_type": "code",
   "execution_count": 4,
   "metadata": {
    "collapsed": true
   },
   "outputs": [],
   "source": [
    "dtype = np.float32"
   ]
  },
  {
   "cell_type": "code",
   "execution_count": 5,
   "metadata": {
    "collapsed": true
   },
   "outputs": [],
   "source": [
    "data_dir = \"/Users/timwee/projects/datasets/movielens/ml-100k\"\n",
    "\n",
    "def load_data_from_f(fpath):\n",
    "    # columns - user id | item id | rating | timestamp\n",
    "    # user_id and item_id numbered consecutively from 1\n",
    "    with open(fpath) as f:\n",
    "        users, items, ratings = [], [], []\n",
    "        max_user = -1\n",
    "        max_item = -1\n",
    "        for line in f:\n",
    "            user_id, item_id, rating, ts = [int(tok) for tok in line.strip().split(\"\\t\")]\n",
    "            # make it zero indexed\n",
    "            user_id -= 1\n",
    "            item_id -= 1\n",
    "            max_user = max(max_user, user_id)\n",
    "            max_item = max(max_item, item_id)\n",
    "            users.append(user_id) \n",
    "            items.append(item_id)\n",
    "            ratings.append(rating)\n",
    "        return np.array(users), np.array(items), np.array(ratings), max_user, max_item\n",
    "\n",
    "\n",
    "def train_and_test_data(data_dir, train_fname=\"ua.base\", test_fname=\"ua.test\", dtype=np.float32):\n",
    "    trn_u, trn_i, trn_r, max_trn_u, max_trn_i = load_data_from_f(os.path.join(data_dir, train_fname))\n",
    "    tst_u, tst_i, tst_r, max_tst_u, max_tst_i = load_data_from_f(os.path.join(data_dir, test_fname))\n",
    "    num_rows = max(max_trn_u, max_tst_u) + 1\n",
    "    num_cols = max(max_trn_i, max_tst_i) + 1\n",
    "    return {\"train\" : coo_matrix((trn_r, (trn_u, trn_i)), shape=(num_rows, num_cols), dtype=dtype).tocsr(), \\\n",
    "            \"test\" : coo_matrix((tst_r, (tst_u, tst_i)), shape=(num_rows, num_cols), dtype=dtype).tocsr()}\n",
    "    "
   ]
  },
  {
   "cell_type": "code",
   "execution_count": 6,
   "metadata": {
    "collapsed": false
   },
   "outputs": [
    {
     "data": {
      "text/plain": [
       "((943, 1682), (943, 1682))"
      ]
     },
     "execution_count": 6,
     "metadata": {},
     "output_type": "execute_result"
    }
   ],
   "source": [
    "movielens = train_and_test_data(data_dir, dtype=dtype)\n",
    "train, test = movielens[\"train\"], movielens[\"test\"]\n",
    "num_users, num_items = train.shape\n",
    "train.shape, test.shape"
   ]
  },
  {
   "cell_type": "markdown",
   "metadata": {},
   "source": [
    "### learning rate decay"
   ]
  },
  {
   "cell_type": "code",
   "execution_count": 7,
   "metadata": {
    "collapsed": false
   },
   "outputs": [
    {
     "data": {
      "image/png": "[encoded data removed]",
      "text/plain": [
       "<matplotlib.figure.Figure at 0x111e711d0>"
      ]
     },
     "metadata": {},
     "output_type": "display_data"
    }
   ],
   "source": [
    "lrate = 1e-7\n",
    "decay = 1e-3\n",
    "lr_val = [lrate]\n",
    "for i in range(1, 100):\n",
    "    lr_val.append(lr_val[i-1] * (1. / (1. + (decay * i))))\n",
    "plt.plot(np.arange(100), lr_val)\n",
    "plt.xlabel(\"num_epoch\")\n",
    "plt.ylabel(\"learning rate\")\n",
    "plt.title(\"Learning Rate %.8f with decay %.4f\" % (lrate, decay))\n",
    "plt.show()"
   ]
  },
  {
   "cell_type": "markdown",
   "metadata": {},
   "source": [
    "## helpers"
   ]
  },
  {
   "cell_type": "code",
   "execution_count": 8,
   "metadata": {
    "collapsed": true
   },
   "outputs": [],
   "source": [
    "def plot_auc(title, auc_scores, num_epochs):\n",
    "    epoch_x = np.arange(num_epochs)\n",
    "    test_line, = plt.plot(epoch_x, auc_scores, label=\"auc test\")\n",
    "    plt.legend([test_line], [\"test auc\"])\n",
    "    plt.xlabel(\"num_epoch\")\n",
    "    plt.ylabel(\"auc_score\")\n",
    "    plt.title(title)\n",
    "    plt.show()"
   ]
  },
  {
   "cell_type": "code",
   "execution_count": 9,
   "metadata": {
    "collapsed": false
   },
   "outputs": [
    {
     "name": "stderr",
     "output_type": "stream",
     "text": [
      "/Users/timwee/anaconda3/lib/python3.5/site-packages/lightfm/_lightfm_fast.py:9: UserWarning: LightFM was compiled without OpenMP support. Only a single thread will be used.\n",
      "  warnings.warn('LightFM was compiled without OpenMP support. '\n"
     ]
    }
   ],
   "source": [
    "from lightfm.evaluation import auc_score, precision_at_k, recall_at_k, reciprocal_rank"
   ]
  },
  {
   "cell_type": "markdown",
   "metadata": {},
   "source": [
    "# WARP class"
   ]
  },
  {
   "cell_type": "code",
   "execution_count": 10,
   "metadata": {
    "collapsed": false
   },
   "outputs": [
    {
     "name": "stdout",
     "output_type": "stream",
     "text": [
      "initializing embeddings and biases\n",
      "warp iteration 0 took 5.0769, auc: 0.6232, p@5: 0.0303, rr: 0.0966\n",
      "warp iteration 1 took 5.0446, auc: 0.6688, p@5: 0.0333, rr: 0.1010\n",
      "warp iteration 2 took 5.0646, auc: 0.6956, p@5: 0.0335, rr: 0.1047\n",
      "warp iteration 3 took 5.0750, auc: 0.7140, p@5: 0.0350, rr: 0.1099\n",
      "warp iteration 4 took 5.2123, auc: 0.7275, p@5: 0.0363, rr: 0.1169\n",
      "warp iteration 5 took 5.0903, auc: 0.7372, p@5: 0.0375, rr: 0.1216\n",
      "warp iteration 6 took 5.1183, auc: 0.7447, p@5: 0.0378, rr: 0.1264\n",
      "warp iteration 7 took 5.0739, auc: 0.7509, p@5: 0.0373, rr: 0.1330\n",
      "warp iteration 8 took 5.0439, auc: 0.7558, p@5: 0.0378, rr: 0.1353\n",
      "warp iteration 9 took 5.1254, auc: 0.7604, p@5: 0.0380, rr: 0.1374\n",
      "warp iteration 10 took 5.1453, auc: 0.7642, p@5: 0.0386, rr: 0.1386\n",
      "warp iteration 11 took 5.0886, auc: 0.7674, p@5: 0.0384, rr: 0.1418\n",
      "warp iteration 12 took 5.2168, auc: 0.7702, p@5: 0.0392, rr: 0.1463\n",
      "warp iteration 13 took 5.0663, auc: 0.7725, p@5: 0.0399, rr: 0.1463\n",
      "warp iteration 14 took 5.1212, auc: 0.7745, p@5: 0.0401, rr: 0.1496\n",
      "warp iteration 15 took 5.0968, auc: 0.7765, p@5: 0.0405, rr: 0.1496\n",
      "warp iteration 16 took 5.0566, auc: 0.7782, p@5: 0.0407, rr: 0.1515\n",
      "warp iteration 17 took 5.1108, auc: 0.7798, p@5: 0.0405, rr: 0.1544\n",
      "warp iteration 18 took 5.1203, auc: 0.7809, p@5: 0.0407, rr: 0.1553\n",
      "warp iteration 19 took 5.1105, auc: 0.7821, p@5: 0.0407, rr: 0.1560\n",
      "warp iteration 20 took 5.2662, auc: 0.7831, p@5: 0.0409, rr: 0.1563\n",
      "warp iteration 21 took 5.0752, auc: 0.7841, p@5: 0.0411, rr: 0.1554\n",
      "warp iteration 22 took 5.1014, auc: 0.7851, p@5: 0.0411, rr: 0.1559\n",
      "warp iteration 23 took 5.0756, auc: 0.7858, p@5: 0.0418, rr: 0.1568\n",
      "warp iteration 24 took 5.1197, auc: 0.7865, p@5: 0.0420, rr: 0.1581\n",
      "warp iteration 25 took 5.1633, auc: 0.7872, p@5: 0.0420, rr: 0.1579\n",
      "warp iteration 26 took 5.1089, auc: 0.7879, p@5: 0.0416, rr: 0.1588\n",
      "warp iteration 27 took 5.1609, auc: 0.7883, p@5: 0.0414, rr: 0.1588\n",
      "warp iteration 28 took 5.2228, auc: 0.7887, p@5: 0.0411, rr: 0.1585\n",
      "warp iteration 29 took 5.1043, auc: 0.7891, p@5: 0.0411, rr: 0.1583\n",
      "warp iteration 30 took 5.1915, auc: 0.7897, p@5: 0.0409, rr: 0.1588\n",
      "warp iteration 31 took 5.1543, auc: 0.7901, p@5: 0.0414, rr: 0.1583\n",
      "warp iteration 32 took 5.1871, auc: 0.7906, p@5: 0.0416, rr: 0.1579\n",
      "warp iteration 33 took 5.1236, auc: 0.7909, p@5: 0.0416, rr: 0.1573\n",
      "warp iteration 34 took 5.1288, auc: 0.7912, p@5: 0.0416, rr: 0.1593\n",
      "warp iteration 35 took 5.1015, auc: 0.7914, p@5: 0.0416, rr: 0.1588\n",
      "warp iteration 36 took 5.1206, auc: 0.7917, p@5: 0.0416, rr: 0.1592\n",
      "warp iteration 37 took 5.1019, auc: 0.7921, p@5: 0.0416, rr: 0.1590\n",
      "warp iteration 38 took 5.2879, auc: 0.7923, p@5: 0.0416, rr: 0.1586\n",
      "warp iteration 39 took 5.0822, auc: 0.7925, p@5: 0.0416, rr: 0.1597\n",
      "warp iteration 40 took 5.1357, auc: 0.7929, p@5: 0.0416, rr: 0.1598\n",
      "warp iteration 41 took 5.1431, auc: 0.7932, p@5: 0.0416, rr: 0.1590\n",
      "warp iteration 42 took 5.1544, auc: 0.7935, p@5: 0.0416, rr: 0.1597\n",
      "warp iteration 43 took 5.1448, auc: 0.7936, p@5: 0.0416, rr: 0.1590\n",
      "warp iteration 44 took 5.1277, auc: 0.7938, p@5: 0.0418, rr: 0.1592\n",
      "warp iteration 45 took 5.0683, auc: 0.7940, p@5: 0.0418, rr: 0.1592\n",
      "warp iteration 46 took 5.0732, auc: 0.7941, p@5: 0.0418, rr: 0.1592\n",
      "warp iteration 47 took 5.0345, auc: 0.7943, p@5: 0.0418, rr: 0.1592\n",
      "warp iteration 48 took 5.0404, auc: 0.7944, p@5: 0.0418, rr: 0.1598\n",
      "warp iteration 49 took 5.0932, auc: 0.7945, p@5: 0.0418, rr: 0.1595\n",
      "warp iteration 50 took 5.0400, auc: 0.7946, p@5: 0.0418, rr: 0.1595\n",
      "warp iteration 51 took 5.0535, auc: 0.7947, p@5: 0.0418, rr: 0.1590\n",
      "warp iteration 52 took 5.0513, auc: 0.7948, p@5: 0.0418, rr: 0.1595\n",
      "warp iteration 53 took 5.0350, auc: 0.7948, p@5: 0.0418, rr: 0.1594\n",
      "warp iteration 54 took 5.0611, auc: 0.7950, p@5: 0.0418, rr: 0.1590\n",
      "warp iteration 55 took 5.0512, auc: 0.7952, p@5: 0.0418, rr: 0.1590\n",
      "warp iteration 56 took 5.1230, auc: 0.7952, p@5: 0.0418, rr: 0.1596\n",
      "warp iteration 57 took 5.0078, auc: 0.7952, p@5: 0.0418, rr: 0.1587\n",
      "warp iteration 58 took 5.0990, auc: 0.7953, p@5: 0.0418, rr: 0.1589\n",
      "warp iteration 59 took 5.0398, auc: 0.7954, p@5: 0.0418, rr: 0.1587\n",
      "warp iteration 60 took 5.0739, auc: 0.7955, p@5: 0.0420, rr: 0.1586\n",
      "warp iteration 61 took 5.0629, auc: 0.7956, p@5: 0.0418, rr: 0.1585\n",
      "warp iteration 62 took 5.0543, auc: 0.7958, p@5: 0.0420, rr: 0.1585\n",
      "warp iteration 63 took 5.1599, auc: 0.7958, p@5: 0.0420, rr: 0.1586\n",
      "warp iteration 64 took 5.0513, auc: 0.7959, p@5: 0.0420, rr: 0.1586\n",
      "warp iteration 65 took 5.0555, auc: 0.7960, p@5: 0.0420, rr: 0.1586\n",
      "warp iteration 66 took 5.0770, auc: 0.7961, p@5: 0.0420, rr: 0.1585\n",
      "warp iteration 67 took 5.0510, auc: 0.7962, p@5: 0.0420, rr: 0.1586\n",
      "warp iteration 68 took 5.0563, auc: 0.7962, p@5: 0.0420, rr: 0.1587\n",
      "warp iteration 69 took 5.0459, auc: 0.7963, p@5: 0.0420, rr: 0.1587\n"
     ]
    }
   ],
   "source": [
    "durations = []\n",
    "tst_warp_auc = []\n",
    "tst_warp_prec5 = []\n",
    "tst_warp_rr = []\n",
    "\n",
    "model = WARPNaive(lr=5e-7, item_reg=0.2, user_reg=0.2)\n",
    "num_epochs = 70\n",
    "for epoch in range(num_epochs):\n",
    "    start = time.time()\n",
    "    model.fit(train, reset=False)\n",
    "    duration = time.time() - start\n",
    "    durations.append(duration)    \n",
    "    tst_auc = auc_score(model, test, train_interactions=train).mean()\n",
    "    tst_prec5 = precision_at_k(model, test, train_interactions=train, k=5).mean()\n",
    "    tst_rr = reciprocal_rank(model, test, train_interactions=train).mean()\n",
    "    tst_warp_auc.append(tst_auc)\n",
    "    tst_warp_prec5.append(tst_prec5)\n",
    "    tst_warp_rr.append(tst_rr)\n",
    "    print(\"warp iteration %d took %.4f, auc: %.4f, p@5: %.4f, rr: %.4f\" % \\\n",
    "          (epoch, duration, tst_auc, tst_prec5, tst_rr))"
   ]
  },
  {
   "cell_type": "code",
   "execution_count": null,
   "metadata": {
    "collapsed": false
   },
   "outputs": [
    {
     "data": {
      "image/png": "[encoded data removed]",
      "text/plain": [
       "<matplotlib.figure.Figure at 0x11242bc50>"
      ]
     },
     "metadata": {},
     "output_type": "display_data"
    }
   ],
   "source": [
    "plot_auc(\"WARP AUC\", tst_warp_auc, num_epochs)"
   ]
  },
  {
   "cell_type": "markdown",
   "metadata": {},
   "source": [
    "## BPR Class"
   ]
  },
  {
   "cell_type": "code",
   "execution_count": null,
   "metadata": {
    "collapsed": false
   },
   "outputs": [
    {
     "name": "stdout",
     "output_type": "stream",
     "text": [
      "initializing embeddings and biases\n",
      "iteration 0 took 5.4555, auc: 0.5129, p@5: 0.0068, rr: 0.0359\n",
      "iteration 1 took 5.4719, auc: 0.5276, p@5: 0.0089, rr: 0.0430\n",
      "iteration 2 took 5.5093, auc: 0.5414, p@5: 0.0142, rr: 0.0532\n",
      "iteration 3 took 5.5413, auc: 0.5540, p@5: 0.0155, rr: 0.0644\n",
      "iteration 4 took 5.4852, auc: 0.5651, p@5: 0.0165, rr: 0.0719\n",
      "iteration 5 took 5.5214, auc: 0.5752, p@5: 0.0206, rr: 0.0782\n",
      "iteration 6 took 5.5513, auc: 0.5844, p@5: 0.0214, rr: 0.0814\n",
      "iteration 7 took 5.5676, auc: 0.5928, p@5: 0.0221, rr: 0.0835\n",
      "iteration 8 took 5.5557, auc: 0.6007, p@5: 0.0242, rr: 0.0863\n",
      "iteration 9 took 5.5212, auc: 0.6079, p@5: 0.0235, rr: 0.0885\n",
      "iteration 10 took 5.5259, auc: 0.6147, p@5: 0.0244, rr: 0.0900\n",
      "iteration 11 took 5.5211, auc: 0.6212, p@5: 0.0255, rr: 0.0918\n",
      "iteration 12 took 5.5782, auc: 0.6272, p@5: 0.0265, rr: 0.0939\n",
      "iteration 13 took 5.4980, auc: 0.6329, p@5: 0.0274, rr: 0.0940\n",
      "iteration 14 took 5.5125, auc: 0.6383, p@5: 0.0282, rr: 0.0939\n",
      "iteration 15 took 5.7706, auc: 0.6434, p@5: 0.0282, rr: 0.0946\n",
      "iteration 16 took 5.5359, auc: 0.6483, p@5: 0.0293, rr: 0.0957\n",
      "iteration 17 took 5.5275, auc: 0.6531, p@5: 0.0291, rr: 0.0961\n",
      "iteration 18 took 5.5263, auc: 0.6575, p@5: 0.0299, rr: 0.0970\n",
      "iteration 19 took 5.6579, auc: 0.6617, p@5: 0.0301, rr: 0.0990\n",
      "iteration 20 took 5.5837, auc: 0.6658, p@5: 0.0308, rr: 0.0989\n",
      "iteration 21 took 5.6370, auc: 0.6697, p@5: 0.0312, rr: 0.0998\n",
      "iteration 22 took 5.6107, auc: 0.6736, p@5: 0.0314, rr: 0.0999\n",
      "iteration 23 took 5.6584, auc: 0.6773, p@5: 0.0316, rr: 0.1005\n",
      "iteration 24 took 5.6820, auc: 0.6809, p@5: 0.0314, rr: 0.1009\n",
      "iteration 25 took 5.6599, auc: 0.6843, p@5: 0.0318, rr: 0.1019\n",
      "iteration 26 took 5.6793, auc: 0.6877, p@5: 0.0316, rr: 0.1021\n",
      "iteration 27 took 5.7509, auc: 0.6910, p@5: 0.0314, rr: 0.1024\n",
      "iteration 28 took 5.5831, auc: 0.6942, p@5: 0.0310, rr: 0.1044\n",
      "iteration 29 took 5.5571, auc: 0.6971, p@5: 0.0316, rr: 0.1052\n",
      "iteration 30 took 5.4756, auc: 0.7001, p@5: 0.0322, rr: 0.1048\n",
      "iteration 31 took 5.5052, auc: 0.7030, p@5: 0.0322, rr: 0.1057\n",
      "iteration 32 took 5.5259, auc: 0.7058, p@5: 0.0324, rr: 0.1064\n",
      "iteration 33 took 5.5530, auc: 0.7085, p@5: 0.0329, rr: 0.1079\n",
      "iteration 34 took 5.5372, auc: 0.7111, p@5: 0.0333, rr: 0.1086\n",
      "iteration 35 took 5.5048, auc: 0.7136, p@5: 0.0333, rr: 0.1093\n",
      "iteration 36 took 6.0256, auc: 0.7161, p@5: 0.0331, rr: 0.1110\n",
      "iteration 37 took 6.2943, auc: 0.7184, p@5: 0.0331, rr: 0.1117\n",
      "iteration 38 took 6.7579, auc: 0.7206, p@5: 0.0327, rr: 0.1130\n",
      "iteration 39 took 6.6190, auc: 0.7229, p@5: 0.0329, rr: 0.1136\n",
      "iteration 40 took 6.7136, auc: 0.7250, p@5: 0.0327, rr: 0.1141\n",
      "iteration 41 took 6.8466, auc: 0.7271, p@5: 0.0335, rr: 0.1162\n",
      "iteration 42 took 6.7958, auc: 0.7291, p@5: 0.0335, rr: 0.1160\n",
      "iteration 43 took 6.7611, auc: 0.7313, p@5: 0.0337, rr: 0.1161\n",
      "iteration 44 took 6.3689, auc: 0.7332, p@5: 0.0337, rr: 0.1164\n",
      "iteration 45 took 6.7462, auc: 0.7350, p@5: 0.0344, rr: 0.1172\n",
      "iteration 46 took 6.8424, auc: 0.7368, p@5: 0.0344, rr: 0.1180\n",
      "iteration 47 took 6.7535, auc: 0.7386, p@5: 0.0346, rr: 0.1195\n",
      "iteration 48 took 6.7891, auc: 0.7402, p@5: 0.0346, rr: 0.1196\n",
      "iteration 49 took 6.7637, auc: 0.7419, p@5: 0.0346, rr: 0.1199\n",
      "iteration 50 took 6.7738, auc: 0.7434, p@5: 0.0346, rr: 0.1221\n",
      "iteration 51 took 6.2486, auc: 0.7449, p@5: 0.0350, rr: 0.1224\n",
      "iteration 52 took 6.6743, auc: 0.7464, p@5: 0.0352, rr: 0.1237\n",
      "iteration 53 took 6.6722, auc: 0.7479, p@5: 0.0354, rr: 0.1234\n",
      "iteration 54 took 6.5952, auc: 0.7494, p@5: 0.0356, rr: 0.1248\n",
      "iteration 55 took 7.3368, auc: 0.7506, p@5: 0.0358, rr: 0.1263\n",
      "iteration 56 took 7.7772, auc: 0.7520, p@5: 0.0363, rr: 0.1280\n",
      "iteration 57 took 7.2707, auc: 0.7533, p@5: 0.0367, rr: 0.1290\n"
     ]
    }
   ],
   "source": [
    "durations = []\n",
    "tst_bpr_auc = []\n",
    "tst_bpr_prec5 = []\n",
    "tst_bpr_rr = []\n",
    "\n",
    "bpr_model = BPR(lr=5e-7, item_reg=0.2, user_reg=0.2)\n",
    "num_epochs = 70\n",
    "for epoch in range(num_epochs):\n",
    "    start = time.time()\n",
    "    bpr_model.fit(train, reset=False)\n",
    "    duration = time.time() - start\n",
    "    durations.append(duration)    \n",
    "    tst_auc = auc_score(bpr_model, test, train_interactions=train).mean()\n",
    "    tst_prec5 = precision_at_k(bpr_model, test, train_interactions=train, k=5).mean()\n",
    "    tst_rr = reciprocal_rank(bpr_model, test, train_interactions=train).mean()\n",
    "    tst_bpr_auc.append(tst_auc)\n",
    "    tst_bpr_prec5.append(tst_prec5)\n",
    "    tst_bpr_rr.append(tst_rr)\n",
    "    print(\"iteration %d took %.4f, auc: %.4f, p@5: %.4f, rr: %.4f\" % (epoch, duration, tst_auc, tst_prec5, tst_rr))"
   ]
  },
  {
   "cell_type": "code",
   "execution_count": null,
   "metadata": {
    "collapsed": false
   },
   "outputs": [],
   "source": [
    "reciprocal_rank(bpr_model, test, train_interactions=train).mean()"
   ]
  },
  {
   "cell_type": "code",
   "execution_count": null,
   "metadata": {
    "collapsed": false
   },
   "outputs": [],
   "source": [
    "plot_auc(\"BPR AUC\", tst_bpr_auc, len(tst_bpr_auc))"
   ]
  },
  {
   "cell_type": "markdown",
   "metadata": {},
   "source": [
    "# KOS Warp"
   ]
  },
  {
   "cell_type": "code",
   "execution_count": null,
   "metadata": {
    "collapsed": false
   },
   "outputs": [],
   "source": [
    "from lightfm.evaluation import auc_score, precision_at_k, recall_at_k\n",
    "\n",
    "durations = []\n",
    "tst_koswarp_auc = []\n",
    "tst_koswarp_prec5 = []\n",
    "tst_koswarp_rr = []\n",
    "\n",
    "kos_model = KosWARP(lr=5e-7, item_reg=0.2, user_reg=0.2)\n",
    "num_epochs = 70\n",
    "for epoch in range(num_epochs):\n",
    "    start = time.time()\n",
    "    kos_model.fit(train, reset=False)\n",
    "    duration = time.time() - start\n",
    "    durations.append(duration)    \n",
    "    tst_auc = auc_score(kos_model, test, train_interactions=train).mean()\n",
    "    tst_prec5 = precision_at_k(kos_model, test, train_interactions=train, k=5).mean()\n",
    "    tst_rr = reciprocal_rank(kos_model, test, train_interactions=train).mean()\n",
    "    tst_koswarp_auc.append(tst_auc)\n",
    "    tst_koswarp_prec5.append(tst_prec5)\n",
    "    tst_koswarp_rr.append(tst_rr)\n",
    "    print(\"iteration %d took %.4f, auc: %.4f, p@5: %.4f, rr: %.4f\" % \\\n",
    "          (epoch, duration, tst_auc, tst_prec5, tst_rr))"
   ]
  },
  {
   "cell_type": "code",
   "execution_count": null,
   "metadata": {
    "collapsed": false
   },
   "outputs": [],
   "source": [
    "plot_auc(\"KOS WARP AUC\", tst_koswarp_auc, len(tst_koswarp_auc))"
   ]
  },
  {
   "cell_type": "code",
   "execution_count": null,
   "metadata": {
    "collapsed": true
   },
   "outputs": [],
   "source": []
  }
 ],
 "metadata": {
  "anaconda-cloud": {},
  "kernelspec": {
   "display_name": "Python [conda root]",
   "language": "python",
   "name": "conda-root-py"
  },
  "language_info": {
   "codemirror_mode": {
    "name": "ipython",
    "version": 3
   },
   "file_extension": ".py",
   "mimetype": "text/x-python",
   "name": "python",
   "nbconvert_exporter": "python",
   "pygments_lexer": "ipython3",
   "version": "3.5.2"
  }
 },
 "nbformat": 4,
 "nbformat_minor": 1
}
