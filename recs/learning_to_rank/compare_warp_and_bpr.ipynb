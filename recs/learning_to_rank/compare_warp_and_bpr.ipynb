{
 "cells": [
  {
   "cell_type": "markdown",
   "metadata": {},
   "source": [
    "# Compare\n",
    "- BPR: Bayesian Personalized Ranking from Implicit Feedback\n",
    "https://arxiv.org/abs/1205.2618\n",
    "- WSABIE: Scaling Up To Large Vocabulary Image Annotation http://www.thespermwhale.com/jaseweston/papers/wsabie-ijcai.pdf\n",
    "- Learning to Rank Recommendations with the k-Order Statistic Loss https://research.google.com/pubs/pub41534.html\n",
    "\n",
    "### Data\n",
    "- Movielens 100k https://grouplens.org/datasets/movielens/100k/\n",
    "- README - http://files.grouplens.org/datasets/movielens/ml-100k-README.txt"
   ]
  },
  {
   "cell_type": "code",
   "execution_count": 1,
   "metadata": {
    "collapsed": true
   },
   "outputs": [],
   "source": [
    "import os\n",
    "import pandas as pd\n",
    "from scipy.sparse import coo_matrix, csr_matrix, diags\n",
    "import numpy as np\n",
    "\n",
    "import matplotlib.pyplot as plt\n",
    "from sklearn.metrics import log_loss, accuracy_score, roc_curve, roc_auc_score\n",
    "from sklearn.utils.extmath import safe_sparse_dot\n",
    "import time\n",
    "import math\n",
    "\n",
    "%matplotlib inline"
   ]
  },
  {
   "cell_type": "code",
   "execution_count": 2,
   "metadata": {
    "collapsed": false
   },
   "outputs": [],
   "source": [
    "%load_ext autoreload\n",
    "%autoreload 2"
   ]
  },
  {
   "cell_type": "code",
   "execution_count": 3,
   "metadata": {
    "collapsed": false
   },
   "outputs": [],
   "source": [
    "from warp import WARPNaive, KosWARP\n",
    "from bpr import BPR "
   ]
  },
  {
   "cell_type": "code",
   "execution_count": 4,
   "metadata": {
    "collapsed": true
   },
   "outputs": [],
   "source": [
    "dtype = np.float32"
   ]
  },
  {
   "cell_type": "code",
   "execution_count": 5,
   "metadata": {
    "collapsed": true
   },
   "outputs": [],
   "source": [
    "data_dir = \"/Users/timwee/projects/datasets/movielens/ml-100k\"\n",
    "\n",
    "def load_data_from_f(fpath):\n",
    "    # columns - user id | item id | rating | timestamp\n",
    "    # user_id and item_id numbered consecutively from 1\n",
    "    with open(fpath) as f:\n",
    "        users, items, ratings = [], [], []\n",
    "        max_user = -1\n",
    "        max_item = -1\n",
    "        for line in f:\n",
    "            user_id, item_id, rating, ts = [int(tok) for tok in line.strip().split(\"\\t\")]\n",
    "            # make it zero indexed\n",
    "            user_id -= 1\n",
    "            item_id -= 1\n",
    "            max_user = max(max_user, user_id)\n",
    "            max_item = max(max_item, item_id)\n",
    "            users.append(user_id) \n",
    "            items.append(item_id)\n",
    "            ratings.append(rating)\n",
    "        return np.array(users), np.array(items), np.array(ratings), max_user, max_item\n",
    "\n",
    "\n",
    "def train_and_test_data(data_dir, train_fname=\"ua.base\", test_fname=\"ua.test\", dtype=np.float32):\n",
    "    trn_u, trn_i, trn_r, max_trn_u, max_trn_i = load_data_from_f(os.path.join(data_dir, train_fname))\n",
    "    tst_u, tst_i, tst_r, max_tst_u, max_tst_i = load_data_from_f(os.path.join(data_dir, test_fname))\n",
    "    num_rows = max(max_trn_u, max_tst_u) + 1\n",
    "    num_cols = max(max_trn_i, max_tst_i) + 1\n",
    "    return {\"train\" : coo_matrix((trn_r, (trn_u, trn_i)), shape=(num_rows, num_cols), dtype=dtype).tocsr(), \\\n",
    "            \"test\" : coo_matrix((tst_r, (tst_u, tst_i)), shape=(num_rows, num_cols), dtype=dtype).tocsr()}\n",
    "    "
   ]
  },
  {
   "cell_type": "code",
   "execution_count": 6,
   "metadata": {
    "collapsed": false
   },
   "outputs": [
    {
     "data": {
      "text/plain": [
       "((943, 1682), (943, 1682))"
      ]
     },
     "execution_count": 6,
     "metadata": {},
     "output_type": "execute_result"
    }
   ],
   "source": [
    "movielens = train_and_test_data(data_dir, dtype=dtype)\n",
    "train, test = movielens[\"train\"], movielens[\"test\"]\n",
    "num_users, num_items = train.shape\n",
    "train.shape, test.shape"
   ]
  },
  {
   "cell_type": "markdown",
   "metadata": {},
   "source": [
    "### learning rate decay"
   ]
  },
  {
   "cell_type": "code",
   "execution_count": 7,
   "metadata": {
    "collapsed": false
   },
   "outputs": [
    {
     "data": {
      "image/png": "[encoded data removed]",
      "text/plain": [
       "<matplotlib.figure.Figure at 0x111e861d0>"
      ]
     },
     "metadata": {},
     "output_type": "display_data"
    }
   ],
   "source": [
    "lrate = 1e-7\n",
    "decay = 1e-3\n",
    "lr_val = [lrate]\n",
    "for i in range(1, 100):\n",
    "    lr_val.append(lr_val[i-1] * (1. / (1. + (decay * i))))\n",
    "plt.plot(np.arange(100), lr_val)\n",
    "plt.xlabel(\"num_epoch\")\n",
    "plt.ylabel(\"learning rate\")\n",
    "plt.title(\"Learning Rate %.8f with decay %.4f\" % (lrate, decay))\n",
    "plt.show()"
   ]
  },
  {
   "cell_type": "markdown",
   "metadata": {},
   "source": [
    "## helpers"
   ]
  },
  {
   "cell_type": "code",
   "execution_count": 8,
   "metadata": {
    "collapsed": true
   },
   "outputs": [],
   "source": [
    "def plot_auc(title, auc_scores, num_epochs):\n",
    "    epoch_x = np.arange(num_epochs)\n",
    "    test_line, = plt.plot(epoch_x, auc_scores, label=\"auc test\")\n",
    "    plt.legend([test_line], [\"test auc\"])\n",
    "    plt.xlabel(\"num_epoch\")\n",
    "    plt.ylabel(\"auc_score\")\n",
    "    plt.title(title)\n",
    "    plt.show()"
   ]
  },
  {
   "cell_type": "code",
   "execution_count": 9,
   "metadata": {
    "collapsed": false
   },
   "outputs": [
    {
     "name": "stderr",
     "output_type": "stream",
     "text": [
      "/Users/timwee/anaconda3/lib/python3.5/site-packages/lightfm/_lightfm_fast.py:9: UserWarning: LightFM was compiled without OpenMP support. Only a single thread will be used.\n",
      "  warnings.warn('LightFM was compiled without OpenMP support. '\n"
     ]
    }
   ],
   "source": [
    "from lightfm.evaluation import auc_score, precision_at_k, recall_at_k, reciprocal_rank"
   ]
  },
  {
   "cell_type": "markdown",
   "metadata": {},
   "source": [
    "# WARP class"
   ]
  },
  {
   "cell_type": "code",
   "execution_count": 10,
   "metadata": {
    "collapsed": false
   },
   "outputs": [
    {
     "name": "stdout",
     "output_type": "stream",
     "text": [
      "initializing embeddings and biases\n",
      "warp iteration 0 took 4.9894, auc: 0.6258, p@5: 0.0288, rr: 0.1080\n",
      "warp iteration 1 took 4.9961, auc: 0.6742, p@5: 0.0318, rr: 0.1082\n",
      "warp iteration 2 took 5.1935, auc: 0.7007, p@5: 0.0331, rr: 0.1108\n",
      "warp iteration 3 took 5.2301, auc: 0.7182, p@5: 0.0346, rr: 0.1145\n",
      "warp iteration 4 took 5.1618, auc: 0.7308, p@5: 0.0352, rr: 0.1176\n",
      "warp iteration 5 took 5.2012, auc: 0.7401, p@5: 0.0369, rr: 0.1245\n",
      "warp iteration 6 took 5.1287, auc: 0.7475, p@5: 0.0378, rr: 0.1296\n",
      "warp iteration 7 took 5.0605, auc: 0.7534, p@5: 0.0394, rr: 0.1345\n",
      "warp iteration 8 took 5.2016, auc: 0.7585, p@5: 0.0399, rr: 0.1370\n",
      "warp iteration 9 took 5.1318, auc: 0.7624, p@5: 0.0399, rr: 0.1393\n",
      "warp iteration 10 took 5.1203, auc: 0.7660, p@5: 0.0401, rr: 0.1397\n",
      "warp iteration 11 took 5.1104, auc: 0.7690, p@5: 0.0399, rr: 0.1411\n",
      "warp iteration 12 took 5.1109, auc: 0.7716, p@5: 0.0407, rr: 0.1436\n",
      "warp iteration 13 took 5.1660, auc: 0.7738, p@5: 0.0411, rr: 0.1426\n",
      "warp iteration 14 took 5.1387, auc: 0.7758, p@5: 0.0411, rr: 0.1412\n",
      "warp iteration 15 took 5.1481, auc: 0.7776, p@5: 0.0416, rr: 0.1435\n",
      "warp iteration 16 took 5.1544, auc: 0.7790, p@5: 0.0416, rr: 0.1437\n",
      "warp iteration 17 took 5.1438, auc: 0.7802, p@5: 0.0416, rr: 0.1446\n",
      "warp iteration 18 took 5.1295, auc: 0.7815, p@5: 0.0416, rr: 0.1446\n",
      "warp iteration 19 took 5.1206, auc: 0.7827, p@5: 0.0420, rr: 0.1460\n"
     ]
    }
   ],
   "source": [
    "durations = []\n",
    "tst_warp_auc = []\n",
    "tst_warp_prec5 = []\n",
    "tst_warp_rr = []\n",
    "\n",
    "model = WARPNaive(lr=5e-7, item_reg=0.2, user_reg=0.2)\n",
    "num_epochs = 20\n",
    "for epoch in range(num_epochs):\n",
    "    start = time.time()\n",
    "    model.fit(train, reset=False)\n",
    "    duration = time.time() - start\n",
    "    durations.append(duration)    \n",
    "    tst_auc = auc_score(model, test, train_interactions=train).mean()\n",
    "    tst_prec5 = precision_at_k(model, test, train_interactions=train, k=5).mean()\n",
    "    tst_rr = reciprocal_rank(model, test, train_interactions=train).mean()\n",
    "    tst_warp_auc.append(tst_auc)\n",
    "    tst_warp_prec5.append(tst_prec5)\n",
    "    tst_warp_rr.append(tst_rr)\n",
    "    print(\"warp iteration %d took %.4f, auc: %.4f, p@5: %.4f, rr: %.4f\" % \\\n",
    "          (epoch, duration, tst_auc, tst_prec5, tst_rr))"
   ]
  },
  {
   "cell_type": "code",
   "execution_count": null,
   "metadata": {
    "collapsed": false
   },
   "outputs": [
    {
     "data": {
      "image/png": "[encoded data removed]",
      "text/plain": [
       "<matplotlib.figure.Figure at 0x111ea66a0>"
      ]
     },
     "metadata": {},
     "output_type": "display_data"
    }
   ],
   "source": [
    "plot_auc(\"WARP AUC\", tst_warp_auc, num_epochs)"
   ]
  },
  {
   "cell_type": "markdown",
   "metadata": {},
   "source": [
    "## BPR Class"
   ]
  },
  {
   "cell_type": "code",
   "execution_count": null,
   "metadata": {
    "collapsed": false
   },
   "outputs": [
    {
     "name": "stdout",
     "output_type": "stream",
     "text": [
      "initializing embeddings and biases\n"
     ]
    }
   ],
   "source": [
    "durations = []\n",
    "tst_bpr_auc = []\n",
    "tst_bpr_prec5 = []\n",
    "tst_bpr_rr = []\n",
    "\n",
    "bpr_model = BPR(lr=5e-7, item_reg=0.2, user_reg=0.2)\n",
    "num_epochs = 20\n",
    "for epoch in range(num_epochs):\n",
    "    start = time.time()\n",
    "    bpr_model.fit(train, reset=False)\n",
    "    duration = time.time() - start\n",
    "    durations.append(duration)    \n",
    "    tst_auc = auc_score(bpr_model, test, train_interactions=train).mean()\n",
    "    tst_prec5 = precision_at_k(bpr_model, test, train_interactions=train, k=5).mean()\n",
    "    tst_rr = reciprocal_rank(bpr_model, test, train_interactions=train).mean()\n",
    "    tst_bpr_auc.append(tst_auc)\n",
    "    tst_bpr_prec5.append(tst_prec5)\n",
    "    tst_bpr_rr.append(tst_rr)\n",
    "    print(\"iteration %d took %.4f, auc: %.4f, p@5: %.4f, rr: %.4f\" % (epoch, duration, tst_auc, tst_prec5, tst_rr))"
   ]
  },
  {
   "cell_type": "code",
   "execution_count": null,
   "metadata": {
    "collapsed": false
   },
   "outputs": [],
   "source": [
    "reciprocal_rank(bpr_model, test, train_interactions=train).mean()"
   ]
  },
  {
   "cell_type": "code",
   "execution_count": null,
   "metadata": {
    "collapsed": false
   },
   "outputs": [],
   "source": [
    "plot_auc(\"BPR AUC\", tst_bpr_auc, len(tst_bpr_auc))"
   ]
  },
  {
   "cell_type": "markdown",
   "metadata": {},
   "source": [
    "# KOS Warp"
   ]
  },
  {
   "cell_type": "code",
   "execution_count": null,
   "metadata": {
    "collapsed": false
   },
   "outputs": [],
   "source": [
    "from lightfm.evaluation import auc_score, precision_at_k, recall_at_k\n",
    "\n",
    "durations = []\n",
    "tst_koswarp_auc = []\n",
    "tst_koswarp_prec5 = []\n",
    "tst_koswarp_rr = []\n",
    "\n",
    "kos_model = KosWARP(lr=5e-7, item_reg=0.2, user_reg=0.2)\n",
    "num_epochs = 20\n",
    "for epoch in range(num_epochs):\n",
    "    start = time.time()\n",
    "    kos_model.fit(train, reset=False)\n",
    "    duration = time.time() - start\n",
    "    durations.append(duration)    \n",
    "    tst_auc = auc_score(kos_model, test, train_interactions=train).mean()\n",
    "    tst_prec5 = precision_at_k(kos_model, test, train_interactions=train, k=5).mean()\n",
    "    tst_rr = reciprocal_rank(kos_model, test, train_interactions=train).mean()\n",
    "    tst_koswarp_auc.append(tst_auc)\n",
    "    tst_koswarp_prec5.append(tst_prec5)\n",
    "    tst_koswarp_rr.append(tst_rr)\n",
    "    print(\"iteration %d took %.4f, auc: %.4f, p@5: %.4f, rr: %.4f\" % \\\n",
    "          (epoch, duration, tst_auc, tst_prec5, tst_rr))"
   ]
  },
  {
   "cell_type": "code",
   "execution_count": null,
   "metadata": {
    "collapsed": false
   },
   "outputs": [],
   "source": [
    "plot_auc(\"KOS WARP AUC\", tst_koswarp_auc, len(tst_koswarp_auc))"
   ]
  },
  {
   "cell_type": "code",
   "execution_count": null,
   "metadata": {
    "collapsed": true
   },
   "outputs": [],
   "source": []
  }
 ],
 "metadata": {
  "anaconda-cloud": {},
  "kernelspec": {
   "display_name": "Python [conda root]",
   "language": "python",
   "name": "conda-root-py"
  },
  "language_info": {
   "codemirror_mode": {
    "name": "ipython",
    "version": 3
   },
   "file_extension": ".py",
   "mimetype": "text/x-python",
   "name": "python",
   "nbconvert_exporter": "python",
   "pygments_lexer": "ipython3",
   "version": "3.5.2"
  }
 },
 "nbformat": 4,
 "nbformat_minor": 1
}
