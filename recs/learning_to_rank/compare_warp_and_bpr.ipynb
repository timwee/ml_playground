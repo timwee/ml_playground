{
 "cells": [
  {
   "cell_type": "markdown",
   "metadata": {},
   "source": [
    "# Compare\n",
    "- BPR: Bayesian Personalized Ranking from Implicit Feedback\n",
    "https://arxiv.org/abs/1205.2618\n",
    "- WSABIE: Scaling Up To Large Vocabulary Image Annotation http://www.thespermwhale.com/jaseweston/papers/wsabie-ijcai.pdf\n",
    "- Learning to Rank Recommendations with the k-Order Statistic Loss https://research.google.com/pubs/pub41534.html\n",
    "\n",
    "### Data\n",
    "- Movielens 100k https://grouplens.org/datasets/movielens/100k/\n",
    "- README - http://files.grouplens.org/datasets/movielens/ml-100k-README.txt"
   ]
  },
  {
   "cell_type": "code",
   "execution_count": 1,
   "metadata": {
    "collapsed": true
   },
   "outputs": [],
   "source": [
    "import os\n",
    "import pandas as pd\n",
    "from scipy.sparse import coo_matrix, csr_matrix, diags\n",
    "import numpy as np\n",
    "\n",
    "import matplotlib.pyplot as plt\n",
    "from sklearn.metrics import log_loss, accuracy_score, roc_curve, roc_auc_score\n",
    "from sklearn.utils.extmath import safe_sparse_dot\n",
    "import time\n",
    "import math\n",
    "\n",
    "%matplotlib inline"
   ]
  },
  {
   "cell_type": "code",
   "execution_count": 2,
   "metadata": {
    "collapsed": false
   },
   "outputs": [],
   "source": [
    "%load_ext autoreload\n",
    "%autoreload 2"
   ]
  },
  {
   "cell_type": "code",
   "execution_count": 22,
   "metadata": {
    "collapsed": false
   },
   "outputs": [],
   "source": [
    "from warp import WARPNaive, KosWARP\n",
    "from bpr import BPR "
   ]
  },
  {
   "cell_type": "code",
   "execution_count": 18,
   "metadata": {
    "collapsed": true
   },
   "outputs": [],
   "source": [
    "dtype = np.float32"
   ]
  },
  {
   "cell_type": "code",
   "execution_count": 5,
   "metadata": {
    "collapsed": true
   },
   "outputs": [],
   "source": [
    "data_dir = \"/Users/timwee/projects/datasets/movielens/ml-100k\"\n",
    "\n",
    "def load_data_from_f(fpath):\n",
    "    # columns - user id | item id | rating | timestamp\n",
    "    # user_id and item_id numbered consecutively from 1\n",
    "    with open(fpath) as f:\n",
    "        users, items, ratings = [], [], []\n",
    "        max_user = -1\n",
    "        max_item = -1\n",
    "        for line in f:\n",
    "            user_id, item_id, rating, ts = [int(tok) for tok in line.strip().split(\"\\t\")]\n",
    "            # make it zero indexed\n",
    "            user_id -= 1\n",
    "            item_id -= 1\n",
    "            max_user = max(max_user, user_id)\n",
    "            max_item = max(max_item, item_id)\n",
    "            users.append(user_id) \n",
    "            items.append(item_id)\n",
    "            ratings.append(rating)\n",
    "        return np.array(users), np.array(items), np.array(ratings), max_user, max_item\n",
    "\n",
    "\n",
    "def train_and_test_data(data_dir, train_fname=\"ua.base\", test_fname=\"ua.test\", dtype=np.float32):\n",
    "    trn_u, trn_i, trn_r, max_trn_u, max_trn_i = load_data_from_f(os.path.join(data_dir, train_fname))\n",
    "    tst_u, tst_i, tst_r, max_tst_u, max_tst_i = load_data_from_f(os.path.join(data_dir, test_fname))\n",
    "    num_rows = max(max_trn_u, max_tst_u) + 1\n",
    "    num_cols = max(max_trn_i, max_tst_i) + 1\n",
    "    return {\"train\" : coo_matrix((trn_r, (trn_u, trn_i)), shape=(num_rows, num_cols), dtype=dtype).tocsr(), \\\n",
    "            \"test\" : coo_matrix((tst_r, (tst_u, tst_i)), shape=(num_rows, num_cols), dtype=dtype).tocsr()}\n",
    "    "
   ]
  },
  {
   "cell_type": "code",
   "execution_count": 6,
   "metadata": {
    "collapsed": false
   },
   "outputs": [
    {
     "data": {
      "text/plain": [
       "((943, 1682), (943, 1682))"
      ]
     },
     "execution_count": 6,
     "metadata": {},
     "output_type": "execute_result"
    }
   ],
   "source": [
    "movielens = train_and_test_data(data_dir, dtype=dtype)\n",
    "train, test = movielens[\"train\"], movielens[\"test\"]\n",
    "num_users, num_items = train.shape\n",
    "train.shape, test.shape"
   ]
  },
  {
   "cell_type": "markdown",
   "metadata": {},
   "source": [
    "### learning rate decay"
   ]
  },
  {
   "cell_type": "code",
   "execution_count": 7,
   "metadata": {
    "collapsed": false
   },
   "outputs": [
    {
     "data": {
      "image/png": "[encoded data removed]",
      "text/plain": [
       "<matplotlib.figure.Figure at 0x11177e080>"
      ]
     },
     "metadata": {},
     "output_type": "display_data"
    }
   ],
   "source": [
    "lrate = 1e-7\n",
    "decay = 1e-3\n",
    "lr_val = [lrate]\n",
    "for i in range(1, 100):\n",
    "    lr_val.append(lr_val[i-1] * (1. / (1. + (decay * i))))\n",
    "plt.plot(np.arange(100), lr_val)\n",
    "plt.xlabel(\"num_epoch\")\n",
    "plt.ylabel(\"learning rate\")\n",
    "plt.title(\"Learning Rate %.8f with decay %.4f\" % (lrate, decay))\n",
    "plt.show()"
   ]
  },
  {
   "cell_type": "markdown",
   "metadata": {},
   "source": [
    "## helpers"
   ]
  },
  {
   "cell_type": "code",
   "execution_count": 27,
   "metadata": {
    "collapsed": true
   },
   "outputs": [],
   "source": [
    "def plot_auc(title, auc_scores, num_epochs):\n",
    "    epoch_x = np.arange(num_epochs)\n",
    "    test_line, = plt.plot(epoch_x, auc_scores, label=\"auc test\")\n",
    "    plt.legend([test_line], [\"test auc\"])\n",
    "    plt.xlabel(\"num_epoch\")\n",
    "    plt.ylabel(\"auc_score\")\n",
    "    plt.title(title)\n",
    "    plt.show()"
   ]
  },
  {
   "cell_type": "markdown",
   "metadata": {},
   "source": [
    "# WARP class"
   ]
  },
  {
   "cell_type": "code",
   "execution_count": 8,
   "metadata": {
    "collapsed": false
   },
   "outputs": [
    {
     "name": "stderr",
     "output_type": "stream",
     "text": [
      "/Users/timwee/anaconda3/lib/python3.5/site-packages/lightfm/_lightfm_fast.py:9: UserWarning: LightFM was compiled without OpenMP support. Only a single thread will be used.\n",
      "  warnings.warn('LightFM was compiled without OpenMP support. '\n"
     ]
    },
    {
     "name": "stdout",
     "output_type": "stream",
     "text": [
      "initializing embeddings and biases\n",
      "warp iteration 0 took 5.1573, auc: 0.7749, p@5: 0.0416\n",
      "warp iteration 1 took 5.4672, auc: 0.7785, p@5: 0.0424\n",
      "warp iteration 2 took 5.2647, auc: 0.7823, p@5: 0.0428\n",
      "warp iteration 3 took 5.1342, auc: 0.7842, p@5: 0.0420\n",
      "warp iteration 4 took 5.1967, auc: 0.7856, p@5: 0.0420\n",
      "warp iteration 5 took 5.1965, auc: 0.7850, p@5: 0.0416\n",
      "warp iteration 6 took 5.2340, auc: 0.7838, p@5: 0.0416\n",
      "warp iteration 7 took 5.2702, auc: 0.7825, p@5: 0.0431\n",
      "warp iteration 8 took 5.2392, auc: 0.7825, p@5: 0.0422\n",
      "warp iteration 9 took 5.3322, auc: 0.7844, p@5: 0.0433\n",
      "warp iteration 10 took 5.1593, auc: 0.7844, p@5: 0.0420\n",
      "warp iteration 11 took 5.2611, auc: 0.7861, p@5: 0.0416\n",
      "warp iteration 12 took 5.2706, auc: 0.7835, p@5: 0.0416\n",
      "warp iteration 13 took 5.2406, auc: 0.7843, p@5: 0.0416\n",
      "warp iteration 14 took 5.4227, auc: 0.7829, p@5: 0.0416\n"
     ]
    }
   ],
   "source": [
    "from lightfm.evaluation import auc_score, precision_at_k, recall_at_k\n",
    "\n",
    "durations = []\n",
    "tst_warp_auc = []\n",
    "tst_warp_prec5 = []\n",
    "\n",
    "model = WARPNaive(lr=5e-5, item_reg=0.2, user_reg=0.2)\n",
    "num_epochs = 15\n",
    "for epoch in range(num_epochs):\n",
    "    start = time.time()\n",
    "    model.fit(train, reset=False)\n",
    "    duration = time.time() - start\n",
    "    durations.append(duration)    \n",
    "    tst_auc = auc_score(model, test, train_interactions=train).mean()\n",
    "    tst_prec5 = precision_at_k(model, test, train_interactions=train, k=5).mean()\n",
    "    tst_warp_auc.append(tst_auc)\n",
    "    tst_warp_prec5.append(tst_prec5)\n",
    "    print(\"warp iteration %d took %.4f, auc: %.4f, p@5: %.4f\" % (epoch, duration, tst_auc, tst_prec5))"
   ]
  },
  {
   "cell_type": "code",
   "execution_count": 28,
   "metadata": {
    "collapsed": false
   },
   "outputs": [
    {
     "data": {
      "image/png": "[encoded data removed]",
      "text/plain": [
       "<matplotlib.figure.Figure at 0x111ae02b0>"
      ]
     },
     "metadata": {},
     "output_type": "display_data"
    }
   ],
   "source": [
    "plot_auc(\"WARP AUC\", tst_warp_auc, num_epochs)"
   ]
  },
  {
   "cell_type": "markdown",
   "metadata": {},
   "source": [
    "## BPR Class"
   ]
  },
  {
   "cell_type": "code",
   "execution_count": 19,
   "metadata": {
    "collapsed": false
   },
   "outputs": [
    {
     "name": "stdout",
     "output_type": "stream",
     "text": [
      "initializing embeddings and biases\n",
      "warp iteration 0 took 5.7914, auc: 0.7661, p@5: 0.0403\n",
      "warp iteration 1 took 5.7583, auc: 0.7793, p@5: 0.0418\n",
      "warp iteration 2 took 5.7936, auc: 0.7841, p@5: 0.0390\n",
      "warp iteration 3 took 5.7041, auc: 0.7846, p@5: 0.0416\n",
      "warp iteration 4 took 5.6846, auc: 0.7815, p@5: 0.0428\n",
      "warp iteration 5 took 5.7074, auc: 0.7818, p@5: 0.0433\n",
      "warp iteration 6 took 5.6412, auc: 0.7833, p@5: 0.0433\n",
      "warp iteration 7 took 5.6223, auc: 0.7833, p@5: 0.0386\n",
      "warp iteration 8 took 5.8275, auc: 0.7826, p@5: 0.0428\n",
      "warp iteration 9 took 5.8159, auc: 0.7816, p@5: 0.0422\n",
      "warp iteration 10 took 5.8198, auc: 0.7826, p@5: 0.0420\n",
      "warp iteration 11 took 5.8693, auc: 0.7851, p@5: 0.0420\n",
      "warp iteration 12 took 5.7239, auc: 0.7819, p@5: 0.0428\n",
      "warp iteration 13 took 5.5725, auc: 0.7818, p@5: 0.0416\n",
      "warp iteration 14 took 5.6730, auc: 0.7831, p@5: 0.0416\n"
     ]
    }
   ],
   "source": [
    "from lightfm.evaluation import auc_score, precision_at_k, recall_at_k\n",
    "\n",
    "durations = []\n",
    "tst_bpr_auc = []\n",
    "tst_bpr_prec5 = []\n",
    "\n",
    "bpr_model = BPR(lr=5e-5, item_reg=0.2, user_reg=0.2)\n",
    "num_epochs = 15\n",
    "for epoch in range(num_epochs):\n",
    "    start = time.time()\n",
    "    bpr_model.fit(train, reset=False)\n",
    "    duration = time.time() - start\n",
    "    durations.append(duration)    \n",
    "    tst_auc = auc_score(bpr_model, test, train_interactions=train).mean()\n",
    "    tst_prec5 = precision_at_k(bpr_model, test, train_interactions=train, k=5).mean()\n",
    "    tst_bpr_auc.append(tst_auc)\n",
    "    tst_bpr_prec5.append(tst_prec5)\n",
    "    print(\"iteration %d took %.4f, auc: %.4f, p@5: %.4f\" % (epoch, duration, tst_auc, tst_prec5))"
   ]
  },
  {
   "cell_type": "code",
   "execution_count": 35,
   "metadata": {
    "collapsed": false
   },
   "outputs": [
    {
     "data": {
      "image/png": "[encoded data removed]",
      "text/plain": [
       "<matplotlib.figure.Figure at 0x115b07978>"
      ]
     },
     "metadata": {},
     "output_type": "display_data"
    }
   ],
   "source": [
    "plot_auc(\"BPR AUC\", tst_bpr_auc, len(tst_bpr_auc))"
   ]
  },
  {
   "cell_type": "markdown",
   "metadata": {},
   "source": [
    "# KOS Warp"
   ]
  },
  {
   "cell_type": "code",
   "execution_count": 36,
   "metadata": {
    "collapsed": false
   },
   "outputs": [
    {
     "name": "stdout",
     "output_type": "stream",
     "text": [
      "initializing embeddings and biases\n",
      "iteration 0 took 9.0133, auc: 0.6852, p@5: 0.0348\n",
      "iteration 1 took 9.0977, auc: 0.7560, p@5: 0.0411\n",
      "iteration 2 took 9.1042, auc: 0.7873, p@5: 0.0441\n",
      "iteration 3 took 9.1842, auc: 0.8028, p@5: 0.0456\n",
      "iteration 4 took 9.0550, auc: 0.8114, p@5: 0.0488\n",
      "iteration 5 took 9.5415, auc: 0.8158, p@5: 0.0492\n",
      "iteration 6 took 9.1294, auc: 0.8186, p@5: 0.0498\n",
      "iteration 7 took 9.0209, auc: 0.8208, p@5: 0.0481\n",
      "iteration 8 took 8.9953, auc: 0.8225, p@5: 0.0490\n",
      "iteration 9 took 9.2112, auc: 0.8234, p@5: 0.0524\n",
      "iteration 10 took 9.0483, auc: 0.8239, p@5: 0.0494\n",
      "iteration 11 took 9.0251, auc: 0.8245, p@5: 0.0507\n",
      "iteration 12 took 9.0496, auc: 0.8253, p@5: 0.0486\n",
      "iteration 13 took 9.3104, auc: 0.8258, p@5: 0.0511\n",
      "iteration 14 took 9.0083, auc: 0.8260, p@5: 0.0503\n",
      "iteration 15 took 9.0741, auc: 0.8265, p@5: 0.0517\n",
      "iteration 16 took 9.1133, auc: 0.8269, p@5: 0.0501\n",
      "iteration 17 took 9.0577, auc: 0.8274, p@5: 0.0503\n",
      "iteration 18 took 8.9231, auc: 0.8271, p@5: 0.0490\n",
      "iteration 19 took 8.9847, auc: 0.8274, p@5: 0.0494\n"
     ]
    }
   ],
   "source": [
    "from lightfm.evaluation import auc_score, precision_at_k, recall_at_k\n",
    "\n",
    "durations = []\n",
    "tst_koswarp_auc = []\n",
    "tst_koswarp_prec5 = []\n",
    "\n",
    "kos_model = KosWARP(lr=5e-7, item_reg=0.2, user_reg=0.2)\n",
    "num_epochs = 20\n",
    "for epoch in range(num_epochs):\n",
    "    start = time.time()\n",
    "    kos_model.fit(train, reset=False)\n",
    "    duration = time.time() - start\n",
    "    durations.append(duration)    \n",
    "    tst_auc = auc_score(kos_model, test, train_interactions=train).mean()\n",
    "    tst_prec5 = precision_at_k(kos_model, test, train_interactions=train, k=5).mean()\n",
    "    tst_koswarp_auc.append(tst_auc)\n",
    "    tst_koswarp_prec5.append(tst_prec5)\n",
    "    print(\"iteration %d took %.4f, auc: %.4f, p@5: %.4f\" % (epoch, duration, tst_auc, tst_prec5))"
   ]
  },
  {
   "cell_type": "code",
   "execution_count": 37,
   "metadata": {
    "collapsed": false
   },
   "outputs": [
    {
     "data": {
      "image/png": "[encoded data removed]",
      "text/plain": [
       "<matplotlib.figure.Figure at 0x115b50358>"
      ]
     },
     "metadata": {},
     "output_type": "display_data"
    }
   ],
   "source": [
    "plot_auc(\"KOS WARP AUC\", tst_koswarp_auc, len(tst_koswarp_auc))"
   ]
  },
  {
   "cell_type": "code",
   "execution_count": null,
   "metadata": {
    "collapsed": true
   },
   "outputs": [],
   "source": []
  }
 ],
 "metadata": {
  "anaconda-cloud": {},
  "kernelspec": {
   "display_name": "Python [conda root]",
   "language": "python",
   "name": "conda-root-py"
  },
  "language_info": {
   "codemirror_mode": {
    "name": "ipython",
    "version": 3
   },
   "file_extension": ".py",
   "mimetype": "text/x-python",
   "name": "python",
   "nbconvert_exporter": "python",
   "pygments_lexer": "ipython3",
   "version": "3.5.2"
  }
 },
 "nbformat": 4,
 "nbformat_minor": 1
}
