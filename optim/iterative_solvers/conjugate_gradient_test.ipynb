{
 "cells": [
  {
   "cell_type": "code",
   "execution_count": 8,
   "metadata": {
    "collapsed": true
   },
   "outputs": [],
   "source": [
    "import numpy as np\n",
    "import matplotlib.pyplot as plt\n",
    "\n",
    "import time"
   ]
  },
  {
   "cell_type": "code",
   "execution_count": 9,
   "metadata": {
    "collapsed": false
   },
   "outputs": [
    {
     "name": "stdout",
     "output_type": "stream",
     "text": [
      "The autoreload extension is already loaded. To reload it, use:\n",
      "  %reload_ext autoreload\n"
     ]
    }
   ],
   "source": [
    "%load_ext autoreload\n",
    "%autoreload 2\n",
    "\n",
    "%matplotlib inline"
   ]
  },
  {
   "cell_type": "code",
   "execution_count": 16,
   "metadata": {
    "collapsed": true
   },
   "outputs": [],
   "source": [
    "import sys\n",
    "import os\n",
    "sys.path.append(\"../../\")"
   ]
  },
  {
   "cell_type": "code",
   "execution_count": 24,
   "metadata": {
    "collapsed": false
   },
   "outputs": [],
   "source": [
    "from optim.iterative_solvers.conjugate_gradient import fmin_cg as my_fmin_cg"
   ]
  },
  {
   "cell_type": "markdown",
   "metadata": {
    "collapsed": true
   },
   "source": [
    "# Test Functions"
   ]
  },
  {
   "cell_type": "code",
   "execution_count": 18,
   "metadata": {
    "collapsed": true
   },
   "outputs": [],
   "source": [
    "def rosenbrock(x):\n",
    "    return .5*(1 - x[0])**2 + (x[1] - x[0]**2)**2\n",
    "\n",
    "def drosenbrock(x):\n",
    "    return np.array((-2*.5*(1 - x[0]) - 4*x[0]*(x[1] - x[0]**2), 2*(x[1] - x[0]**2)))"
   ]
  },
  {
   "cell_type": "markdown",
   "metadata": {},
   "source": [
    "# benchmark with scipy"
   ]
  },
  {
   "cell_type": "code",
   "execution_count": 64,
   "metadata": {
    "collapsed": true
   },
   "outputs": [],
   "source": [
    "import scipy.optimize as spopt\n",
    "\n",
    "def run_benchmark(f, df, x0, funcs):\n",
    "    for opt_f in funcs:\n",
    "        print(\"Benchmarking %s\" % (opt_f.__name__))\n",
    "        print(\"\\t\\t\" + str(opt_f(f, x0, df)))\n",
    "        print(\"\\n\")"
   ]
  },
  {
   "cell_type": "code",
   "execution_count": 65,
   "metadata": {
    "collapsed": false
   },
   "outputs": [],
   "source": [
    "funcs_to_bench = [spopt.fmin_cg, spopt.fmin_bfgs, spopt.fmin_ncg, spopt.fmin_l_bfgs_b, \\\n",
    "                  my_fmin_cg]"
   ]
  },
  {
   "cell_type": "markdown",
   "metadata": {},
   "source": [
    "### bench rosenbrock function\n",
    "https://en.wikipedia.org/wiki/Rosenbrock_function"
   ]
  },
  {
   "cell_type": "code",
   "execution_count": 66,
   "metadata": {
    "collapsed": false
   },
   "outputs": [
    {
     "name": "stdout",
     "output_type": "stream",
     "text": [
      "Benchmarking fmin_cg\n",
      "Warning: Desired error not necessarily achieved due to precision loss.\n",
      "         Current function value: 1.433785\n",
      "         Iterations: 1\n",
      "         Function evaluations: 14\n",
      "         Gradient evaluations: 2\n",
      "\t\t[ 1.01684866  2.23132973]\n",
      "\n",
      "\n",
      "Benchmarking fmin_bfgs\n",
      "Optimization terminated successfully.\n",
      "         Current function value: 0.000000\n",
      "         Iterations: 8\n",
      "         Function evaluations: 9\n",
      "         Gradient evaluations: 9\n",
      "\t\t[ 1.00000582  1.00001285]\n",
      "\n",
      "\n",
      "Benchmarking fmin_ncg\n",
      "Optimization terminated successfully.\n",
      "         Current function value: 0.000000\n",
      "         Iterations: 9\n",
      "         Function evaluations: 11\n",
      "         Gradient evaluations: 51\n",
      "         Hessian evaluations: 0\n",
      "\t\t[ 1.  1.]\n",
      "\n",
      "\n",
      "Benchmarking fmin_l_bfgs_b\n",
      "\t\t(array([ 1.00000005,  1.00000009]), 1.4417677473011859e-15, {'funcalls': 17, 'grad': array([  1.02331202e-07,  -2.59299369e-08]), 'nit': 16, 'task': b'CONVERGENCE: NORM_OF_PROJECTED_GRADIENT_<=_PGTOL', 'warnflag': 0})\n",
      "\n",
      "\n",
      "Benchmarking fmin_cg\n",
      "\t\t[ 1.00029626  1.00066681]\n",
      "\n",
      "\n"
     ]
    }
   ],
   "source": [
    "run_benchmark(rosenbrock, drosenbrock, x0, funcs_to_bench)"
   ]
  }
 ],
 "metadata": {
  "anaconda-cloud": {},
  "kernelspec": {
   "display_name": "Python [conda root]",
   "language": "python",
   "name": "conda-root-py"
  },
  "language_info": {
   "codemirror_mode": {
    "name": "ipython",
    "version": 3
   },
   "file_extension": ".py",
   "mimetype": "text/x-python",
   "name": "python",
   "nbconvert_exporter": "python",
   "pygments_lexer": "ipython3",
   "version": "3.5.2"
  }
 },
 "nbformat": 4,
 "nbformat_minor": 1
}
