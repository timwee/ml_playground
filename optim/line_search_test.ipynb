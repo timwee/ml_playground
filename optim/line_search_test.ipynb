{
 "cells": [
  {
   "cell_type": "markdown",
   "metadata": {},
   "source": [
    "# Tests Below Are Adapted From SciPy"
   ]
  },
  {
   "cell_type": "code",
   "execution_count": 2,
   "metadata": {
    "collapsed": true
   },
   "outputs": [],
   "source": [
    "import numpy as np\n",
    "import matplotlib.pyplot as plt"
   ]
  },
  {
   "cell_type": "code",
   "execution_count": 3,
   "metadata": {
    "collapsed": true
   },
   "outputs": [],
   "source": [
    "%load_ext autoreload\n",
    "%autoreload 2\n",
    "\n",
    "%matplotlib inline"
   ]
  },
  {
   "cell_type": "code",
   "execution_count": 174,
   "metadata": {
    "collapsed": false
   },
   "outputs": [],
   "source": [
    "from line_search import *"
   ]
  },
  {
   "cell_type": "markdown",
   "metadata": {},
   "source": [
    "# Test Line Functions"
   ]
  },
  {
   "cell_type": "code",
   "execution_count": 175,
   "metadata": {
    "collapsed": true
   },
   "outputs": [],
   "source": [
    "N = 20\n",
    "A = np.random.randn(N, N)"
   ]
  },
  {
   "cell_type": "code",
   "execution_count": 176,
   "metadata": {
    "collapsed": true
   },
   "outputs": [],
   "source": [
    "def xsquare():\n",
    "    def f(x):\n",
    "        return np.dot(x,x)\n",
    "    def df(x):\n",
    "        return 2*x\n",
    "    return f, df\n",
    "\n",
    "def xAx_plus1():\n",
    "    def f(x):\n",
    "        return np.dot(x, np.dot(A, x)) + 1\n",
    "    def df(x):\n",
    "        return np.dot(A + A.T, x)\n",
    "    return f, df\n",
    "\n",
    "line_funcs = [xAx_plus1]"
   ]
  },
  {
   "cell_type": "code",
   "execution_count": 177,
   "metadata": {
    "collapsed": false
   },
   "outputs": [],
   "source": [
    "def test_line_search(line_search_algo, assert_algo_conditions_f, use_wolfe=True, use_strong_wolfe=True):\n",
    "    for line_func in line_funcs:\n",
    "        name = line_func.__name__\n",
    "        f, df = line_func()\n",
    "        for k in range(9):\n",
    "            x = np.random.randn(N) # current point\n",
    "            p = np.random.randn(N) # direction vector\n",
    "            if np.dot(p, df(x)) >= 0:\n",
    "                # skip bec. this is not a descent direction\n",
    "                continue\n",
    "        (alpha, fval, dfval), num_fcalls, num_dfcalls = line_search_algo(f, df, x, p, \\\n",
    "                                use_wolfe=use_wolfe, use_strong_wolfe=use_strong_wolfe)\n",
    "        if not alpha:\n",
    "            #print(\"Failed to converge, no alpha\")\n",
    "            return False\n",
    "        assert np.allclose(fval, f(x + alpha*p))\n",
    "        assert_algo_conditions_f(x, p, alpha, f, df, use_wolfe=use_wolfe, use_strong_wolfe=use_strong_wolfe)\n",
    "        return True"
   ]
  },
  {
   "cell_type": "markdown",
   "metadata": {},
   "source": [
    "# Algorithm Specific checks"
   ]
  },
  {
   "cell_type": "code",
   "execution_count": 178,
   "metadata": {
    "collapsed": true
   },
   "outputs": [],
   "source": [
    "def assert_strong_wolfe(x, p, alpha, f, df, c1=DEFAULT_C1, c2=DEFAULT_C2, use_wolfe=True, use_strong_wolfe=True):\n",
    "    phik = f(x + alpha * p)\n",
    "    phi0 = f(x)\n",
    "    dphik = np.dot(df(x + alpha * p), p)\n",
    "    dphi0 = np.dot(df(x), p)\n",
    "    assert phik <= phi0 + c1 * alpha * dphik, \"armijo condition\"\n",
    "    if use_wolfe:\n",
    "        assert dphik >= c2 * dphi0, \"curvature condition\"\n",
    "    if use_strong_wolfe:\n",
    "        assert dphik <= -c2 * dphi0, \"strong wolfe condition\""
   ]
  },
  {
   "cell_type": "markdown",
   "metadata": {},
   "source": [
    "# Test Backtracking"
   ]
  },
  {
   "cell_type": "code",
   "execution_count": 179,
   "metadata": {
    "collapsed": false
   },
   "outputs": [
    {
     "name": "stdout",
     "output_type": "stream",
     "text": [
      "percent_converged: 0.6000, 60, 100\n"
     ]
    }
   ],
   "source": [
    "num_converged = 0\n",
    "iters = 100\n",
    "for i in range(iters):\n",
    "    if test_line_search(backtracking_linesearch, assert_strong_wolfe, use_wolfe=False, use_strong_wolfe=False):\n",
    "        num_converged += 1\n",
    "print(\"percent_converged: %.4f, %d, %d\" % (float(num_converged)/iters, num_converged, iters))"
   ]
  },
  {
   "cell_type": "markdown",
   "metadata": {},
   "source": [
    "# Test Interpolating"
   ]
  },
  {
   "cell_type": "code",
   "execution_count": 185,
   "metadata": {
    "collapsed": false
   },
   "outputs": [
    {
     "name": "stdout",
     "output_type": "stream",
     "text": [
      "percent_converged: 1.0000, 100, 100\n"
     ]
    }
   ],
   "source": [
    "num_converged = 0\n",
    "iters = 100\n",
    "for i in range(iters):\n",
    "    if test_line_search(interpolating_line_search, assert_strong_wolfe, use_wolfe=False, use_strong_wolfe=False):\n",
    "        num_converged += 1\n",
    "print(\"percent_converged: %.4f, %d, %d\" % (float(num_converged)/iters, num_converged, iters))"
   ]
  },
  {
   "cell_type": "code",
   "execution_count": null,
   "metadata": {
    "collapsed": true
   },
   "outputs": [],
   "source": []
  },
  {
   "cell_type": "code",
   "execution_count": null,
   "metadata": {
    "collapsed": true
   },
   "outputs": [],
   "source": []
  }
 ],
 "metadata": {
  "anaconda-cloud": {},
  "kernelspec": {
   "display_name": "Python [conda root]",
   "language": "python",
   "name": "conda-root-py"
  },
  "language_info": {
   "codemirror_mode": {
    "name": "ipython",
    "version": 3
   },
   "file_extension": ".py",
   "mimetype": "text/x-python",
   "name": "python",
   "nbconvert_exporter": "python",
   "pygments_lexer": "ipython3",
   "version": "3.5.2"
  }
 },
 "nbformat": 4,
 "nbformat_minor": 1
}
