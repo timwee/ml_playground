{
 "cells": [
  {
   "cell_type": "markdown",
   "metadata": {},
   "source": [
    "# Tests Below Are Adapted From SciPy"
   ]
  },
  {
   "cell_type": "code",
   "execution_count": 2,
   "metadata": {
    "collapsed": true
   },
   "outputs": [],
   "source": [
    "import numpy as np\n",
    "import matplotlib.pyplot as plt"
   ]
  },
  {
   "cell_type": "code",
   "execution_count": 3,
   "metadata": {
    "collapsed": true
   },
   "outputs": [],
   "source": [
    "%load_ext autoreload\n",
    "%autoreload 2\n",
    "\n",
    "%matplotlib inline"
   ]
  },
  {
   "cell_type": "code",
   "execution_count": 5,
   "metadata": {
    "collapsed": false
   },
   "outputs": [],
   "source": [
    "from line_search import *"
   ]
  },
  {
   "cell_type": "markdown",
   "metadata": {},
   "source": [
    "# Test Line Functions"
   ]
  },
  {
   "cell_type": "code",
   "execution_count": 63,
   "metadata": {
    "collapsed": true
   },
   "outputs": [],
   "source": [
    "N = 20\n",
    "A = np.random.randn(N, N)"
   ]
  },
  {
   "cell_type": "code",
   "execution_count": 125,
   "metadata": {
    "collapsed": true
   },
   "outputs": [],
   "source": [
    "def xsquare():\n",
    "    def f(x):\n",
    "        return np.dot(x,x)\n",
    "    def df(x):\n",
    "        return 2*x\n",
    "    return f, df\n",
    "\n",
    "def xAx_plus1():\n",
    "    def f(x):\n",
    "        return np.dot(x, np.dot(A, x)) + 1\n",
    "    def df(x):\n",
    "        return np.dot(A + A.T, x)\n",
    "    return f, df\n",
    "\n",
    "line_funcs = [xAx_plus1]"
   ]
  },
  {
   "cell_type": "code",
   "execution_count": 160,
   "metadata": {
    "collapsed": false
   },
   "outputs": [],
   "source": [
    "def test_line_search(line_search_algo, assert_algo_conditions_f, use_wolfe=True, use_strong_wolfe=True):\n",
    "    for line_func in line_funcs:\n",
    "        name = line_func.__name__\n",
    "        f, df = line_func()\n",
    "        for k in range(9):\n",
    "            x = np.random.randn(N) # current point\n",
    "            p = np.random.randn(N) # direction vector\n",
    "            if np.dot(p, df(x)) >= 0:\n",
    "                # skip bec. this is not a descent direction\n",
    "                continue\n",
    "        (alpha, fval, dfval), num_fcalls, num_dfcalls = line_search_algo(f, df, x, p, \\\n",
    "                                use_wolfe=use_wolfe, use_strong_wolfe=use_strong_wolfe)\n",
    "        if not alpha:\n",
    "            #print(\"Failed to converge, no alpha\")\n",
    "            return False\n",
    "        assert np.allclose(fval, f(x + alpha*p))\n",
    "        assert_algo_conditions_f(x, p, alpha, f, df, use_wolfe=use_wolfe, use_strong_wolfe=use_strong_wolfe)\n",
    "        return True"
   ]
  },
  {
   "cell_type": "markdown",
   "metadata": {},
   "source": [
    "# Algorithm Specific checks"
   ]
  },
  {
   "cell_type": "code",
   "execution_count": 164,
   "metadata": {
    "collapsed": true
   },
   "outputs": [],
   "source": [
    "def assert_strong_wolfe(x, p, alpha, f, df, c1=DEFAULT_C1, c2=DEFAULT_C2, use_wolfe=True, use_strong_wolfe=True):\n",
    "    phik = f(x + alpha * p)\n",
    "    phi0 = f(x)\n",
    "    dphik = np.dot(df(x + alpha * p), p)\n",
    "    dphi0 = np.dot(df(x), p)\n",
    "    assert phik <= phi0 + c1 * alpha * dphik, \"armijo condition\"\n",
    "    if use_wolfe:\n",
    "        assert dphik >= c2 * dphi0, \"curvature condition\"\n",
    "    if use_strong_wolfe:\n",
    "        assert dphik <= -c2 * dphi0, \"strong wolfe condition\""
   ]
  },
  {
   "cell_type": "markdown",
   "metadata": {},
   "source": [
    "# Test Backtracking"
   ]
  },
  {
   "cell_type": "code",
   "execution_count": 172,
   "metadata": {
    "collapsed": false
   },
   "outputs": [
    {
     "name": "stdout",
     "output_type": "stream",
     "text": [
      "percent_converged: 0.5900, 59, 100\n"
     ]
    }
   ],
   "source": [
    "num_converged = 0\n",
    "iters = 100\n",
    "for i in range(iters):\n",
    "    if test_line_search(backtracking_linesearch, assert_strong_wolfe, use_wolfe=False, use_strong_wolfe=False):\n",
    "        num_converged += 1\n",
    "print(\"percent_converged: %.4f, %d, %d\" % (float(num_converged)/iters, num_converged, iters))"
   ]
  },
  {
   "cell_type": "code",
   "execution_count": null,
   "metadata": {
    "collapsed": true
   },
   "outputs": [],
   "source": []
  },
  {
   "cell_type": "code",
   "execution_count": null,
   "metadata": {
    "collapsed": true
   },
   "outputs": [],
   "source": []
  },
  {
   "cell_type": "code",
   "execution_count": null,
   "metadata": {
    "collapsed": true
   },
   "outputs": [],
   "source": []
  },
  {
   "cell_type": "code",
   "execution_count": null,
   "metadata": {
    "collapsed": true
   },
   "outputs": [],
   "source": []
  },
  {
   "cell_type": "code",
   "execution_count": 105,
   "metadata": {
    "collapsed": false
   },
   "outputs": [
    {
     "data": {
      "text/plain": [
       "(25.913157921037453,\n",
       " array([-2.4586231 ,  1.93379156, -5.62204109, -2.40694865, -0.01400421,\n",
       "        -2.68526324,  1.25033187, -2.46393245, -0.64465757, -0.1371565 ,\n",
       "         2.60833294,  3.96536624, -0.95070811,  3.19910055,  1.44995208,\n",
       "        -1.40252077,  0.36504162, -1.69806175,  0.65493609, -0.08559938]))"
      ]
     },
     "execution_count": 105,
     "metadata": {},
     "output_type": "execute_result"
    }
   ],
   "source": [
    "def _line_func_1(x):\n",
    "    f = np.dot(x, x)\n",
    "    df = 2*x\n",
    "    return f, df\n",
    "_line_func_1(np.random.randn(20))"
   ]
  },
  {
   "cell_type": "code",
   "execution_count": 109,
   "metadata": {
    "collapsed": false
   },
   "outputs": [],
   "source": [
    "import scipy.optimize.linesearch as ls\n",
    "from numpy.testing import assert_, assert_equal, \\\n",
    "     assert_array_almost_equal, assert_array_almost_equal_nulp, assert_warns\n",
    "\n",
    "def assert_fp_equal(x, y, err_msg=\"\", nulp=50):\n",
    "    \"\"\"Assert two arrays are equal, up to some floating-point rounding error\"\"\"\n",
    "    try:\n",
    "        assert_array_almost_equal_nulp(x, y, nulp)\n",
    "    except AssertionError as e:\n",
    "        raise AssertionError(\"%s\\n%s\" % (e, err_msg))\n",
    "\n",
    "\n",
    "def _line_func_1(x):\n",
    "    f = np.dot(x, x)\n",
    "    df = 2*x\n",
    "    return f, df\n",
    "\n",
    "def _line_func_2(x):\n",
    "    f = np.dot(x, np.dot(A, x)) + 1\n",
    "    df = np.dot(A + A.T, x)\n",
    "    return f, df\n",
    "\n",
    "def bind_index(func, idx):\n",
    "    # Remember Python's closure semantics!\n",
    "    return lambda *a, **kw: func(*a, **kw)[idx]\n",
    "line_funcs = [(bind_index(_line_func_1, 0), bind_index(_line_func_1, 1))]\n",
    "\n",
    "def line_iter():\n",
    "    for f, fprime in line_funcs:\n",
    "        k = 0\n",
    "        while k < 9:\n",
    "            x = np.random.randn(N)\n",
    "            p = np.random.randn(N)\n",
    "            if np.dot(p, fprime(x)) >= 0:\n",
    "                # always pick a descent direction\n",
    "                continue\n",
    "            k += 1\n",
    "            old_fv = float(np.random.randn())\n",
    "            yield f, fprime, x, p, old_fv\n",
    "            \n",
    "def assert_line_armijo(x, p, s, f, **kw):\n",
    "    assert_armijo(s, phi=lambda sp: f(x + p*sp), **kw)\n",
    "    \n",
    "def assert_armijo(s, phi, c1=1e-4, err_msg=\"\"):\n",
    "    \"\"\"\n",
    "    Check that Armijo condition applies\n",
    "    \"\"\"\n",
    "    phi1 = phi(s)\n",
    "    phi0 = phi(0)\n",
    "    msg = \"s = %s; phi(0) = %s; phi(s) = %s; %s\" % (s, phi0, phi1, err_msg)\n",
    "    assert_(phi1 <= (1 - c1*s)*phi0, msg)\n",
    "        \n",
    "def test_line_search_armijo():\n",
    "    c = 0\n",
    "    for idx, (f, fprime, x, p, old_f) in enumerate(line_iter()):\n",
    "        f0 = f(x)\n",
    "        g0 = fprime(x)\n",
    "        #print(g0, \"g0 value\")\n",
    "        s, fc, fv = ls.line_search_armijo(f, x, p, g0, f0)\n",
    "        c += 1\n",
    "        assert_fp_equal(fv, f(x + s*p))\n",
    "        assert_line_armijo(x, p, s, f, err_msg=idx)\n",
    "    assert_(c >= 9)"
   ]
  },
  {
   "cell_type": "code",
   "execution_count": 113,
   "metadata": {
    "collapsed": false
   },
   "outputs": [],
   "source": [
    "test_line_search_armijo()"
   ]
  },
  {
   "cell_type": "code",
   "execution_count": null,
   "metadata": {
    "collapsed": true
   },
   "outputs": [],
   "source": []
  }
 ],
 "metadata": {
  "anaconda-cloud": {},
  "kernelspec": {
   "display_name": "Python [conda root]",
   "language": "python",
   "name": "conda-root-py"
  },
  "language_info": {
   "codemirror_mode": {
    "name": "ipython",
    "version": 3
   },
   "file_extension": ".py",
   "mimetype": "text/x-python",
   "name": "python",
   "nbconvert_exporter": "python",
   "pygments_lexer": "ipython3",
   "version": "3.5.2"
  }
 },
 "nbformat": 4,
 "nbformat_minor": 1
}
