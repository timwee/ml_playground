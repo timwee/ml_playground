{
 "cells": [
  {
   "cell_type": "code",
   "execution_count": 1,
   "metadata": {
    "collapsed": true
   },
   "outputs": [],
   "source": [
    "from scipy.sparse import coo_matrix, csr_matrix\n",
    "\n",
    "import numpy as np\n",
    "import matplotlib.pyplot as plt"
   ]
  },
  {
   "cell_type": "code",
   "execution_count": 2,
   "metadata": {
    "collapsed": false
   },
   "outputs": [],
   "source": [
    "%load_ext autoreload\n",
    "%autoreload 2"
   ]
  },
  {
   "cell_type": "code",
   "execution_count": 3,
   "metadata": {
    "collapsed": true
   },
   "outputs": [],
   "source": [
    "%matplotlib inline\n",
    "np.set_printoptions(suppress=True)"
   ]
  },
  {
   "cell_type": "code",
   "execution_count": 30,
   "metadata": {
    "collapsed": true
   },
   "outputs": [],
   "source": [
    "from pagerank_naive import pageRank_naive\n",
    "from pagerank_np_sparse import pagerank_sparse\n",
    "from pagerank_numba import pageRank_naive_numba, pagerank_sparse_numba"
   ]
  },
  {
   "cell_type": "code",
   "execution_count": 31,
   "metadata": {
    "collapsed": true
   },
   "outputs": [],
   "source": [
    "def read_file(filename):\n",
    "    links = [[]]\n",
    "    with open(filename, 'r') as f:\n",
    "        for line in f:\n",
    "            (frm, to) = map(int, line.split(\" \"))\n",
    "            extend = max(frm - len(links), to - len(links)) + 1\n",
    "            for i in range(extend):\n",
    "                links.append([])\n",
    "            links[frm].append(to)\n",
    "    return links"
   ]
  },
  {
   "cell_type": "code",
   "execution_count": 39,
   "metadata": {
    "collapsed": true
   },
   "outputs": [],
   "source": [
    "def read_file_to_csr(filename):\n",
    "    with open(filename, 'r') as f:\n",
    "        src, dest = [], []\n",
    "        n = 0 # num_nodes\n",
    "        for line in f:\n",
    "            (frm, to) = map(int, line.split(\" \"))\n",
    "            \n",
    "            if max(frm, to) > n:\n",
    "                n = max(frm, to)\n",
    "            src.append(frm)\n",
    "            dest.append(to)\n",
    "        data = np.repeat(1, len(src))\n",
    "        return coo_matrix((data, (dest,src)), shape=(n+1, n+1), dtype=np.float64).tocsr()"
   ]
  },
  {
   "cell_type": "code",
   "execution_count": 40,
   "metadata": {
    "collapsed": true
   },
   "outputs": [],
   "source": [
    "fname = \"/Users/timwee/projects/page_rank/mypagerank/data/bull.txt\"\n",
    "fname = \"/Users/timwee/projects/page_rank/mypagerank/data/erdos-80000.txt\"\n",
    "fname = \"/Users/timwee/projects/page_rank/mypagerank/data/java-org.txt\""
   ]
  },
  {
   "cell_type": "code",
   "execution_count": 41,
   "metadata": {
    "collapsed": true
   },
   "outputs": [],
   "source": [
    "def print_debug(pr_vector):\n",
    "    for i in range(len(pr_vector)):\n",
    "        print(i, \"=\", pr_vector[i])\n",
    "    print(\"s = \" + str(sum(pr_vector)))"
   ]
  },
  {
   "cell_type": "code",
   "execution_count": 42,
   "metadata": {
    "collapsed": true
   },
   "outputs": [],
   "source": [
    "def compute_pagerank_naive(links):\n",
    "    pr, num_iter =  pageRank_naive(links, alpha=0.85, convergence=0.00001, checkSteps=10)\n",
    "    #print_debug(pr)\n",
    "    print(\"took %d iterations to converge\" % (num_iter))\n",
    "    return pr"
   ]
  },
  {
   "cell_type": "code",
   "execution_count": 43,
   "metadata": {
    "collapsed": true
   },
   "outputs": [],
   "source": [
    "def compute_pagerank_naive_numba(links):\n",
    "    pr, num_iter =  pageRank_naive_numba(links, alpha=0.85, convergence=0.00001, checkSteps=10)\n",
    "    #print_debug(pr)\n",
    "    print(\"took %d iterations to converge\" % (num_iter))\n",
    "    return pr"
   ]
  },
  {
   "cell_type": "code",
   "execution_count": 44,
   "metadata": {
    "collapsed": true
   },
   "outputs": [],
   "source": [
    "links = read_file(fname)\n",
    "H = read_file_to_csr(fname)"
   ]
  },
  {
   "cell_type": "code",
   "execution_count": 49,
   "metadata": {
    "collapsed": true
   },
   "outputs": [],
   "source": [
    "def compute_pagerank_sparse(H):\n",
    "    pr, num_iter = pagerank_sparse(H)\n",
    "    #print_debug(pr)\n",
    "    print(\"took %d iterations to converge\" % (num_iter))\n",
    "    return pr"
   ]
  },
  {
   "cell_type": "code",
   "execution_count": 50,
   "metadata": {
    "collapsed": true
   },
   "outputs": [],
   "source": [
    "def compute_pagerank_sparse_numba(H):\n",
    "    pr, num_iter = pagerank_sparse_numba(H)\n",
    "    #print_debug(pr)\n",
    "    print(\"took %d iterations to converge\" % (num_iter))\n",
    "    return pr"
   ]
  },
  {
   "cell_type": "code",
   "execution_count": 46,
   "metadata": {
    "collapsed": false
   },
   "outputs": [
    {
     "name": "stdout",
     "output_type": "stream",
     "text": [
      "took 20 iterations to converge\n",
      "took 20 iterations to converge\n",
      "took 20 iterations to converge\n",
      "took 20 iterations to converge\n",
      "1 loop, best of 3: 4.33 s per loop\n"
     ]
    }
   ],
   "source": [
    "%timeit pr_naive = compute_pagerank_naive(links)"
   ]
  },
  {
   "cell_type": "code",
   "execution_count": 47,
   "metadata": {
    "collapsed": false
   },
   "outputs": [
    {
     "name": "stdout",
     "output_type": "stream",
     "text": [
      "took 20 iterations to converge\n",
      "took 20 iterations to converge\n",
      "took 20 iterations to converge\n",
      "took 20 iterations to converge\n",
      "1 loop, best of 3: 4.46 s per loop\n"
     ]
    }
   ],
   "source": [
    "%timeit pr_naive_numba = compute_pagerank_naive_numba(links)"
   ]
  },
  {
   "cell_type": "code",
   "execution_count": 51,
   "metadata": {
    "collapsed": false
   },
   "outputs": [
    {
     "name": "stdout",
     "output_type": "stream",
     "text": [
      "took 15 iterations to converge\n",
      "took 15 iterations to converge\n",
      "took 15 iterations to converge\n",
      "took 15 iterations to converge\n",
      "1 loop, best of 3: 182 ms per loop\n"
     ]
    }
   ],
   "source": [
    "%timeit pr_sparse = compute_pagerank_sparse(H)"
   ]
  },
  {
   "cell_type": "code",
   "execution_count": 52,
   "metadata": {
    "collapsed": false
   },
   "outputs": [
    {
     "name": "stdout",
     "output_type": "stream",
     "text": [
      "took 15 iterations to converge\n",
      "took 15 iterations to converge\n",
      "took 15 iterations to converge\n",
      "took 15 iterations to converge\n",
      "The slowest run took 29.02 times longer than the fastest. This could mean that an intermediate result is being cached.\n",
      "1 loop, best of 3: 21.3 ms per loop\n"
     ]
    }
   ],
   "source": [
    "%timeit pr_sparse_numba = compute_pagerank_sparse_numba(H)"
   ]
  },
  {
   "cell_type": "code",
   "execution_count": 53,
   "metadata": {
    "collapsed": false
   },
   "outputs": [
    {
     "name": "stdout",
     "output_type": "stream",
     "text": [
      "took 20 iterations to converge\n"
     ]
    }
   ],
   "source": [
    "pr_naive = compute_pagerank_naive(links)"
   ]
  },
  {
   "cell_type": "code",
   "execution_count": 54,
   "metadata": {
    "collapsed": false
   },
   "outputs": [
    {
     "name": "stdout",
     "output_type": "stream",
     "text": [
      "took 15 iterations to converge\n"
     ]
    }
   ],
   "source": [
    "pr_sparse = compute_pagerank_sparse(H)"
   ]
  },
  {
   "cell_type": "code",
   "execution_count": 56,
   "metadata": {
    "collapsed": false
   },
   "outputs": [
    {
     "name": "stdout",
     "output_type": "stream",
     "text": [
      "took 15 iterations to converge\n"
     ]
    }
   ],
   "source": [
    "pr_sparse_numba = compute_pagerank_sparse_numba(H)"
   ]
  },
  {
   "cell_type": "code",
   "execution_count": 57,
   "metadata": {
    "collapsed": false
   },
   "outputs": [
    {
     "data": {
      "text/plain": [
       "(True, True)"
      ]
     },
     "execution_count": 57,
     "metadata": {},
     "output_type": "execute_result"
    }
   ],
   "source": [
    "np.allclose(pr_naive, pr_sparse), np.allclose(pr_sparse, pr_sparse_numba)"
   ]
  },
  {
   "cell_type": "code",
   "execution_count": null,
   "metadata": {
    "collapsed": true
   },
   "outputs": [],
   "source": []
  }
 ],
 "metadata": {
  "anaconda-cloud": {},
  "kernelspec": {
   "display_name": "Python [conda root]",
   "language": "python",
   "name": "conda-root-py"
  },
  "language_info": {
   "codemirror_mode": {
    "name": "ipython",
    "version": 3
   },
   "file_extension": ".py",
   "mimetype": "text/x-python",
   "name": "python",
   "nbconvert_exporter": "python",
   "pygments_lexer": "ipython3",
   "version": "3.5.2"
  }
 },
 "nbformat": 4,
 "nbformat_minor": 1
}
