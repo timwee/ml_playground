{
 "cells": [
  {
   "cell_type": "code",
   "execution_count": 1,
   "metadata": {
    "collapsed": false
   },
   "outputs": [],
   "source": [
    "%load_ext autoreload\n",
    "%autoreload 2"
   ]
  },
  {
   "cell_type": "code",
   "execution_count": 2,
   "metadata": {
    "collapsed": true
   },
   "outputs": [],
   "source": [
    "import numpy as np\n",
    "import matplotlib.pyplot as plt\n",
    "from scipy.sparse import csr_matrix\n",
    "from sklearn.metrics import log_loss, accuracy_score\n",
    "from sklearn.utils.extmath import safe_sparse_dot\n",
    "\n",
    "%matplotlib inline"
   ]
  },
  {
   "cell_type": "code",
   "execution_count": 3,
   "metadata": {
    "collapsed": false
   },
   "outputs": [],
   "source": [
    "import optim.gradient_descent_optimizers"
   ]
  },
  {
   "cell_type": "code",
   "execution_count": 4,
   "metadata": {
    "collapsed": false
   },
   "outputs": [],
   "source": [
    "from logistic_regression import LogisticRegressionWithSGD\n",
    "from optim.gradient_descent_optimizers import SGDOptimizer \n",
    "from utils import read_sparse_h5\n",
    "\n",
    "from optim.momentum import SGDWithMomentum\n",
    "from optim.adaptive import RMSProp, AdaGrad"
   ]
  },
  {
   "cell_type": "code",
   "execution_count": 5,
   "metadata": {
    "collapsed": true
   },
   "outputs": [],
   "source": [
    "lr = 0.01\n",
    "momentum = 0.9\n",
    "decay = 1e-3\n",
    "num_epochs = 100\n",
    "batchsize = 8192\n",
    "l2_reg = 1e-3\n",
    "nesterov_opt = SGDWithMomentum(lr=lr, momentum=momentum, decay=decay, nesterov=True, num_epochs=num_epochs, batchsize=batchsize, l2_reg=l2_reg)\n",
    "momentum_opt = SGDWithMomentum(lr=lr, momentum=momentum, decay=decay, nesterov=False, num_epochs=num_epochs, batchsize=batchsize, l2_reg=l2_reg)\n",
    "rms_opt = RMSProp(lr=lr, decay=decay, num_epochs=num_epochs, batchsize=batchsize, l2_reg=l2_reg)"
   ]
  },
  {
   "cell_type": "code",
   "execution_count": 25,
   "metadata": {
    "collapsed": true
   },
   "outputs": [],
   "source": [
    "import os\n",
    "import h5py\n",
    "\n",
    "parent_dir = \"/Users/timwee/projects/nlp/courses/harvard_nlp/HW1\"\n",
    "f = h5py.File(os.path.join(parent_dir, \"SST1.hdf5\"), 'r')"
   ]
  },
  {
   "cell_type": "code",
   "execution_count": 26,
   "metadata": {
    "collapsed": true
   },
   "outputs": [],
   "source": [
    "#f.close()"
   ]
  },
  {
   "cell_type": "code",
   "execution_count": 27,
   "metadata": {
    "collapsed": false
   },
   "outputs": [
    {
     "name": "stdout",
     "output_type": "stream",
     "text": [
      "nclasses\n",
      "nfeatures\n",
      "test_input_data\n",
      "test_input_indices\n",
      "test_input_indptr\n",
      "test_input_shape\n",
      "train_input_data\n",
      "train_input_indices\n",
      "train_input_indptr\n",
      "train_input_shape\n",
      "train_output\n",
      "valid_input_data\n",
      "valid_input_indices\n",
      "valid_input_indptr\n",
      "valid_input_shape\n",
      "valid_output\n"
     ]
    }
   ],
   "source": [
    "for k in f.keys():\n",
    "    print(k)"
   ]
  },
  {
   "cell_type": "code",
   "execution_count": 28,
   "metadata": {
    "collapsed": false
   },
   "outputs": [],
   "source": [
    "X = read_sparse_h5(f, \"train_input\")\n",
    "y = f[\"train_output\"]\n",
    "valid_X = read_sparse_h5(f, \"valid_input\")\n",
    "valid_y = f[\"valid_output\"]\n",
    "num_features = f[\"nfeatures\"][0]\n",
    "num_classes = f[\"nclasses\"][0] + 1"
   ]
  },
  {
   "cell_type": "code",
   "execution_count": 29,
   "metadata": {
    "collapsed": false
   },
   "outputs": [
    {
     "data": {
      "text/plain": [
       "(17837, 6, 5, 1)"
      ]
     },
     "execution_count": 29,
     "metadata": {},
     "output_type": "execute_result"
    }
   ],
   "source": [
    "num_features, num_classes, np.max(y), np.min(y)"
   ]
  },
  {
   "cell_type": "code",
   "execution_count": 30,
   "metadata": {
    "collapsed": false
   },
   "outputs": [
    {
     "data": {
      "text/plain": [
       "(array([    0,  7189, 27513, 79856, 33016,  9243]),\n",
       " array([  0, 139, 289, 229, 279, 165]))"
      ]
     },
     "execution_count": 30,
     "metadata": {},
     "output_type": "execute_result"
    }
   ],
   "source": [
    "np.bincount(y), np.bincount(valid_y)"
   ]
  },
  {
   "cell_type": "code",
   "execution_count": 31,
   "metadata": {
    "collapsed": false
   },
   "outputs": [
    {
     "data": {
      "text/plain": [
       "((156817, 17837), (156817,))"
      ]
     },
     "execution_count": 31,
     "metadata": {},
     "output_type": "execute_result"
    }
   ],
   "source": [
    "X.shape, y.shape"
   ]
  },
  {
   "cell_type": "markdown",
   "metadata": {},
   "source": [
    "### LR"
   ]
  },
  {
   "cell_type": "code",
   "execution_count": 32,
   "metadata": {
    "collapsed": false
   },
   "outputs": [
    {
     "data": {
      "text/plain": [
       "LogisticRegression(C=1.0, class_weight=None, dual=False, fit_intercept=True,\n",
       "          intercept_scaling=1, max_iter=300, multi_class='ovr', n_jobs=1,\n",
       "          penalty='l2', random_state=None, solver='liblinear', tol=0.0001,\n",
       "          verbose=0, warm_start=False)"
      ]
     },
     "execution_count": 32,
     "metadata": {},
     "output_type": "execute_result"
    }
   ],
   "source": [
    "clf = LogisticRegression(penalty='l2', fit_intercept=True, solver='liblinear', max_iter=300, multi_class='ovr')\n",
    "clf.fit(X, y)"
   ]
  },
  {
   "cell_type": "code",
   "execution_count": 34,
   "metadata": {
    "collapsed": false
   },
   "outputs": [],
   "source": [
    "lr = 1.0\n",
    "momentum = 0.9\n",
    "decay = 5e-5\n",
    "num_epochs = 200\n",
    "batchsize = 8192\n",
    "l2_reg = 1e-4"
   ]
  },
  {
   "cell_type": "code",
   "execution_count": 35,
   "metadata": {
    "collapsed": false
   },
   "outputs": [
    {
     "name": "stdout",
     "output_type": "stream",
     "text": [
      "iteration 0, loss 1.867750\n",
      "iteration 10, loss 1.277737\n",
      "iteration 20, loss 1.196278\n",
      "iteration 30, loss 1.162929\n",
      "iteration 40, loss 1.146505\n",
      "iteration 50, loss 1.137432\n",
      "iteration 60, loss 1.132003\n",
      "iteration 70, loss 1.128567\n",
      "iteration 80, loss 1.126303\n",
      "iteration 90, loss 1.124767\n",
      "iteration 100, loss 1.123704\n",
      "iteration 110, loss 1.122954\n",
      "iteration 120, loss 1.122418\n",
      "iteration 130, loss 1.122029\n",
      "iteration 140, loss 1.121742\n",
      "iteration 150, loss 1.121524\n",
      "iteration 160, loss 1.121354\n",
      "iteration 170, loss 1.121217\n",
      "iteration 180, loss 1.121101\n",
      "iteration 190, loss 1.120998\n"
     ]
    },
    {
     "data": {
      "text/plain": [
       "1.1209128090703306"
      ]
     },
     "execution_count": 35,
     "metadata": {},
     "output_type": "execute_result"
    }
   ],
   "source": [
    "momentum_opt = SGDWithMomentum(lr=lr, momentum=momentum, decay=1e-6, nesterov=False, num_epochs=num_epochs, batchsize=batchsize, l2_reg=l2_reg)\n",
    "lr_clf_moment = LogisticRegressionWithSGD()\n",
    "lr_clf_moment.train_with_opt(momentum_opt, X, y, num_features, num_classes)"
   ]
  },
  {
   "cell_type": "code",
   "execution_count": 36,
   "metadata": {
    "collapsed": false
   },
   "outputs": [
    {
     "name": "stdout",
     "output_type": "stream",
     "text": [
      "iteration 0, loss 1.758093\n",
      "iteration 10, loss 1.277470\n",
      "iteration 20, loss 1.189352\n",
      "iteration 30, loss 1.153808\n",
      "iteration 40, loss 1.136258\n",
      "iteration 50, loss 1.126665\n",
      "iteration 60, loss 1.121075\n",
      "iteration 70, loss 1.117670\n",
      "iteration 80, loss 1.115525\n",
      "iteration 90, loss 1.114139\n",
      "iteration 100, loss 1.113226\n",
      "iteration 110, loss 1.112614\n",
      "iteration 120, loss 1.112198\n",
      "iteration 130, loss 1.111911\n",
      "iteration 140, loss 1.111709\n",
      "iteration 150, loss 1.111565\n",
      "iteration 160, loss 1.111460\n",
      "iteration 170, loss 1.111380\n",
      "iteration 180, loss 1.111317\n",
      "iteration 190, loss 1.111265\n"
     ]
    },
    {
     "data": {
      "text/plain": [
       "1.1112235275047593"
      ]
     },
     "execution_count": 36,
     "metadata": {},
     "output_type": "execute_result"
    }
   ],
   "source": [
    "nesterov_opt = SGDWithMomentum(lr=lr, momentum=momentum, decay=1e-6, nesterov=True, num_epochs=num_epochs, batchsize=batchsize, l2_reg=l2_reg)\n",
    "lr_clf_nest = LogisticRegressionWithSGD()\n",
    "lr_clf_nest.train_with_opt(nesterov_opt, X, y, num_features, num_classes)"
   ]
  },
  {
   "cell_type": "code",
   "execution_count": 37,
   "metadata": {
    "collapsed": false
   },
   "outputs": [
    {
     "name": "stdout",
     "output_type": "stream",
     "text": [
      "iteration 0, loss 1.924987\n",
      "iteration 10, loss 1.225160\n",
      "iteration 20, loss 1.183539\n",
      "iteration 30, loss 1.166655\n",
      "iteration 40, loss 1.155760\n",
      "iteration 50, loss 1.147670\n",
      "iteration 60, loss 1.141175\n",
      "iteration 70, loss 1.135705\n",
      "iteration 80, loss 1.130978\n",
      "iteration 90, loss 1.126832\n",
      "iteration 100, loss 1.123171\n",
      "iteration 110, loss 1.119929\n",
      "iteration 120, loss 1.117062\n",
      "iteration 130, loss 1.114534\n",
      "iteration 140, loss 1.112317\n",
      "iteration 150, loss 1.110382\n",
      "iteration 160, loss 1.108704\n",
      "iteration 170, loss 1.107257\n",
      "iteration 180, loss 1.106018\n",
      "iteration 190, loss 1.104965\n"
     ]
    },
    {
     "data": {
      "text/plain": [
       "1.1041565706330143"
      ]
     },
     "execution_count": 37,
     "metadata": {},
     "output_type": "execute_result"
    }
   ],
   "source": [
    "adagrad_opt = AdaGrad(lr=1.0, decay=1e-4, num_epochs=num_epochs, batchsize=batchsize, l2_reg=l2_reg)\n",
    "lr_clf_adagrad = LogisticRegressionWithSGD()\n",
    "lr_clf_adagrad.train_with_opt(adagrad_opt, X, y, num_features, num_classes)"
   ]
  },
  {
   "cell_type": "code",
   "execution_count": 38,
   "metadata": {
    "collapsed": false
   },
   "outputs": [
    {
     "name": "stdout",
     "output_type": "stream",
     "text": [
      "iteration 0, loss 2.407793\n",
      "iteration 10, loss 2.172444\n",
      "iteration 20, loss 2.239467\n",
      "iteration 30, loss 2.178407\n",
      "iteration 40, loss 2.140755\n",
      "iteration 50, loss 2.058057\n",
      "iteration 60, loss 1.980072\n",
      "iteration 70, loss 1.957179\n",
      "iteration 80, loss 1.859632\n",
      "iteration 90, loss 1.890551\n",
      "iteration 100, loss 1.736542\n",
      "iteration 110, loss 1.642587\n",
      "iteration 120, loss 1.583533\n",
      "iteration 130, loss 1.528328\n",
      "iteration 140, loss 1.476588\n",
      "iteration 150, loss 1.429694\n",
      "iteration 160, loss 1.388407\n",
      "iteration 170, loss 1.355400\n",
      "iteration 180, loss 1.348745\n",
      "iteration 190, loss 1.303564\n"
     ]
    },
    {
     "data": {
      "text/plain": [
       "1.275336295690686"
      ]
     },
     "execution_count": 38,
     "metadata": {},
     "output_type": "execute_result"
    }
   ],
   "source": [
    "rms_opt = RMSProp(lr=0.5, decay=1e-4, rho=0.9, num_epochs=num_epochs, batchsize=batchsize, l2_reg=l2_reg)\n",
    "lr_clf_rms = LogisticRegressionWithSGD()\n",
    "lr_clf_rms.train_with_opt(rms_opt, X, y, num_features, num_classes)"
   ]
  },
  {
   "cell_type": "code",
   "execution_count": 40,
   "metadata": {
    "collapsed": false
   },
   "outputs": [
    {
     "name": "stdout",
     "output_type": "stream",
     "text": [
      "iteration 0, loss 1.783147\n",
      "iteration 10, loss 1.718436\n",
      "iteration 20, loss 1.678460\n",
      "iteration 30, loss 1.644345\n",
      "iteration 40, loss 1.613728\n",
      "iteration 50, loss 1.585991\n",
      "iteration 60, loss 1.560825\n",
      "iteration 70, loss 1.538003\n",
      "iteration 80, loss 1.517297\n",
      "iteration 90, loss 1.498474\n",
      "iteration 100, loss 1.481311\n",
      "iteration 110, loss 1.465602\n",
      "iteration 120, loss 1.451166\n",
      "iteration 130, loss 1.437845\n",
      "iteration 140, loss 1.425504\n",
      "iteration 150, loss 1.414029\n",
      "iteration 160, loss 1.403320\n",
      "iteration 170, loss 1.393296\n",
      "iteration 180, loss 1.383886\n",
      "iteration 190, loss 1.375029\n"
     ]
    },
    {
     "data": {
      "text/plain": [
       "1.3674878700555071"
      ]
     },
     "execution_count": 40,
     "metadata": {},
     "output_type": "execute_result"
    }
   ],
   "source": [
    "from optim.adaptive import AdaDelta\n",
    "# 1.2372139256997967\n",
    "adadelta_opt = AdaDelta(lr=1.0, decay=0., rho=0.95, num_epochs=num_epochs, batchsize=batchsize, l2_reg=l2_reg)\n",
    "lr_clf_adadelta = LogisticRegressionWithSGD()\n",
    "lr_clf_adadelta.train_with_opt(adadelta_opt, X, y, num_features, num_classes)"
   ]
  },
  {
   "cell_type": "code",
   "execution_count": 41,
   "metadata": {
    "collapsed": false
   },
   "outputs": [
    {
     "name": "stdout",
     "output_type": "stream",
     "text": [
      "iteration 0, loss 1.770095\n",
      "iteration 10, loss 1.667895\n",
      "iteration 20, loss 1.623513\n",
      "iteration 30, loss 1.586685\n",
      "iteration 40, loss 1.553058\n",
      "iteration 50, loss 1.521557\n",
      "iteration 60, loss 1.491873\n",
      "iteration 70, loss 1.463917\n",
      "iteration 80, loss 1.437663\n",
      "iteration 90, loss 1.413089\n",
      "iteration 100, loss 1.390165\n",
      "iteration 110, loss 1.368842\n",
      "iteration 120, loss 1.349059\n",
      "iteration 130, loss 1.330740\n",
      "iteration 140, loss 1.313801\n",
      "iteration 150, loss 1.298153\n",
      "iteration 160, loss 1.283707\n",
      "iteration 170, loss 1.270373\n",
      "iteration 180, loss 1.258066\n",
      "iteration 190, loss 1.246703\n"
     ]
    },
    {
     "data": {
      "text/plain": [
       "1.2372220165377927"
      ]
     },
     "execution_count": 41,
     "metadata": {},
     "output_type": "execute_result"
    }
   ],
   "source": [
    "from optim.adaptive import Adam\n",
    "\n",
    "adam_opt = Adam(num_epochs=num_epochs, batchsize=batchsize, l2_reg=l2_reg)\n",
    "lr_clf_adam = LogisticRegressionWithSGD()\n",
    "lr_clf_adam.train_with_opt(adam_opt, X, y, num_features, num_classes)"
   ]
  },
  {
   "cell_type": "code",
   "execution_count": 42,
   "metadata": {
    "collapsed": false
   },
   "outputs": [
    {
     "name": "stdout",
     "output_type": "stream",
     "text": [
      "iteration 0, loss 1.739713\n",
      "iteration 10, loss 1.598652\n",
      "iteration 20, loss 1.548668\n",
      "iteration 30, loss 1.510420\n",
      "iteration 40, loss 1.477787\n",
      "iteration 50, loss 1.449104\n",
      "iteration 60, loss 1.423650\n",
      "iteration 70, loss 1.400934\n",
      "iteration 80, loss 1.380566\n",
      "iteration 90, loss 1.362231\n",
      "iteration 100, loss 1.345645\n",
      "iteration 110, loss 1.330576\n",
      "iteration 120, loss 1.316849\n",
      "iteration 130, loss 1.304305\n",
      "iteration 140, loss 1.292810\n",
      "iteration 150, loss 1.282248\n",
      "iteration 160, loss 1.272523\n",
      "iteration 170, loss 1.263553\n",
      "iteration 180, loss 1.255262\n",
      "iteration 190, loss 1.247589\n"
     ]
    },
    {
     "data": {
      "text/plain": [
       "1.2411628940643151"
      ]
     },
     "execution_count": 42,
     "metadata": {},
     "output_type": "execute_result"
    }
   ],
   "source": [
    "from optim.adaptive import Adamax\n",
    "\n",
    "adamax_opt = Adamax(num_epochs=num_epochs, batchsize=batchsize, l2_reg=l2_reg)\n",
    "lr_clf_adamax = LogisticRegressionWithSGD()\n",
    "lr_clf_adamax.train_with_opt(adamax_opt, X, y, num_features, num_classes)"
   ]
  },
  {
   "cell_type": "code",
   "execution_count": 43,
   "metadata": {
    "collapsed": false
   },
   "outputs": [
    {
     "name": "stdout",
     "output_type": "stream",
     "text": [
      "iteration 0, loss 1.770167\n",
      "iteration 10, loss 1.623474\n",
      "iteration 20, loss 1.526955\n",
      "iteration 30, loss 1.452125\n",
      "iteration 40, loss 1.392531\n",
      "iteration 50, loss 1.344565\n",
      "iteration 60, loss 1.305654\n",
      "iteration 70, loss 1.273845\n",
      "iteration 80, loss 1.247647\n",
      "iteration 90, loss 1.225917\n",
      "iteration 100, loss 1.207783\n",
      "iteration 110, loss 1.192566\n",
      "iteration 120, loss 1.179738\n",
      "iteration 130, loss 1.168884\n",
      "iteration 140, loss 1.159668\n",
      "iteration 150, loss 1.151822\n",
      "iteration 160, loss 1.145127\n",
      "iteration 170, loss 1.139404\n",
      "iteration 180, loss 1.134505\n",
      "iteration 190, loss 1.130308\n"
     ]
    },
    {
     "data": {
      "text/plain": [
       "1.1270445312058488"
      ]
     },
     "execution_count": 43,
     "metadata": {},
     "output_type": "execute_result"
    }
   ],
   "source": [
    "from optim.adaptive import NAdam\n",
    "\n",
    "nadam_opt = NAdam(num_epochs=num_epochs, batchsize=batchsize, l2_reg=l2_reg)\n",
    "lr_clf_nadam = LogisticRegressionWithSGD()\n",
    "lr_clf_nadam.train_with_opt(nadam_opt, X, y, num_features, num_classes)"
   ]
  },
  {
   "cell_type": "markdown",
   "metadata": {},
   "source": [
    "### results"
   ]
  },
  {
   "cell_type": "markdown",
   "metadata": {},
   "source": [
    "### sklearn"
   ]
  },
  {
   "cell_type": "code",
   "execution_count": 44,
   "metadata": {
    "collapsed": false
   },
   "outputs": [
    {
     "data": {
      "text/plain": [
       "(0.75384940270759671, 0.13058533194742916)"
      ]
     },
     "execution_count": 44,
     "metadata": {},
     "output_type": "execute_result"
    }
   ],
   "source": [
    "sklearn_probs = clf.predict_proba(X)\n",
    "log_loss(y, sklearn_probs), accuracy_score(y, np.argmax(sklearn_probs, axis=1))"
   ]
  },
  {
   "cell_type": "code",
   "execution_count": 45,
   "metadata": {
    "collapsed": false
   },
   "outputs": [
    {
     "data": {
      "text/plain": [
       "(1.575677985478658, 0.22161671207992734)"
      ]
     },
     "execution_count": 45,
     "metadata": {},
     "output_type": "execute_result"
    }
   ],
   "source": [
    "sk_valid_probs = clf.predict_proba(valid_X)\n",
    "log_loss(valid_y, sk_valid_probs), accuracy_score(valid_y, np.argmax(sk_valid_probs, axis=1))"
   ]
  },
  {
   "cell_type": "markdown",
   "metadata": {},
   "source": [
    "### no momentum sgd"
   ]
  },
  {
   "cell_type": "code",
   "execution_count": 46,
   "metadata": {
    "collapsed": false
   },
   "outputs": [
    {
     "data": {
      "text/plain": [
       "0.48937296339044872"
      ]
     },
     "execution_count": 46,
     "metadata": {},
     "output_type": "execute_result"
    }
   ],
   "source": [
    "probs = lr_clf.predict_proba(X)\n",
    "accuracy_score(y, np.argmax(probs, axis=1))"
   ]
  },
  {
   "cell_type": "code",
   "execution_count": 47,
   "metadata": {
    "collapsed": false
   },
   "outputs": [
    {
     "data": {
      "text/plain": [
       "0.30881017257039056"
      ]
     },
     "execution_count": 47,
     "metadata": {},
     "output_type": "execute_result"
    }
   ],
   "source": [
    "valid_probs = lr_clf.predict_proba(valid_X)\n",
    "accuracy_score(valid_y, np.argmax(valid_probs, axis=1))"
   ]
  },
  {
   "cell_type": "markdown",
   "metadata": {},
   "source": [
    "### momentum sgd"
   ]
  },
  {
   "cell_type": "code",
   "execution_count": 48,
   "metadata": {
    "collapsed": false
   },
   "outputs": [
    {
     "data": {
      "text/plain": [
       "0.5153777970500647"
      ]
     },
     "execution_count": 48,
     "metadata": {},
     "output_type": "execute_result"
    }
   ],
   "source": [
    "probs = lr_clf_moment.predict_proba(X)\n",
    "accuracy_score(y, np.argmax(probs, axis=1))"
   ]
  },
  {
   "cell_type": "code",
   "execution_count": 49,
   "metadata": {
    "collapsed": false
   },
   "outputs": [
    {
     "data": {
      "text/plain": [
       "0.36148955495004542"
      ]
     },
     "execution_count": 49,
     "metadata": {},
     "output_type": "execute_result"
    }
   ],
   "source": [
    "valid_probs = lr_clf_moment.predict_proba(valid_X)\n",
    "accuracy_score(valid_y, np.argmax(valid_probs, axis=1))"
   ]
  },
  {
   "cell_type": "markdown",
   "metadata": {},
   "source": [
    "### nesterov sgd"
   ]
  },
  {
   "cell_type": "code",
   "execution_count": 50,
   "metadata": {
    "collapsed": false
   },
   "outputs": [
    {
     "data": {
      "text/plain": [
       "0.51787752603352954"
      ]
     },
     "execution_count": 50,
     "metadata": {},
     "output_type": "execute_result"
    }
   ],
   "source": [
    "probs = lr_clf_nest.predict_proba(X)\n",
    "accuracy_score(y, np.argmax(probs, axis=1))"
   ]
  },
  {
   "cell_type": "code",
   "execution_count": 51,
   "metadata": {
    "collapsed": false
   },
   "outputs": [
    {
     "data": {
      "text/plain": [
       "0.35513169845594916"
      ]
     },
     "execution_count": 51,
     "metadata": {},
     "output_type": "execute_result"
    }
   ],
   "source": [
    "valid_probs = lr_clf_nest.predict_proba(valid_X)\n",
    "accuracy_score(valid_y, np.argmax(valid_probs, axis=1))"
   ]
  },
  {
   "cell_type": "markdown",
   "metadata": {},
   "source": [
    "### rms prop"
   ]
  },
  {
   "cell_type": "code",
   "execution_count": 52,
   "metadata": {
    "collapsed": false
   },
   "outputs": [
    {
     "data": {
      "text/plain": [
       "0.53857681246293454"
      ]
     },
     "execution_count": 52,
     "metadata": {},
     "output_type": "execute_result"
    }
   ],
   "source": [
    "probs = lr_clf_rms.predict_proba(X)\n",
    "accuracy_score(y, np.argmax(probs, axis=1))"
   ]
  },
  {
   "cell_type": "code",
   "execution_count": 53,
   "metadata": {
    "collapsed": false
   },
   "outputs": [
    {
     "data": {
      "text/plain": [
       "0.34604904632152589"
      ]
     },
     "execution_count": 53,
     "metadata": {},
     "output_type": "execute_result"
    }
   ],
   "source": [
    "valid_probs = lr_clf_rms.predict_proba(valid_X)\n",
    "accuracy_score(valid_y, np.argmax(valid_probs, axis=1))"
   ]
  },
  {
   "cell_type": "markdown",
   "metadata": {},
   "source": [
    "### adagrad"
   ]
  },
  {
   "cell_type": "code",
   "execution_count": 54,
   "metadata": {
    "collapsed": false
   },
   "outputs": [
    {
     "data": {
      "text/plain": [
       "0.58319569944585092"
      ]
     },
     "execution_count": 54,
     "metadata": {},
     "output_type": "execute_result"
    }
   ],
   "source": [
    "probs = lr_clf_adagrad.predict_proba(X)\n",
    "accuracy_score(y, np.argmax(probs, axis=1))"
   ]
  },
  {
   "cell_type": "code",
   "execution_count": 55,
   "metadata": {
    "collapsed": false
   },
   "outputs": [
    {
     "data": {
      "text/plain": [
       "0.36603088101725706"
      ]
     },
     "execution_count": 55,
     "metadata": {},
     "output_type": "execute_result"
    }
   ],
   "source": [
    "valid_probs = lr_clf_adagrad.predict_proba(valid_X)\n",
    "accuracy_score(valid_y, np.argmax(valid_probs, axis=1))"
   ]
  },
  {
   "cell_type": "markdown",
   "metadata": {},
   "source": [
    "### adadelta"
   ]
  },
  {
   "cell_type": "code",
   "execution_count": 56,
   "metadata": {
    "collapsed": false
   },
   "outputs": [
    {
     "data": {
      "text/plain": [
       "0.54448178450040496"
      ]
     },
     "execution_count": 56,
     "metadata": {},
     "output_type": "execute_result"
    }
   ],
   "source": [
    "probs = lr_clf_adadelta.predict_proba(X)\n",
    "accuracy_score(y, np.argmax(probs, axis=1))"
   ]
  },
  {
   "cell_type": "code",
   "execution_count": 57,
   "metadata": {
    "collapsed": false
   },
   "outputs": [
    {
     "data": {
      "text/plain": [
       "0.35149863760217986"
      ]
     },
     "execution_count": 57,
     "metadata": {},
     "output_type": "execute_result"
    }
   ],
   "source": [
    "valid_probs = lr_clf_adadelta.predict_proba(valid_X)\n",
    "accuracy_score(valid_y, np.argmax(valid_probs, axis=1))"
   ]
  },
  {
   "cell_type": "markdown",
   "metadata": {},
   "source": [
    "### adam"
   ]
  },
  {
   "cell_type": "code",
   "execution_count": 58,
   "metadata": {
    "collapsed": false
   },
   "outputs": [
    {
     "data": {
      "text/plain": [
       "0.5700529917037056"
      ]
     },
     "execution_count": 58,
     "metadata": {},
     "output_type": "execute_result"
    }
   ],
   "source": [
    "probs = lr_clf_adam.predict_proba(X)\n",
    "accuracy_score(y, np.argmax(probs, axis=1))"
   ]
  },
  {
   "cell_type": "code",
   "execution_count": 59,
   "metadata": {
    "collapsed": false
   },
   "outputs": [
    {
     "data": {
      "text/plain": [
       "0.36512261580381472"
      ]
     },
     "execution_count": 59,
     "metadata": {},
     "output_type": "execute_result"
    }
   ],
   "source": [
    "valid_probs = lr_clf_adam.predict_proba(valid_X)\n",
    "accuracy_score(valid_y, np.argmax(valid_probs, axis=1))"
   ]
  },
  {
   "cell_type": "markdown",
   "metadata": {},
   "source": [
    "### adamax"
   ]
  },
  {
   "cell_type": "code",
   "execution_count": 60,
   "metadata": {
    "collapsed": false
   },
   "outputs": [
    {
     "data": {
      "text/plain": [
       "0.57445302486337579"
      ]
     },
     "execution_count": 60,
     "metadata": {},
     "output_type": "execute_result"
    }
   ],
   "source": [
    "probs = lr_clf_adamax.predict_proba(X)\n",
    "accuracy_score(y, np.argmax(probs, axis=1))"
   ]
  },
  {
   "cell_type": "code",
   "execution_count": 61,
   "metadata": {
    "collapsed": false
   },
   "outputs": [
    {
     "data": {
      "text/plain": [
       "0.36512261580381472"
      ]
     },
     "execution_count": 61,
     "metadata": {},
     "output_type": "execute_result"
    }
   ],
   "source": [
    "valid_probs = lr_clf_adamax.predict_proba(valid_X)\n",
    "accuracy_score(valid_y, np.argmax(valid_probs, axis=1))"
   ]
  },
  {
   "cell_type": "markdown",
   "metadata": {},
   "source": [
    "### nadam"
   ]
  }
 ],
 "metadata": {
  "anaconda-cloud": {},
  "kernelspec": {
   "display_name": "Python [conda root]",
   "language": "python",
   "name": "conda-root-py"
  },
  "language_info": {
   "codemirror_mode": {
    "name": "ipython",
    "version": 3
   },
   "file_extension": ".py",
   "mimetype": "text/x-python",
   "name": "python",
   "nbconvert_exporter": "python",
   "pygments_lexer": "ipython3",
   "version": "3.5.2"
  }
 },
 "nbformat": 4,
 "nbformat_minor": 1
}
