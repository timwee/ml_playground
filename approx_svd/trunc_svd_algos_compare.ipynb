{
 "cells": [
  {
   "cell_type": "markdown",
   "metadata": {},
   "source": [
    "# Compare the following for truncated SVD:\n",
    "\n",
    "1. Randomized Block Power Method. This algorithm was introduced in [Finding structure with randomness: Stochastic algorithms for constructing approximate matrix decompositions - Halko, et al., 2009]([http://arxiv.org/abs/arXiv:0909.4061]) and used in:\n",
    "    1. [FB PCA](https://github.com/facebook/fbpca)\n",
    "    2. [http://scikit-learn.org/stable/modules/generated/sklearn.decomposition.TruncatedSVD.html](scikit-learn's Truncated SVD)\n",
    "    3. [Breeze's svdr](https://github.com/scalanlp/breeze/blob/master/math/src/main/scala/breeze/linalg/functions/svdr.scala)\n",
    "2. Randomized Krylov block method - This was introduced by [Musco 2015](http://papers.nips.cc/paper/5735-randomized-block-krylov-methods-for-stronger-and-faster-approximate-singular-value-decomposition)\n",
    "3. **(TODO)** Lazy SVD - from [LazySVD: Even Faster SVD Decomposition Yet Without Agonizing Pain](http://papers.nips.cc/paper/6507-lazysvd-even-faster-svd-decomposition-yet-without-agonizing-pain)\n",
    "4. **(TODO)** Streaming PCA from Gensim author - [Fast and Faster: A Comparison of Two Streamed Matrix Decomposition Algorithms](https://arxiv.org/abs/1102.5597)"
   ]
  },
  {
   "cell_type": "code",
   "execution_count": 7,
   "metadata": {
    "collapsed": false
   },
   "outputs": [],
   "source": [
    "import numpy as np\n",
    "import numpy.linalg as nla\n",
    "import fbpca\n",
    "import gensim\n",
    "import scipy.linalg as sla\n",
    "import sklearn.decomposition.pca as skpca\n",
    "import matplotlib.pyplot as plt\n",
    "from sklearn.decomposition import randomized_svd as sk_rand_svd\n",
    "import time"
   ]
  },
  {
   "cell_type": "code",
   "execution_count": 3,
   "metadata": {
    "collapsed": true
   },
   "outputs": [],
   "source": [
    "import os"
   ]
  },
  {
   "cell_type": "code",
   "execution_count": 4,
   "metadata": {
    "collapsed": true
   },
   "outputs": [],
   "source": [
    "%load_ext autoreload\n",
    "%autoreload 2\n",
    "\n",
    "%matplotlib inline"
   ]
  },
  {
   "cell_type": "markdown",
   "metadata": {},
   "source": [
    "## helper assert methods"
   ]
  },
  {
   "cell_type": "code",
   "execution_count": 83,
   "metadata": {
    "collapsed": false
   },
   "outputs": [],
   "source": [
    "from numpy.testing import assert_almost_equal"
   ]
  },
  {
   "cell_type": "code",
   "execution_count": 107,
   "metadata": {
    "collapsed": true
   },
   "outputs": [],
   "source": [
    "def svd_err_spectral_norm(orig, svdapprox_func, **args):\n",
    "    U, s, Vh = svdapprox_func(orig, **args)\n",
    "    return nla.norm((U * s).dot(Vh) - orig, 2)"
   ]
  },
  {
   "cell_type": "markdown",
   "metadata": {},
   "source": [
    "## hyperparams"
   ]
  },
  {
   "cell_type": "code",
   "execution_count": 239,
   "metadata": {
    "collapsed": true
   },
   "outputs": [],
   "source": [
    "num_components = 20\n",
    "n_iter = 5\n",
    "rank = 20\n",
    "num_rows = 500\n",
    "num_cols = 100"
   ]
  },
  {
   "cell_type": "markdown",
   "metadata": {},
   "source": [
    "## sample data generator\n",
    "\n",
    "We generate a random matrix of a particular (approximate/rough) rank by doing **\"SVD backwards\"**. That is, we generate the $U$, $V$, and $E$ of SVD's $A = UEV^T$.\n",
    "\n",
    "1. We generate orthogonal matrices $U$ and $V$ via the QR decomposition on a random matrix. (QR gives as an orthogonal $Q$ and a right-triangular $R$)\n",
    "2. Generate singular values in $E$ according to an exponentially decreasing formula $e^{-(i/rank)^2}$, where $\\textbf{i}$ is the singular value index, and $\\textbf{rank}$ is the input parameter."
   ]
  },
  {
   "cell_type": "code",
   "execution_count": 240,
   "metadata": {
    "collapsed": true
   },
   "outputs": [],
   "source": [
    "def gen_tail_noise(n, normalizer):\n",
    "    return np.exp(-0.1 * np.arange(n) / normalizer)\n",
    "\n",
    "def gen_exp_decrease(n, normalizer):\n",
    "    return np.exp(-1.0 * np.power(np.arange(n) / normalizer, 2))\n",
    "\n",
    "def gen_low_rank_matrix(m, n, rank=5, long_tail_factor=0.0):\n",
    "    smaller_dim = min(m, n)\n",
    "    U, _ = sla.qr(np.random.randn(m, smaller_dim), mode=\"economic\")\n",
    "    V, _ = sla.qr(np.random.randn(n, smaller_dim), mode=\"economic\")\n",
    "    exponential_decrease = gen_exp_decrease(smaller_dim, rank)#np.exp(-1.0 * np.power(np.arange(1, n) / rank, 2))\n",
    "    tail_noise = gen_tail_noise(smaller_dim, rank)\n",
    "    s = np.array((1.0 - long_tail_factor) * exponential_decrease + \\\n",
    "                 (long_tail_factor) * tail_noise)\n",
    "    return np.dot(U * s, V.T)"
   ]
  },
  {
   "cell_type": "code",
   "execution_count": 241,
   "metadata": {
    "collapsed": false
   },
   "outputs": [
    {
     "data": {
      "text/plain": [
       "[<matplotlib.lines.Line2D at 0x114686518>]"
      ]
     },
     "execution_count": 241,
     "metadata": {},
     "output_type": "execute_result"
    },
    {
     "data": {
      "image/png": "[encoded data removed]",
      "text/plain": [
       "<matplotlib.figure.Figure at 0x11a1a8898>"
      ]
     },
     "metadata": {},
     "output_type": "display_data"
    }
   ],
   "source": [
    "plt.plot(gen_exp_decrease(20,10))"
   ]
  },
  {
   "cell_type": "code",
   "execution_count": 242,
   "metadata": {
    "collapsed": false
   },
   "outputs": [],
   "source": [
    "A = gen_low_rank_matrix(m=num_rows, n=num_cols, rank=rank, long_tail_factor=0.5)"
   ]
  },
  {
   "cell_type": "markdown",
   "metadata": {},
   "source": [
    "## Test FBPCA and SKlearn Truncated SVD implementations"
   ]
  },
  {
   "cell_type": "code",
   "execution_count": 243,
   "metadata": {
    "collapsed": false
   },
   "outputs": [
    {
     "name": "stdout",
     "output_type": "stream",
     "text": [
      "0.65756518295\n"
     ]
    }
   ],
   "source": [
    "fbpca_err = svd_err_spectral_norm(A, fbpca.pca, k=num_components, n_iter=n_iter)\n",
    "print(fbpca_err)"
   ]
  },
  {
   "cell_type": "code",
   "execution_count": 244,
   "metadata": {
    "collapsed": false
   },
   "outputs": [
    {
     "name": "stdout",
     "output_type": "stream",
     "text": [
      "0.636360478052\n"
     ]
    }
   ],
   "source": [
    "sk_err = svd_err_spectral_norm(A, sk_rand_svd, n_components=num_components, n_iter=n_iter)\n",
    "print(sk_err)"
   ]
  },
  {
   "cell_type": "code",
   "execution_count": 245,
   "metadata": {
    "collapsed": false
   },
   "outputs": [
    {
     "name": "stdout",
     "output_type": "stream",
     "text": [
      "0.636360478052\n"
     ]
    }
   ],
   "source": [
    "sk_QR_err = svd_err_spectral_norm(A, sk_rand_svd, power_iteration_normalizer=\"QR\", n_components=num_components, n_iter=n_iter)\n",
    "print(sk_QR_err)"
   ]
  },
  {
   "cell_type": "markdown",
   "metadata": {},
   "source": [
    "## krylov subspace implementation"
   ]
  },
  {
   "cell_type": "code",
   "execution_count": 348,
   "metadata": {
    "collapsed": false
   },
   "outputs": [],
   "source": [
    "from randomized_block_krylov import randomized_krylov_svd"
   ]
  },
  {
   "cell_type": "code",
   "execution_count": 349,
   "metadata": {
    "collapsed": false
   },
   "outputs": [
    {
     "name": "stdout",
     "output_type": "stream",
     "text": [
      "0.636358429604\n"
     ]
    }
   ],
   "source": [
    "krylov_err = svd_err_spectral_norm(A, randomized_krylov_svd, n_components=num_components, n_iter=n_iter)\n",
    "print(krylov_err)"
   ]
  },
  {
   "cell_type": "markdown",
   "metadata": {},
   "source": [
    "# Halko (block power iter)"
   ]
  },
  {
   "cell_type": "code",
   "execution_count": 312,
   "metadata": {
    "collapsed": true
   },
   "outputs": [],
   "source": [
    "from randomized_block_power_iteration import rand_block_power_iter"
   ]
  },
  {
   "cell_type": "code",
   "execution_count": 313,
   "metadata": {
    "collapsed": false
   },
   "outputs": [
    {
     "name": "stdout",
     "output_type": "stream",
     "text": [
      "pre-power Q shape= (500, 30)\n",
      "post-power Q shape= (500, 30)\n",
      "0.636358607764\n"
     ]
    }
   ],
   "source": [
    "streaming_err = svd_err_spectral_norm(A, rand_block_power_iter, n_components=num_components, n_iter=n_iter)\n",
    "print(streaming_err)"
   ]
  },
  {
   "cell_type": "code",
   "execution_count": null,
   "metadata": {
    "collapsed": true
   },
   "outputs": [],
   "source": []
  }
 ],
 "metadata": {
  "anaconda-cloud": {},
  "kernelspec": {
   "display_name": "Python [conda root]",
   "language": "python",
   "name": "conda-root-py"
  },
  "language_info": {
   "codemirror_mode": {
    "name": "ipython",
    "version": 3
   },
   "file_extension": ".py",
   "mimetype": "text/x-python",
   "name": "python",
   "nbconvert_exporter": "python",
   "pygments_lexer": "ipython3",
   "version": "3.5.2"
  }
 },
 "nbformat": 4,
 "nbformat_minor": 1
}
